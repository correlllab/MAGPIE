{
 "cells": [
  {
   "cell_type": "code",
   "execution_count": 1,
   "metadata": {},
   "outputs": [],
   "source": [
    "import sys\n",
    "sys.path.append('../')\n",
    "\n",
    "from magpie import grasp as gt\n",
    "import rtde_control\n",
    "import rtde_receive\n",
    "from magpie.motor_code import Motors\n",
    "from magpie import ur5 as ur5\n",
    "import time\n",
    "import numpy as np\n",
    "import copy\n",
    "import magpie\n",
    "from magpie.gripper import Gripper\n",
    "from magpie import poses"
   ]
  },
  {
   "cell_type": "code",
   "execution_count": 2,
   "metadata": {},
   "outputs": [
    {
     "name": "stdout",
     "output_type": "stream",
     "text": [
      "Jupyter environment detected. Enabling Open3D WebVisualizer.\n",
      "[Open3D INFO] WebRTC GUI backend enabled.\n",
      "[Open3D INFO] WebRTCWindowSystem: HTTP handshake server disabled.\n",
      "{'D435': '926522071700', 'D405': '126122270157'}\n"
     ]
    }
   ],
   "source": [
    "from magpie import realsense_wrapper\n",
    "import asyncio\n",
    "from concurrent.futures import ThreadPoolExecutor\n",
    "\n",
    "devices = realsense_wrapper.poll_devices()\n",
    "print(devices)\n",
    "rsc = realsense_wrapper.RealSense()\n",
    "rsc.initConnection(device_serial=devices['D405'])\n"
   ]
  },
  {
   "cell_type": "code",
   "execution_count": 3,
   "metadata": {},
   "outputs": [
    {
     "data": {
      "text/plain": [
       "(PointCloud with 0 points.,\n",
       " RGBDImage of size \n",
       " Color image : 1280x720, with 3 channels.\n",
       " Depth image : 1280x720, with 1 channels.\n",
       " Use numpy.asarray to access buffer data.)"
      ]
     },
     "execution_count": 3,
     "metadata": {},
     "output_type": "execute_result"
    }
   ],
   "source": [
    "rsc.getPCD()"
   ]
  },
  {
   "cell_type": "code",
   "execution_count": 4,
   "metadata": {},
   "outputs": [],
   "source": [
    "devices = realsense_wrapper.poll_devices()\n",
    "workspace_rs = realsense_wrapper.RealSense(zMax=5, fps=15)\n",
    "# workspace_rs.initConnection(device_serial=devices['D435'], enable_depth=False)\n",
    "workspace_rs.initConnection(device_serial=devices['D435'])"
   ]
  },
  {
   "cell_type": "code",
   "execution_count": 2,
   "metadata": {},
   "outputs": [
    {
     "data": {
      "text/plain": [
       "<module 'magpie.ur5' from '/home/will/MAGPIE/tests/../magpie/ur5.py'>"
      ]
     },
     "execution_count": 2,
     "metadata": {},
     "output_type": "execute_result"
    }
   ],
   "source": [
    "import importlib\n",
    "importlib.reload(ur5)"
   ]
  },
  {
   "cell_type": "code",
   "execution_count": 5,
   "metadata": {},
   "outputs": [
    {
     "name": "stdout",
     "output_type": "stream",
     "text": [
      "[[ 0.507  0.635  0.583  0.034]\n",
      " [ 0.462 -0.771  0.438 -0.047]\n",
      " [-0.728 -0.047  0.684  0.379]\n",
      " [ 0.     0.     0.     1.   ]]\n"
     ]
    }
   ],
   "source": [
    "tmat = np.array([[ 0.50676157,  0.63485957,  0.58322041,  0.03397274],\n",
    "        [ 0.46190666, -0.77117344,  0.43810246, -0.04689727],\n",
    "        [-0.72789762, -0.0473799 ,  0.68404692,  0.37931564],\n",
    "        [ 0.        ,  0.        ,  0.        ,  1.        ]])\n",
    "\n",
    "z_offset = 0.10\n",
    "# z_offset += -0.045\n",
    "\n",
    "# eye = np.eye(4)\n",
    "# eye[2, 3] = -z_offset\n",
    "\n",
    "# tmat = tmat @ eye\n",
    "print(tmat)\n",
    "# aperture = 37\n",
    "# # z_offset = G.aperture_to_z(aperture)/1000.0\n",
    "\n",
    "# mmc = copy.deepcopy(tmat[:3, 3])\n",
    "# gripper_offset = [0.012, 0.006, 0.221] # x, y, z offset\n",
    "# grasp_pose = mmc - gripper_offset\n",
    "\n",
    "# # make identity matrix with grasp_pose as translation\n",
    "# tmat_offset = np.eye(4)\n",
    "# tmat_offset[:3, 3] = grasp_pose\n",
    "# print(tmat_offset)\n",
    "\n",
    "# tmat[:3, 3] = [0, 0, 0]\n",
    "homePose = None"
   ]
  },
  {
   "cell_type": "code",
   "execution_count": 8,
   "metadata": {},
   "outputs": [],
   "source": [
    "def robot_motion():\n",
    "    sleepRate = 1.5\n",
    "    # time.sleep(sleepRate)\n",
    "    ur = ur5.UR5_Interface()\n",
    "    try:\n",
    "        ur.start()\n",
    "        homePose = ur.get_tcp_pose()\n",
    "        ur.move_tcp_cartesian(tmat)\n",
    "        time.sleep(sleepRate * 1.2)# offset_pose = gt.get_world_frame(mmc, ur, -offset)\n",
    "        ur.stop()\n",
    "    except Exception as e:\n",
    "        ur.stop()\n",
    "        raise(e)\n"
   ]
  },
  {
   "cell_type": "code",
   "execution_count": 9,
   "metadata": {},
   "outputs": [
    {
     "name": "stdout",
     "output_type": "stream",
     "text": [
      "Succeeded to open the port\n",
      "Succeeded to change the baudrate\n",
      "Recording Started\n",
      "Recording Started\n",
      "Stopping Recording\n",
      "Recording Task Cancelled\n",
      "Recording Stopped\n",
      "Stopping Recording\n",
      "Recording Task Cancelled\n",
      "Recording Stopped\n"
     ]
    }
   ],
   "source": [
    "cp_dict = {rsc: 'record/wrist/', workspace_rs: 'record/workspace/'}\n",
    "async def main():\n",
    "\n",
    "    # rsc.begin_record(filepath='record/wrist/')\n",
    "    # workspace_rs.begin_record(filepath='record/workspace/')\n",
    "    ur = ur5.UR5_Interface()\n",
    "    ur.start()\n",
    "    for camera in cp_dict:\n",
    "        camera.begin_record(filepath=cp_dict[camera])\n",
    "    await asyncio.sleep(1)\n",
    "    loop = asyncio.get_event_loop()\n",
    "    with ThreadPoolExecutor() as pool:\n",
    "        # await loop.run_in_executor(pool, robot_motion)\n",
    "        await loop.run_in_executor(pool, ur.move_tcp_cartesian, tmat)\n",
    "        await asyncio.sleep(0.5 * 3)\n",
    "    for camera in cp_dict:\n",
    "        await camera.stop_record()\n",
    "    ur.stop_recording()\n",
    "    ur.stop()\n",
    "    # await rsc.stop_record()\n",
    "    # await workspace_rs.stop_record()\n",
    "\n",
    "\n",
    "await main()"
   ]
  },
  {
   "cell_type": "code",
   "execution_count": 7,
   "metadata": {},
   "outputs": [
    {
     "name": "stdout",
     "output_type": "stream",
     "text": [
      "Recording Started\n",
      "Succeeded to open the port\n",
      "Succeeded to change the baudrate\n",
      "Stopping Recording\n",
      "Recording Task Cancelled\n",
      "Recording Stopped\n"
     ]
    }
   ],
   "source": [
    "rsc.begin_record(filepath='record/')\n",
    "loop = asyncio.get_event_loop()\n",
    "with ThreadPoolExecutor() as pool:\n",
    "    await loop.run_in_executor(pool, robot_motion)\n",
    "await rsc.stop_record()\n",
    "\n"
   ]
  },
  {
   "cell_type": "code",
   "execution_count": 16,
   "metadata": {},
   "outputs": [
    {
     "name": "stdout",
     "output_type": "stream",
     "text": [
      "Succeeded to open the port\n",
      "Succeeded to change the baudrate\n"
     ]
    }
   ],
   "source": [
    "ur = ur5.UR5_Interface()\n",
    "try:\n",
    "    ur.start()\n",
    "    ur.close_gripper()\n",
    "    # ur.open_gripper()\n",
    "    time.sleep(sleepRate)\n",
    "    ur.stop()\n",
    "except Exception as e:\n",
    "    ur.stop()\n",
    "    raise(e)"
   ]
  },
  {
   "cell_type": "code",
   "execution_count": 12,
   "metadata": {},
   "outputs": [
    {
     "name": "stdout",
     "output_type": "stream",
     "text": [
      "Succeeded to open the port\n",
      "Succeeded to change the baudrate\n"
     ]
    }
   ],
   "source": [
    "# move home\n",
    "ur = ur5.UR5_Interface()\n",
    "try:\n",
    "    ur.start()\n",
    "    # ur.open_gripper()\n",
    "    # time.sleep(sleepRate)\n",
    "    # homePose = np.array([[-0.024, -0.998, -0.062, -0.261],\n",
    "    #                     [-0.999,  0.021,  0.035, -0.162],\n",
    "    #                     [-0.033,  0.063, -0.997,  0.221],\n",
    "    #                     [ 0.   ,  0.   ,  0.   ,  1.   ]])\n",
    "    ur.moveL(homePose)\n",
    "    # gt_home = ur.getPose()\n",
    "    # print(np.array(gt_home))\n",
    "    time.sleep(sleepRate * 1.1)\n",
    "    ur.stop()\n",
    "except Exception as e:\n",
    "    ur.stop()"
   ]
  },
  {
   "cell_type": "code",
   "execution_count": 4,
   "metadata": {},
   "outputs": [
    {
     "name": "stdout",
     "output_type": "stream",
     "text": [
      "Succeeded to open the port\n",
      "Succeeded to change the baudrate\n",
      "[TxRxResult] Incorrect status packet!\n",
      "[TxRxResult] There is no status packet!\n",
      "[TxRxResult] There is no status packet!\n",
      "[TxRxResult] There is no status packet!\n",
      "[[ 1.     0.004 -0.004  0.077]\n",
      " [ 0.004 -1.     0.022 -0.318]\n",
      " [-0.004 -0.022 -1.     0.089]\n",
      " [ 0.     0.     0.     1.   ]]\n",
      "P_goal:\n",
      "[-0.008  0.006 -0.09 ]\n",
      "Done moving to block\n"
     ]
    }
   ],
   "source": [
    "# # move gripper to cartesian pos\n",
    "# # OR orient gripper in place\n",
    "# sleepRate = 1.5\n",
    "# # time.sleep(sleepRate)\n",
    "# ur = ur5.UR5_Interface()\n",
    "# try:\n",
    "#     ur.start()\n",
    "#     homePose = ur.get_tcp_pose()\n",
    "#     # homePose = ur.getPose()\n",
    "#     # print(\"Home pose: \", homePose)\n",
    "    \n",
    "#     # in-place (or best attempt) re-orientation\n",
    "#     # currentPose = ur.getPose()\n",
    "#     # desiredPose = np.matmul(np.array(currentPose), tmat)\n",
    "#     # ur.moveL(desiredPose)\n",
    "#     # time.sleep(sleepRate * 1.2)\n",
    "\n",
    "#     ## move to cartesian pos\n",
    "#     gt.move_to_L(grasp_pose, ur, z_offset=z_offset)    \n",
    "#     print(\"Done moving to block\")\n",
    "#     time.sleep(sleepRate * 1.2)\n",
    "#     ur.close_gripper()\n",
    "\n",
    "#     ur.stop()\n",
    "# except Exception as e:\n",
    "#     ur.stop()\n",
    "#     raise(e)"
   ]
  }
 ],
 "metadata": {
  "kernelspec": {
   "display_name": "Python 3",
   "language": "python",
   "name": "python3"
  },
  "language_info": {
   "codemirror_mode": {
    "name": "ipython",
    "version": 3
   },
   "file_extension": ".py",
   "mimetype": "text/x-python",
   "name": "python",
   "nbconvert_exporter": "python",
   "pygments_lexer": "ipython3",
   "version": "3.10.12"
  }
 },
 "nbformat": 4,
 "nbformat_minor": 2
}
