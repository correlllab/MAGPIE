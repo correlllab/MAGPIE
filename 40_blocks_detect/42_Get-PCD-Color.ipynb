{
 "cells": [
  {
   "cell_type": "code",
   "execution_count": 1,
   "id": "d2522163-af19-49d3-a13e-a38ee234de97",
   "metadata": {},
   "outputs": [
    {
     "name": "stdout",
     "output_type": "stream",
     "text": [
      "Jupyter environment detected. Enabling Open3D WebVisualizer.\n",
      "[Open3D INFO] WebRTC GUI backend enabled.\n",
      "[Open3D INFO] WebRTCWindowSystem: HTTP handshake server disabled.\n"
     ]
    }
   ],
   "source": [
    "import open3d as o3d\n",
    "import numpy as np\n",
    "import pyrealsense2 as rs\n",
    "import matplotlib.pyplot as plt"
   ]
  },
  {
   "cell_type": "code",
   "execution_count": 2,
   "id": "8d61df01-77a0-4e83-8195-2fa68d67af01",
   "metadata": {},
   "outputs": [],
   "source": [
    "\n",
    "class RealSense:\n",
    "    \"\"\" Wrapper for D405 \"\"\"\n",
    "    \n",
    "    def __init__( self, zMax=0.5, voxelSize = 0.001 ):\n",
    "        \"\"\" Init vars \"\"\"\n",
    "        self.pinholeIntrinsics = None  # set in self.takeImages()\n",
    "        self.zMax = zMax  # max distance for objects in depth images (m)\n",
    "        # downsample point cloud with voxel size = 1 mm (0.001 m / 0.04 in)\n",
    "        self.voxelSize = voxelSize\n",
    "        self.pcd = o3d.geometry.PointCloud()  # current pcd from realsense\n",
    "        self.extrinsics = np.eye(4)  # extrinsic parameters of the camera frame 4 x 4 numpy array\n",
    "        self.cameraFrameTransform = np.eye(4)\n",
    "        self.pipe, self.config = None, None\n",
    "\n",
    "    def initConnection( self ):\n",
    "        \"\"\" Connect to camera \"\"\"\n",
    "        # Initializes connection to realsense, sets pipe,config values\n",
    "        self.pipe = rs.pipeline()\n",
    "        self.config = rs.config()\n",
    "\n",
    "        # Getting information about the connected realsense model (device object) - D405\n",
    "        pipeProfile = self.config.resolve(rs.pipeline_wrapper(self.pipe))\n",
    "        device = pipeProfile.get_device()\n",
    "        depth_sensor = device.first_depth_sensor()\n",
    "        self.depthScale = depth_sensor.get_depth_scale()\n",
    "        # print(depth_scale)\n",
    "\n",
    "        # 1 - default, 2 - hand, 3 - high accuracy, 4 - high density, 5 - medium density\n",
    "        depth_sensor.set_option( rs.option.visual_preset, 4 )  # 4 corresponds to high-density option\n",
    "\n",
    "        # Setting attributes for stream\n",
    "        # Depth Stream (1280 x 720) 5 fps - D405 Sensor has max 1280 x 720\n",
    "        # (Minimum z depth is between 55-70 mm)\n",
    "        self.config.enable_stream(rs.stream.depth, 1280, 720, rs.format.z16, 5)\n",
    "\n",
    "        # Color and Infrared D405 Streams Available (1280 x 720) 5 fps - D405 Sensor has max 1280 x 720\n",
    "        self.config.enable_stream(rs.stream.color, 1280, 720, rs.format.rgb8, 5)\n",
    "\n",
    "        # Starting the pipeline based on the specified configuration\n",
    "        self.pipe.start( self.config )\n",
    "\n",
    "    def getPinholeInstrinsics( self, frame ):\n",
    "        \"\"\" Get idealized camera model \"\"\"\n",
    "        # frame is a subclass of pyrealsense2.video_frame (depth_frame,etc)\n",
    "        intrinsics = frame.profile.as_video_stream_profile().intrinsics\n",
    "        return o3d.camera.PinholeCameraIntrinsic(intrinsics.width, intrinsics.height, intrinsics.fx,\n",
    "                                                 intrinsics.fy, intrinsics.ppx,\n",
    "                                                 intrinsics.ppy)\n",
    "\n",
    "    def takeImages( self, save=False ):\n",
    "        \"\"\" Capture RGBD Image \"\"\"\n",
    "        # Takes RGBD Image using Realsense\n",
    "        # intrinsic and extrinsic parameters are NOT applied only in getPCD()\n",
    "        # out: Open3D RGBDImage\n",
    "        pipe, config = self.pipe, self.config\n",
    "\n",
    "        frames = pipe.wait_for_frames()\n",
    "        depthFrame = frames.get_depth_frame()  # pyrealsense2.depth_frame\n",
    "        colorFrame = frames.get_color_frame()\n",
    "\n",
    "        # Sets class value for intrinsic pinhole parameters\n",
    "        self.pinholeInstrinsics = self.getPinholeInstrinsics(colorFrame)\n",
    "        # asign extrinsics here if the camera pose is known\n",
    "        # alignOperator maps depth frames to color frames\n",
    "        alignOperator = rs.align(rs.stream.color)\n",
    "        alignOperator.process(frames)\n",
    "        alignedDepthFrame, alignedColorFrame = frames.get_depth_frame(), frames.get_color_frame()\n",
    "\n",
    "        # unmodified rgb and z images as numpy arrays of 3 and 1 channels\n",
    "        rawColorImage = np.array(alignedColorFrame.get_data())\n",
    "        rawDepthImage = np.asarray(alignedDepthFrame.get_data())\n",
    "\n",
    "        rawRGBDImage = o3d.geometry.RGBDImage.create_from_color_and_depth(\n",
    "            o3d.geometry.Image(rawColorImage),\n",
    "            o3d.geometry.Image(rawDepthImage.astype('uint16')),\n",
    "            depth_scale=1.0 / self.depthScale,\n",
    "            depth_trunc=self.zMax,\n",
    "            convert_rgb_to_intensity=False\n",
    "        )\n",
    "\n",
    "        if save:\n",
    "            subFix = str(time.time())\n",
    "            np.save(f\"depthImage{subFix}\", rawRGBDImage.depth)\n",
    "            np.save(f\"colorImage{subFix}\", rawRGBDImage.color)\n",
    "            colorIM = Image.fromarray(rawColorImage)\n",
    "            colorIM.save(f\"colorImage{subFix}.jpeg\")\n",
    "        return rawRGBDImage\n",
    "\n",
    "    def getPCD( self, save = False ):\n",
    "        \"\"\" Return both a point cloud and an RGB-D image \"\"\"\n",
    "        # Takes images and returns a PCD and RGBD Image\n",
    "        # Applies extrinsics and zMax\n",
    "        # Downsamples PCD based on self.voxelSize\n",
    "        # :save boolean that toggles whether to save data\n",
    "        # out: tuple of (open3d point cloud (o3d.geometry.PointCloud),RGBDImage)\n",
    "        rawRGBDImage = self.takeImages()\n",
    "        pcd = o3d.geometry.PointCloud.create_from_rgbd_image(\n",
    "            rawRGBDImage,\n",
    "            self.pinholeInstrinsics,\n",
    "            project_valid_depth_only = True,\n",
    "            extrinsic = self.extrinsics\n",
    "        )\n",
    "\n",
    "        # Don't downsample\n",
    "        # downsampledPCD = pcd.voxel_down_sample(voxel_size=self.voxelSize)\n",
    "        if save:\n",
    "            subFix = time.time()\n",
    "            np.save(f\"colorImage{subFix}\", np.array(rawRGBDImage.color))\n",
    "            np.save(f\"depthImage{subFix}\", np.array(rawRGBDImage.depth))\n",
    "            o3d.io.write_point_cloud(f\"pcd{subFix}.pcd\", downsampledPCD)\n",
    "        return pcd, rawRGBDImage\n",
    "\n",
    "    def displayImages( self, depthImg, colorImg ):\n",
    "        \"\"\" Displays a depth and color image given the rgbdImage \"\"\"\n",
    "        plt.subplot(1, 2, 1)\n",
    "        plt.title(\"RealSense Color Image\")\n",
    "        plt.imshow(depthImg)\n",
    "        plt.subplot(1, 2, 2)\n",
    "        plt.title(\"RealSense Depth Image\")\n",
    "        plt.imshow(colorImg)\n",
    "        plt.show()\n",
    "\n",
    "    def displayPCD(self, pcds):\n",
    "        \"\"\" Displays a list of point clouds given an array of pcd's. Displays camera frame if self.extrinsics != None \"\"\"\n",
    "        # flip_transform = [[1, 0, 0, 0], [0, -1, 0, 0], [0, 0, -1, 0], [0, 0, 0, 1]]\n",
    "        # pcd.transform(flip_transform)\n",
    "        worldFrame = o3d.geometry.TriangleMesh.create_coordinate_frame(size=0.075, origin=[0, 0, 0])\n",
    "        if (self.extrinsics is None) == False:\n",
    "            cameraFrame = o3d.geometry.TriangleMesh.create_coordinate_frame(size=0.075)\n",
    "            cameraFrame.transform(self.cameraFrameTransform)\n",
    "            res = [worldFrame, cameraFrame]\n",
    "            res.extend(pcds)\n",
    "            baseSphere = o3d.geometry.TriangleMesh.create_sphere(radius=0.025)\n",
    "            res.append(baseSphere)\n",
    "            o3d.visualization.draw_geometries(res)\n",
    "        else:\n",
    "            res = [worldFrame].extend(pcds)\n",
    "            o3d.visualization.draw_geometries(res)\n",
    "\n",
    "    def displayStream(self):\n",
    "        \"\"\" streams and displays the point cloud data in open3d \"\"\"\n",
    "        # pipe,config are stream properties set in the earlier cells\n",
    "        # Streaming loop\n",
    "        pipe, config = self.pipe, self.config\n",
    "        vis = o3d.visualization.Visualizer()\n",
    "        vis.create_window()\n",
    "        framesTaken = 0\n",
    "        displayedPCD = o3d.geometry.PointCloud()\n",
    "        try:\n",
    "            while True:\n",
    "                temp = self.getPCD()[0]\n",
    "                displayedPCD.points = temp.points\n",
    "                displayedPCD.colors = temp.colors\n",
    "                if framesTaken == 0:\n",
    "                    vis.add_geometry(displayedPCD)\n",
    "                    worldFrame = o3d.geometry.TriangleMesh.create_coordinate_frame(size=0.25, origin=[0, 0, 0])\n",
    "                    vis.add_geometry(worldFrame)\n",
    "                vis.update_geometry(displayedPCD)\n",
    "                framesTaken += 1\n",
    "                t0 = time.time()\n",
    "                vis.poll_events()\n",
    "                vis.update_renderer()\n",
    "                # time.sleep(5)\n",
    "        except Exception as e:\n",
    "            print(f\"Stream Issue. Exception Raised\")\n",
    "            # raise(e)\n",
    "        # closes window when cell is stopped (exception raised)\n",
    "        finally:\n",
    "            vis.destroy_window()\n",
    "            # pipe.stop()"
   ]
  },
  {
   "cell_type": "code",
   "execution_count": 3,
   "id": "272048a6-7bcd-4b09-8f16-017b2b910d3d",
   "metadata": {},
   "outputs": [],
   "source": [
    "cam = RealSense()\n",
    "cam.initConnection()\n",
    "pcd, rgbdImg = cam.getPCD()"
   ]
  },
  {
   "cell_type": "code",
   "execution_count": 4,
   "id": "ca18fcba-f3d4-4192-9917-d6e6c3ea9a36",
   "metadata": {},
   "outputs": [
    {
     "name": "stdout",
     "output_type": "stream",
     "text": [
      "<class 'numpy.ndarray'>\n",
      "[0.32941176 0.2627451  0.15686275]\n"
     ]
    }
   ],
   "source": [
    "print( type( pcd.colors[0] ) )\n",
    "print( pcd.colors[0] )"
   ]
  },
  {
   "cell_type": "code",
   "execution_count": 5,
   "id": "7e621c73-ca46-43e2-bbc4-34440adae21f",
   "metadata": {},
   "outputs": [
    {
     "name": "stdout",
     "output_type": "stream",
     "text": [
      "(3,)\n"
     ]
    }
   ],
   "source": [
    "print( pcd.points[0].shape )"
   ]
  },
  {
   "cell_type": "code",
   "execution_count": 6,
   "id": "3c1feb4d-b3dd-4a46-b090-3a60174a3ebe",
   "metadata": {},
   "outputs": [
    {
     "name": "stdout",
     "output_type": "stream",
     "text": [
      "<class 'open3d.cuda.pybind.geometry.PointCloud'>\n",
      "['HalfEdgeTriangleMesh', 'Image', 'LineSet', 'PointCloud', 'RGBDImage', 'TetraMesh', 'TriangleMesh', 'Type', 'Unspecified', 'VoxelGrid', '__add__', '__class__', '__copy__', '__deepcopy__', '__delattr__', '__dir__', '__doc__', '__eq__', '__format__', '__ge__', '__getattribute__', '__gt__', '__hash__', '__iadd__', '__init__', '__init_subclass__', '__le__', '__lt__', '__module__', '__ne__', '__new__', '__reduce__', '__reduce_ex__', '__repr__', '__setattr__', '__sizeof__', '__str__', '__subclasshook__', 'clear', 'cluster_dbscan', 'colors', 'compute_convex_hull', 'compute_mahalanobis_distance', 'compute_mean_and_covariance', 'compute_nearest_neighbor_distance', 'compute_point_cloud_distance', 'covariances', 'create_from_depth_image', 'create_from_rgbd_image', 'crop', 'detect_planar_patches', 'dimension', 'estimate_covariances', 'estimate_normals', 'estimate_point_covariances', 'farthest_point_down_sample', 'get_axis_aligned_bounding_box', 'get_center', 'get_geometry_type', 'get_max_bound', 'get_min_bound', 'get_minimal_oriented_bounding_box', 'get_oriented_bounding_box', 'get_rotation_matrix_from_axis_angle', 'get_rotation_matrix_from_quaternion', 'get_rotation_matrix_from_xyz', 'get_rotation_matrix_from_xzy', 'get_rotation_matrix_from_yxz', 'get_rotation_matrix_from_yzx', 'get_rotation_matrix_from_zxy', 'get_rotation_matrix_from_zyx', 'has_colors', 'has_covariances', 'has_normals', 'has_points', 'hidden_point_removal', 'is_empty', 'normalize_normals', 'normals', 'orient_normals_consistent_tangent_plane', 'orient_normals_to_align_with_direction', 'orient_normals_towards_camera_location', 'paint_uniform_color', 'points', 'random_down_sample', 'remove_duplicated_points', 'remove_non_finite_points', 'remove_radius_outlier', 'remove_statistical_outlier', 'rotate', 'scale', 'segment_plane', 'select_by_index', 'transform', 'translate', 'uniform_down_sample', 'voxel_down_sample', 'voxel_down_sample_and_trace']\n"
     ]
    }
   ],
   "source": [
    "# cam.displayPCD( [pcd] )\n",
    "print( type( pcd ) )\n",
    "print( dir( pcd ) )"
   ]
  },
  {
   "cell_type": "code",
   "execution_count": 7,
   "id": "c9b3b812-c1a2-4fb9-bf0a-89e42a0b275e",
   "metadata": {},
   "outputs": [],
   "source": [
    "pcd_tree = o3d.geometry.KDTreeFlann( pcd )"
   ]
  },
  {
   "cell_type": "code",
   "execution_count": 8,
   "id": "98fd55be-1a45-42f3-931c-653c4d0b8e99",
   "metadata": {},
   "outputs": [
    {
     "name": "stdout",
     "output_type": "stream",
     "text": [
      "10\n",
      "IntVector[1500, 1395, 1499, 1609, 1394, 1608, 1718, 1289, 1290, 1610]\n"
     ]
    }
   ],
   "source": [
    "[k, idx, _] = pcd_tree.search_knn_vector_3d( pcd.points[1500], 10 )\n",
    "\n",
    "print( k ) \n",
    "print( idx ) "
   ]
  },
  {
   "cell_type": "code",
   "execution_count": null,
   "id": "b6d0e9d4-3b7d-433b-b596-fc6a5a1399f4",
   "metadata": {},
   "outputs": [],
   "source": []
  }
 ],
 "metadata": {
  "kernelspec": {
   "display_name": "Python 3 (ipykernel)",
   "language": "python",
   "name": "python3"
  },
  "language_info": {
   "codemirror_mode": {
    "name": "ipython",
    "version": 3
   },
   "file_extension": ".py",
   "mimetype": "text/x-python",
   "name": "python",
   "nbconvert_exporter": "python",
   "pygments_lexer": "ipython3",
   "version": "3.9.18"
  }
 },
 "nbformat": 4,
 "nbformat_minor": 5
}
