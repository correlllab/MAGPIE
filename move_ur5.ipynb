{
 "cells": [
  {
   "cell_type": "code",
   "execution_count": 2,
   "metadata": {},
   "outputs": [],
   "source": [
    "from magpie import grasp as gt\n",
    "import rtde_control\n",
    "import rtde_receive\n",
    "from magpie.motor_code import Motors\n",
    "from magpie import ur5 as ur5\n",
    "import time\n",
    "import numpy as np\n",
    "import copy\n",
    "import magpie\n",
    "from magpie.gripper import Gripper\n",
    "from magpie import poses"
   ]
  },
  {
   "cell_type": "code",
   "execution_count": 8,
   "metadata": {},
   "outputs": [
    {
     "data": {
      "text/plain": [
       "<module 'magpie.ur5' from '/home/will/MAGPIE/magpie/ur5.py'>"
      ]
     },
     "execution_count": 8,
     "metadata": {},
     "output_type": "execute_result"
    }
   ],
   "source": [
    "import importlib\n",
    "importlib.reload(ur5)"
   ]
  },
  {
   "cell_type": "code",
   "execution_count": 32,
   "metadata": {},
   "outputs": [],
   "source": [
    "# dict of z-value vs z-offset\n",
    "# 0.278: 0.1"
   ]
  },
  {
   "cell_type": "code",
   "execution_count": 13,
   "metadata": {},
   "outputs": [
    {
     "name": "stdout",
     "output_type": "stream",
     "text": [
      "[[ 4.046e-01  8.328e-01 -3.778e-01 -1.884e-04]\n",
      " [-5.801e-01  5.531e-01  5.979e-01 -2.426e-02]\n",
      " [ 7.069e-01 -2.281e-02  7.069e-01  3.878e-01]\n",
      " [ 0.000e+00  0.000e+00  0.000e+00  1.000e+00]]\n",
      "[[ 1.     0.     0.    -0.012]\n",
      " [ 0.     1.     0.    -0.03 ]\n",
      " [ 0.     0.     1.     0.167]\n",
      " [ 0.     0.     0.     1.   ]]\n"
     ]
    }
   ],
   "source": [
    "tmat = np.array([[ 4.04647815e-01,  8.32794272e-01, -3.77774862e-01,\n",
    "         -1.88390845e-04],\n",
    "        [-5.80105862e-01,  5.53112486e-01,  5.97949635e-01,\n",
    "         -2.42551539e-02],\n",
    "        [ 7.06921024e-01, -2.28096015e-02,  7.06924598e-01,\n",
    "          3.87766416e-01],\n",
    "        [ 0.00000000e+00,  0.00000000e+00,  0.00000000e+00,\n",
    "          1.00000000e+00]])\n",
    "\n",
    "z_offset = 0.10\n",
    "# z_offset += -0.045\n",
    "\n",
    "# eye = np.eye(4)\n",
    "# eye[2, 3] = -z_offset\n",
    "\n",
    "# tmat = tmat @ eye\n",
    "print(tmat)\n",
    "aperture = 37\n",
    "# z_offset = G.aperture_to_z(aperture)/1000.0\n",
    "\n",
    "mmc = copy.deepcopy(tmat[:3, 3])\n",
    "gripper_offset = [0.012, 0.006, 0.221] # x, y, z offset\n",
    "grasp_pose = mmc - gripper_offset\n",
    "\n",
    "# make identity matrix with grasp_pose as translation\n",
    "tmat_offset = np.eye(4)\n",
    "tmat_offset[:3, 3] = grasp_pose\n",
    "print(tmat_offset)\n",
    "\n",
    "# tmat[:3, 3] = [0, 0, 0]\n",
    "homePose = None"
   ]
  },
  {
   "cell_type": "code",
   "execution_count": 14,
   "metadata": {},
   "outputs": [
    {
     "name": "stdout",
     "output_type": "stream",
     "text": [
      "Succeeded to open the port\n",
      "Succeeded to change the baudrate\n",
      "[[ 1.     0.     0.    -0.012]\n",
      " [ 0.     1.     0.    -0.03 ]\n",
      " [ 0.     0.     1.     0.167]\n",
      " [ 0.     0.     0.     1.   ]]\n",
      "[[-0.997 -0.063  0.034 -0.18 ]\n",
      " [-0.07   0.965 -0.252 -0.34 ]\n",
      " [-0.017 -0.254 -0.967  0.248]\n",
      " [ 0.     0.     0.     1.   ]]\n"
     ]
    }
   ],
   "source": [
    "# move gripper to cartesian pos\n",
    "# OR orient gripper in place\n",
    "sleepRate = 1.5\n",
    "# time.sleep(sleepRate)\n",
    "ur = ur5.UR5_Interface()\n",
    "try:\n",
    "    ur.start()\n",
    "    # ur.open_gripper()\n",
    "    homePose = ur.get_tcp_pose()\n",
    "    # wristPose = ur.getPose()\n",
    "    # wrist = np.array(wristPose)\n",
    "    # # tmat[:3, 3] -= gripper_offset\n",
    "    # print(wrist)\n",
    "    # print(wrist @ tmat_offset)\n",
    "    # desired_pose = wrist @ tmat_offset\n",
    "    # ur.moveL(desired_pose)\n",
    "    ur.move_tcp_cartesian(tmat)\n",
    "    time.sleep(sleepRate * 1.2)# offset_pose = gt.get_world_frame(mmc, ur, -offset)\n",
    "    # desiredPose = np.array(wristPose)\n",
    "    # desiredPose[:3, 3] += offset_pose\n",
    "    # print(desiredPose)\n",
    "    ur.stop()\n",
    "except Exception as e:\n",
    "    ur.stop()\n",
    "    raise(e)"
   ]
  },
  {
   "cell_type": "code",
   "execution_count": 16,
   "metadata": {},
   "outputs": [
    {
     "name": "stdout",
     "output_type": "stream",
     "text": [
      "Succeeded to open the port\n",
      "Succeeded to change the baudrate\n"
     ]
    }
   ],
   "source": [
    "ur = ur5.UR5_Interface()\n",
    "try:\n",
    "    ur.start()\n",
    "    ur.close_gripper()\n",
    "    # ur.open_gripper()\n",
    "    time.sleep(sleepRate)\n",
    "    ur.stop()\n",
    "except Exception as e:\n",
    "    ur.stop()\n",
    "    raise(e)"
   ]
  },
  {
   "cell_type": "code",
   "execution_count": 17,
   "metadata": {},
   "outputs": [
    {
     "name": "stdout",
     "output_type": "stream",
     "text": [
      "Succeeded to open the port\n",
      "Succeeded to change the baudrate\n"
     ]
    }
   ],
   "source": [
    "# move home\n",
    "ur = ur5.UR5_Interface()\n",
    "try:\n",
    "    ur.start()\n",
    "    ur.open_gripper()\n",
    "    # time.sleep(sleepRate)\n",
    "    # homePose = np.array([[-0.024, -0.998, -0.062, -0.261],\n",
    "    #                     [-0.999,  0.021,  0.035, -0.162],\n",
    "    #                     [-0.033,  0.063, -0.997,  0.221],\n",
    "    #                     [ 0.   ,  0.   ,  0.   ,  1.   ]])\n",
    "    ur.moveL(homePose)\n",
    "    # gt_home = ur.getPose()\n",
    "    # print(np.array(gt_home))\n",
    "    time.sleep(sleepRate * 1.1)\n",
    "    ur.stop()\n",
    "except Exception as e:\n",
    "    ur.stop()"
   ]
  },
  {
   "cell_type": "code",
   "execution_count": 4,
   "metadata": {},
   "outputs": [
    {
     "name": "stdout",
     "output_type": "stream",
     "text": [
      "Succeeded to open the port\n",
      "Succeeded to change the baudrate\n",
      "[TxRxResult] Incorrect status packet!\n",
      "[TxRxResult] There is no status packet!\n",
      "[TxRxResult] There is no status packet!\n",
      "[TxRxResult] There is no status packet!\n",
      "[[ 1.     0.004 -0.004  0.077]\n",
      " [ 0.004 -1.     0.022 -0.318]\n",
      " [-0.004 -0.022 -1.     0.089]\n",
      " [ 0.     0.     0.     1.   ]]\n",
      "P_goal:\n",
      "[-0.008  0.006 -0.09 ]\n",
      "Done moving to block\n"
     ]
    }
   ],
   "source": [
    "# # move gripper to cartesian pos\n",
    "# # OR orient gripper in place\n",
    "# sleepRate = 1.5\n",
    "# # time.sleep(sleepRate)\n",
    "# ur = ur5.UR5_Interface()\n",
    "# try:\n",
    "#     ur.start()\n",
    "#     homePose = ur.get_tcp_pose()\n",
    "#     # homePose = ur.getPose()\n",
    "#     # print(\"Home pose: \", homePose)\n",
    "    \n",
    "#     # in-place (or best attempt) re-orientation\n",
    "#     # currentPose = ur.getPose()\n",
    "#     # desiredPose = np.matmul(np.array(currentPose), tmat)\n",
    "#     # ur.moveL(desiredPose)\n",
    "#     # time.sleep(sleepRate * 1.2)\n",
    "\n",
    "#     ## move to cartesian pos\n",
    "#     gt.move_to_L(grasp_pose, ur, z_offset=z_offset)    \n",
    "#     print(\"Done moving to block\")\n",
    "#     time.sleep(sleepRate * 1.2)\n",
    "#     ur.close_gripper()\n",
    "\n",
    "#     ur.stop()\n",
    "# except Exception as e:\n",
    "#     ur.stop()\n",
    "#     raise(e)"
   ]
  }
 ],
 "metadata": {
  "kernelspec": {
   "display_name": "Python 3",
   "language": "python",
   "name": "python3"
  },
  "language_info": {
   "codemirror_mode": {
    "name": "ipython",
    "version": 3
   },
   "file_extension": ".py",
   "mimetype": "text/x-python",
   "name": "python",
   "nbconvert_exporter": "python",
   "pygments_lexer": "ipython3",
   "version": "3.10.12"
  }
 },
 "nbformat": 4,
 "nbformat_minor": 2
}
