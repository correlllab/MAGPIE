{
 "cells": [
  {
   "cell_type": "code",
   "execution_count": 1,
   "metadata": {},
   "outputs": [],
   "source": [
    "from magpie import grasp as gt\n",
    "import rtde_control\n",
    "import rtde_receive\n",
    "from magpie.motor_code import Motors\n",
    "from magpie import ur5 as ur5\n",
    "import time\n",
    "import numpy as np\n",
    "import copy\n",
    "import magpie\n",
    "from magpie.gripper import Gripper\n",
    "from magpie import poses"
   ]
  },
  {
   "cell_type": "code",
   "execution_count": 32,
   "metadata": {},
   "outputs": [],
   "source": [
    "# dict of z-value vs z-offset\n",
    "# 0.278: 0.1"
   ]
  },
  {
   "cell_type": "code",
   "execution_count": 9,
   "metadata": {},
   "outputs": [
    {
     "name": "stdout",
     "output_type": "stream",
     "text": [
      "[[ 0.094  0.936  0.34  -0.004]\n",
      " [-0.45   0.344 -0.824 -0.011]\n",
      " [-0.888 -0.075  0.454  0.171]\n",
      " [ 0.     0.     0.     1.   ]]\n"
     ]
    }
   ],
   "source": [
    "tmat = np.array([[ 0.09428926,  0.93582841,  0.33960966, -0.00428812],\n",
    "        [-0.44995814,  0.34435828, -0.82398728, -0.01148746],\n",
    "        [-0.88805811, -0.07511698,  0.4535529 ,  0.17063418],\n",
    "        [ 0.        ,  0.        ,  0.        ,  1.        ]])\n",
    "\n",
    "z_offset = 0.10\n",
    "# z_offset += -0.045\n",
    "\n",
    "# eye = np.eye(4)\n",
    "# eye[2, 3] = -z_offset\n",
    "\n",
    "# tmat = tmat @ eye\n",
    "print(tmat)\n",
    "aperture = 37\n",
    "# z_offset = G.aperture_to_z(aperture)/1000.0\n",
    "\n",
    "mmc = copy.deepcopy(tmat[:3, 3])\n",
    "# grasp_pose = [mmc[1], -mmc[0], mmc[2]]\n",
    "grasp_pose = mmc\n",
    "# tmat[:3, 3] = [0, 0, 0]\n",
    "homePose = None\n"
   ]
  },
  {
   "cell_type": "code",
   "execution_count": 10,
   "metadata": {},
   "outputs": [
    {
     "name": "stdout",
     "output_type": "stream",
     "text": [
      "[[ 0.094  0.936  0.34  -0.004]\n",
      " [-0.45   0.344 -0.824 -0.011]\n",
      " [-0.888 -0.075  0.454  0.285]\n",
      " [ 0.     0.     0.     1.   ]]\n"
     ]
    }
   ],
   "source": [
    "offset = (309.63 - 195.0)/1000\n",
    "tmat[2, 3] += offset\n",
    "print(tmat)"
   ]
  },
  {
   "cell_type": "code",
   "execution_count": 14,
   "metadata": {},
   "outputs": [
    {
     "name": "stdout",
     "output_type": "stream",
     "text": [
      "Succeeded to open the port\n",
      "Succeeded to change the baudrate\n",
      "[[ 1.     0.004 -0.005  0.078]\n",
      " [ 0.004 -1.     0.022 -0.324]\n",
      " [-0.004 -0.022 -1.     0.31 ]\n",
      " [ 0.     0.     0.     1.   ]]\n",
      "[[ 0.096  0.938  0.334  0.073]\n",
      " [ 0.431 -0.342  0.835 -0.306]\n",
      " [ 0.897  0.063 -0.437  0.025]\n",
      " [ 0.     0.     0.     1.   ]]\n",
      "[[ 1.     0.004 -0.005  0.078]\n",
      " [ 0.004 -1.     0.022 -0.324]\n",
      " [-0.004 -0.022 -1.     0.31 ]\n",
      " [ 0.     0.     0.     1.   ]]\n",
      "P_goal:\n",
      "[-0.006  0.018 -0.285]\n",
      "[[ 1.     0.004 -0.005  0.073]\n",
      " [ 0.004 -1.     0.022 -0.306]\n",
      " [-0.004 -0.022 -1.     0.025]\n",
      " [ 0.     0.     0.     1.   ]]\n"
     ]
    }
   ],
   "source": [
    "# move gripper to cartesian pos\n",
    "# OR orient gripper in place\n",
    "sleepRate = 1.5\n",
    "# time.sleep(sleepRate)\n",
    "ur = ur5.UR5_Interface()\n",
    "try:\n",
    "    ur.start()\n",
    "    # homePose = ur.get_tcp_pose()\n",
    "    wristPose = ur.getPose()\n",
    "    wrist = np.array(wristPose)\n",
    "    print(wrist)\n",
    "    print(wrist @ tmat)\n",
    "    offset_pose = gt.get_world_frame(mmc, ur, -offset)\n",
    "    desiredPose = np.array(wristPose)\n",
    "    desiredPose[:3, 3] += offset_pose\n",
    "    print(desiredPose)\n",
    "    ur.stop()\n",
    "except Exception as e:\n",
    "    ur.stop()\n",
    "    raise(e)"
   ]
  },
  {
   "cell_type": "code",
   "execution_count": 4,
   "metadata": {},
   "outputs": [
    {
     "name": "stdout",
     "output_type": "stream",
     "text": [
      "Succeeded to open the port\n",
      "Succeeded to change the baudrate\n",
      "[TxRxResult] Incorrect status packet!\n",
      "[TxRxResult] There is no status packet!\n",
      "[TxRxResult] There is no status packet!\n",
      "[TxRxResult] There is no status packet!\n",
      "[[ 1.     0.004 -0.004  0.077]\n",
      " [ 0.004 -1.     0.022 -0.318]\n",
      " [-0.004 -0.022 -1.     0.089]\n",
      " [ 0.     0.     0.     1.   ]]\n",
      "P_goal:\n",
      "[-0.008  0.006 -0.09 ]\n",
      "Done moving to block\n"
     ]
    }
   ],
   "source": [
    "# # move gripper to cartesian pos\n",
    "# # OR orient gripper in place\n",
    "# sleepRate = 1.5\n",
    "# # time.sleep(sleepRate)\n",
    "# ur = ur5.UR5_Interface()\n",
    "# try:\n",
    "#     ur.start()\n",
    "#     homePose = ur.get_tcp_pose()\n",
    "#     # homePose = ur.getPose()\n",
    "#     # print(\"Home pose: \", homePose)\n",
    "    \n",
    "#     # in-place (or best attempt) re-orientation\n",
    "#     # currentPose = ur.getPose()\n",
    "#     # desiredPose = np.matmul(np.array(currentPose), tmat)\n",
    "#     # ur.moveL(desiredPose)\n",
    "#     # time.sleep(sleepRate * 1.2)\n",
    "\n",
    "#     ## move to cartesian pos\n",
    "#     gt.move_to_L(grasp_pose, ur, z_offset=z_offset)    \n",
    "#     print(\"Done moving to block\")\n",
    "#     time.sleep(sleepRate * 1.2)\n",
    "#     ur.close_gripper()\n",
    "\n",
    "#     ur.stop()\n",
    "# except Exception as e:\n",
    "#     ur.stop()\n",
    "#     raise(e)"
   ]
  },
  {
   "cell_type": "code",
   "execution_count": 5,
   "metadata": {},
   "outputs": [
    {
     "name": "stdout",
     "output_type": "stream",
     "text": [
      "Succeeded to open the port\n",
      "Succeeded to change the baudrate\n"
     ]
    }
   ],
   "source": [
    "# # move home\n",
    "# ur = ur5.UR5_Interface()\n",
    "# try:\n",
    "#     ur.start()\n",
    "#     ur.open_gripper()\n",
    "#     # time.sleep(sleepRate)\n",
    "#     # homePose = np.array([[-0.024, -0.998, -0.062, -0.261],\n",
    "#     #                     [-0.999,  0.021,  0.035, -0.162],\n",
    "#     #                     [-0.033,  0.063, -0.997,  0.221],\n",
    "#     #                     [ 0.   ,  0.   ,  0.   ,  1.   ]])\n",
    "#     ur.moveL(homePose)\n",
    "#     # gt_home = ur.getPose()\n",
    "#     # print(np.array(gt_home))\n",
    "#     time.sleep(sleepRate * 1.1)\n",
    "#     ur.stop()\n",
    "# except Exception as e:\n",
    "#     ur.stop()"
   ]
  }
 ],
 "metadata": {
  "kernelspec": {
   "display_name": "Python 3",
   "language": "python",
   "name": "python3"
  },
  "language_info": {
   "codemirror_mode": {
    "name": "ipython",
    "version": 3
   },
   "file_extension": ".py",
   "mimetype": "text/x-python",
   "name": "python",
   "nbconvert_exporter": "python",
   "pygments_lexer": "ipython3",
   "version": "3.10.12"
  }
 },
 "nbformat": 4,
 "nbformat_minor": 2
}
