{
 "cells": [
  {
   "cell_type": "markdown",
   "id": "237933d3-fe5b-4dcf-a39c-6c08c2fe3817",
   "metadata": {
    "tags": []
   },
   "source": [
    "# Init"
   ]
  },
  {
   "cell_type": "code",
   "execution_count": 1,
   "id": "e812467f-c6e6-409d-8b7a-3b1c92dd6e14",
   "metadata": {},
   "outputs": [],
   "source": [
    "from magpie.ur5 import UR5_Interface"
   ]
  },
  {
   "cell_type": "code",
   "execution_count": 2,
   "id": "e380ea0f-e4b5-4d08-bc12-1a6b9cab9d8b",
   "metadata": {
    "tags": []
   },
   "outputs": [],
   "source": [
    "robot = UR5_Interface()"
   ]
  },
  {
   "cell_type": "markdown",
   "id": "5a89763e-d34c-4f1a-9e34-f8588bfcdd98",
   "metadata": {},
   "source": [
    "# Test"
   ]
  },
  {
   "cell_type": "code",
   "execution_count": 3,
   "id": "aabd6ff4-153b-41dd-935f-c99a2ec1b604",
   "metadata": {
    "tags": []
   },
   "outputs": [
    {
     "name": "stdout",
     "output_type": "stream",
     "text": [
      "Succeeded to open the port\n",
      "Succeeded to change the baudrate\n",
      "Moving speed of dxl ID: 1 set to 100 \n",
      "Moving speed of dxl ID: 2 set to 100 \n"
     ]
    }
   ],
   "source": [
    "robot.start()"
   ]
  },
  {
   "cell_type": "code",
   "execution_count": 4,
   "id": "f9d0b5f3-9edd-4bb7-8a18-b862405a6c04",
   "metadata": {
    "tags": []
   },
   "outputs": [],
   "source": [
    "robot.move_safe()"
   ]
  },
  {
   "cell_type": "code",
   "execution_count": 5,
   "id": "18dd8fbc-2133-4111-a8dc-486b5be324c9",
   "metadata": {
    "tags": []
   },
   "outputs": [
    {
     "name": "stdout",
     "output_type": "stream",
     "text": [
      "Position of dxl ID: 1 set to 567 \n",
      "Position of dxl ID: 2 set to 472 \n"
     ]
    }
   ],
   "source": [
    "robot.close_gripper()"
   ]
  },
  {
   "cell_type": "code",
   "execution_count": 6,
   "id": "7c4e9c64-5e19-4631-84e3-5d8e891b5d0f",
   "metadata": {
    "tags": []
   },
   "outputs": [
    {
     "name": "stdout",
     "output_type": "stream",
     "text": [
      "Position of dxl ID: 1 set to 303 \n",
      "Position of dxl ID: 2 set to 729 \n"
     ]
    }
   ],
   "source": [
    "robot.open_gripper()"
   ]
  },
  {
   "cell_type": "code",
   "execution_count": 7,
   "id": "10fbf90e-9f54-4b14-9ca3-17311844293f",
   "metadata": {
    "tags": []
   },
   "outputs": [
    {
     "name": "stdout",
     "output_type": "stream",
     "text": [
      "Position of dxl ID: 1 set to 505 \n",
      "Position of dxl ID: 2 set to 534 \n"
     ]
    }
   ],
   "source": [
    "robot.set_gripper( 0.030 )"
   ]
  },
  {
   "cell_type": "code",
   "execution_count": 8,
   "id": "aa16eefc-1ce7-4511-8218-7430b79bac44",
   "metadata": {
    "tags": []
   },
   "outputs": [
    {
     "data": {
      "text/plain": [
       "array([[ 7.96326711e-04,  9.99998415e-01,  1.59265241e-03,\n",
       "        -2.95616806e-01],\n",
       "       [ 9.99999683e-01, -7.96325701e-04, -1.26827206e-06,\n",
       "        -1.77304684e-01],\n",
       "       [ 0.00000000e+00,  1.59265292e-03, -9.99998732e-01,\n",
       "         2.20796679e-01],\n",
       "       [ 0.00000000e+00,  0.00000000e+00,  0.00000000e+00,\n",
       "         1.00000000e+00]])"
      ]
     },
     "execution_count": 8,
     "metadata": {},
     "output_type": "execute_result"
    }
   ],
   "source": [
    "robot.align_tcp()"
   ]
  },
  {
   "cell_type": "code",
   "execution_count": 9,
   "id": "c6c95fa3-936f-452e-9033-b448ff7b0d6b",
   "metadata": {},
   "outputs": [],
   "source": [
    "robot.stop()"
   ]
  },
  {
   "cell_type": "code",
   "execution_count": null,
   "id": "26b59bcf-1cea-400b-9cf5-6bbf6a0f88b9",
   "metadata": {},
   "outputs": [],
   "source": []
  }
 ],
 "metadata": {
  "kernelspec": {
   "display_name": "Python 3 (ipykernel)",
   "language": "python",
   "name": "python3"
  },
  "language_info": {
   "codemirror_mode": {
    "name": "ipython",
    "version": 3
   },
   "file_extension": ".py",
   "mimetype": "text/x-python",
   "name": "python",
   "nbconvert_exporter": "python",
   "pygments_lexer": "ipython3",
   "version": "3.9.18"
  }
 },
 "nbformat": 4,
 "nbformat_minor": 5
}
