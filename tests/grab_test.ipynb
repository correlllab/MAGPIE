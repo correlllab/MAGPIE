{
 "cells": [
  {
   "cell_type": "code",
   "execution_count": 1,
   "metadata": {},
   "outputs": [],
   "source": [
    "import sys\n",
    "sys.path.append('../')\n",
    "\n",
    "from magpie import grasp as gt\n",
    "import rtde_control\n",
    "import rtde_receive\n",
    "from magpie.motor_code import Motors\n",
    "from magpie import ur5 as ur5\n",
    "import time\n"
   ]
  },
  {
   "cell_type": "code",
   "execution_count": 2,
   "metadata": {},
   "outputs": [],
   "source": [
    "homePose = None"
   ]
  },
  {
   "cell_type": "code",
   "execution_count": 3,
   "metadata": {},
   "outputs": [
    {
     "name": "stdout",
     "output_type": "stream",
     "text": [
      "Succeeded to open the port\n",
      "Succeeded to change the baudrate\n",
      "Moving speed of dxl ID: 1 set to 100 \n",
      "Moving speed of dxl ID: 2 set to 100 \n",
      "Moving speed of dxl ID: 1 set to 100 \n",
      "Moving speed of dxl ID: 2 set to 100 \n",
      "UR5 + Gripper Interface Established\n",
      "Position of dxl ID: 1 set to 303 \n",
      "Position of dxl ID: 2 set to 729 \n",
      "Successfully closed port\n"
     ]
    },
    {
     "ename": "AttributeError",
     "evalue": "'NoneType' object has no attribute 'getActualTCPPose'",
     "output_type": "error",
     "traceback": [
      "\u001b[0;31m---------------------------------------------------------------------------\u001b[0m",
      "\u001b[0;31mAttributeError\u001b[0m                            Traceback (most recent call last)",
      "Cell \u001b[0;32mIn[3], line 50\u001b[0m\n\u001b[1;32m     48\u001b[0m ur\u001b[38;5;241m.\u001b[39mc\u001b[38;5;241m.\u001b[39mdisconnect()\n\u001b[1;32m     49\u001b[0m ur\u001b[38;5;241m.\u001b[39mr\u001b[38;5;241m.\u001b[39mdisconnect()\n\u001b[0;32m---> 50\u001b[0m \u001b[38;5;28;01mraise\u001b[39;00m(e)\n",
      "Cell \u001b[0;32mIn[3], line 31\u001b[0m\n\u001b[1;32m     26\u001b[0m     \u001b[38;5;28mprint\u001b[39m(\u001b[38;5;124m\"\u001b[39m\u001b[38;5;124mUR5 + Gripper Interface Established\u001b[39m\u001b[38;5;124m\"\u001b[39m)\n\u001b[1;32m     28\u001b[0m \u001b[38;5;66;03m# print(f\"res: {projectToWorldCoords(res)} \")\u001b[39;00m\n\u001b[1;32m     29\u001b[0m \u001b[38;5;66;03m# ur.openGripper() # Open gripper\u001b[39;00m\n\u001b[1;32m     30\u001b[0m \u001b[38;5;66;03m# ur.testRoutine()\u001b[39;00m\n\u001b[0;32m---> 31\u001b[0m homePose \u001b[38;5;241m=\u001b[39m \u001b[43mur\u001b[49m\u001b[38;5;241;43m.\u001b[39;49m\u001b[43mgetPose\u001b[49m\u001b[43m(\u001b[49m\u001b[43m)\u001b[49m\n\u001b[1;32m     32\u001b[0m x_mod \u001b[38;5;241m=\u001b[39m \u001b[38;5;241m0.0\u001b[39m\n\u001b[1;32m     33\u001b[0m y_mod \u001b[38;5;241m=\u001b[39m \u001b[38;5;241m0.0\u001b[39m\n",
      "File \u001b[0;32m~/MAGPIE/magpie/ur5.py:121\u001b[0m, in \u001b[0;36mUR5_Interface.getPose\u001b[0;34m(self)\u001b[0m\n\u001b[1;32m    119\u001b[0m \u001b[38;5;28;01mdef\u001b[39;00m \u001b[38;5;21mgetPose\u001b[39m(\u001b[38;5;28mself\u001b[39m):\n\u001b[1;32m    120\u001b[0m     \u001b[38;5;66;03m# Returns the current pose of the last frame as a SE3 Object (4 x 4 Homegenous Transform)\u001b[39;00m\n\u001b[0;32m--> 121\u001b[0m     p \u001b[38;5;241m=\u001b[39m \u001b[38;5;28;43mself\u001b[39;49m\u001b[38;5;241;43m.\u001b[39;49m\u001b[43mrecv\u001b[49m\u001b[38;5;241;43m.\u001b[39;49m\u001b[43mgetActualTCPPose\u001b[49m()\n\u001b[1;32m    122\u001b[0m     poseMatrix \u001b[38;5;241m=\u001b[39m \u001b[38;5;28mself\u001b[39m\u001b[38;5;241m.\u001b[39mposeVectorToMatrix(p)\n\u001b[1;32m    123\u001b[0m     T_N \u001b[38;5;241m=\u001b[39m sm\u001b[38;5;241m.\u001b[39mSE3(poseMatrix)   \u001b[38;5;66;03m# convert a pose vector to a matrix SE3 object, SE3 --> special euclidean in 3-dimensional space\u001b[39;00m\n",
      "\u001b[0;31mAttributeError\u001b[0m: 'NoneType' object has no attribute 'getActualTCPPose'"
     ]
    }
   ],
   "source": [
    "# Full test\n",
    "sleepRate = 1.5\n",
    "\n",
    "mc = [ 0.00069442, -0.02915858,  0.15957347]\n",
    "\n",
    "\n",
    "grasp_pose = mc\n",
    "# grasp_pose = [mc[1], -mc[0], mc[2]]\n",
    "try:\n",
    "    robotIP = \"192.168.0.6\"\n",
    "    con = rtde_control.RTDEControlInterface(robotIP)\n",
    "    rec = rtde_receive.RTDEReceiveInterface(robotIP)\n",
    "    servoPort = \"/dev/ttyACM0\"\n",
    "    gripperController = Motors(servoPort)\n",
    "    gripperController.torquelimit(600) # used to be 600\n",
    "    gripperController.speedlimit(100)\n",
    "    ur = ur5.UR5_Interface()\n",
    "    ur.gripperController = gripperController\n",
    "    try:\n",
    "        ur.c = con\n",
    "        ur.r = rec\n",
    "        ur.gripperController = gripperController\n",
    "    except Exception as e:\n",
    "        raise(e)\n",
    "    else:\n",
    "        print(\"UR5 + Gripper Interface Established\")\n",
    "            \n",
    "    # print(f\"res: {projectToWorldCoords(res)} \")\n",
    "    # ur.openGripper() # Open gripper\n",
    "    # ur.testRoutine()\n",
    "    homePose = ur.getPose()\n",
    "    x_mod = 0.0\n",
    "    y_mod = 0.0\n",
    "    z_mod = 0.0\n",
    "    gt.move_to(grasp_pose, ur) \n",
    "    print(\"Done moving to block\")\n",
    "    # ur.closeGripper(9) \n",
    "    time.sleep(sleepRate)\n",
    "    gt.move_back(homePose, ur)\n",
    "    ur.openGripper()\n",
    "    gripperController.openGripper()\n",
    "    gripperController.disconnect()\n",
    "    ur.c.disconnect()\n",
    "    ur.r.disconnect()\n",
    "except Exception as e:\n",
    "    gripperController.openGripper()\n",
    "    gripperController.disconnect()\n",
    "    ur.c.disconnect()\n",
    "    ur.r.disconnect()\n",
    "    raise(e)"
   ]
  },
  {
   "cell_type": "code",
   "execution_count": null,
   "metadata": {},
   "outputs": [],
   "source": [
    "# Full test\n",
    "sleepRate = 1.5\n",
    "\n",
    "mc = [ 0.00069442, -0.02915858,  0.15957347]\n",
    "\n",
    "\n",
    "grasp_pose = mc\n",
    "# grasp_pose = [mc[1], -mc[0], mc[2]]\n",
    "try:\n",
    "    robotIP = \"192.168.0.6\"\n",
    "    con = rtde_control.RTDEControlInterface(robotIP)\n",
    "    rec = rtde_receive.RTDEReceiveInterface(robotIP)\n",
    "    servoPort = \"/dev/ttyACM0\"\n",
    "    gripperController = Motors(servoPort)\n",
    "    gripperController.torquelimit(600) # used to be 600\n",
    "    gripperController.speedlimit(100)\n",
    "    ur = ur5.UR5_Interface()\n",
    "    ur.gripperController = gripperController\n",
    "    try:\n",
    "        ur.c = con\n",
    "        ur.r = rec\n",
    "        ur.gripperController = gripperController\n",
    "    except Exception as e:\n",
    "        raise(e)\n",
    "    else:\n",
    "        print(\"UR5 + Gripper Interface Established\")\n",
    "            \n",
    "    # print(f\"res: {projectToWorldCoords(res)} \")\n",
    "    # ur.openGripper() # Open gripper\n",
    "    # ur.testRoutine()\n",
    "    homePose = ur.getPose()\n",
    "    x_mod = 0.0\n",
    "    y_mod = 0.0\n",
    "    z_mod = 0.0\n",
    "    gt.move_to(grasp_pose, ur) \n",
    "    print(\"Done moving to block\")\n",
    "    # ur.closeGripper(9) \n",
    "    time.sleep(sleepRate)\n",
    "    gt.move_back(homePose, ur)\n",
    "    ur.openGripper()\n",
    "    gripperController.openGripper()\n",
    "    gripperController.disconnect()\n",
    "    ur.c.disconnect()\n",
    "    ur.r.disconnect()\n",
    "except Exception as e:\n",
    "    gripperController.openGripper()\n",
    "    gripperController.disconnect()\n",
    "    ur.c.disconnect()\n",
    "    ur.r.disconnect()\n",
    "    raise(e)"
   ]
  },
  {
   "cell_type": "code",
   "execution_count": 2,
   "metadata": {},
   "outputs": [
    {
     "name": "stdout",
     "output_type": "stream",
     "text": [
      "Succeeded to open the port\n",
      "Succeeded to change the baudrate\n",
      "Moving speed of dxl ID: 1 set to 100 \n",
      "Moving speed of dxl ID: 2 set to 100 \n",
      "Moving speed of dxl ID: 1 set to 100 \n",
      "Moving speed of dxl ID: 2 set to 100 \n"
     ]
    }
   ],
   "source": [
    "robotIP = \"192.168.0.6\"\n",
    "con = rtde_control.RTDEControlInterface(robotIP)\n",
    "rec = rtde_receive.RTDEReceiveInterface(robotIP)\n",
    "servoPort = \"/dev/ttyACM0\"\n",
    "gripperController = Motors(servoPort)\n",
    "gripperController.torquelimit(600) # used to be 600\n",
    "gripperController.speedlimit(100)\n",
    "ur = ur5.UR5_Interface()\n",
    "ur.gripperController = gripperController\n",
    "ur.c = con\n",
    "ur.r = rec\n",
    "ur.gripperController = gripperController"
   ]
  },
  {
   "cell_type": "code",
   "execution_count": 5,
   "metadata": {},
   "outputs": [
    {
     "name": "stdout",
     "output_type": "stream",
     "text": [
      "Position of dxl ID: 1 set to 303 \n",
      "Position of dxl ID: 2 set to 729 \n"
     ]
    }
   ],
   "source": [
    "ur.openGripper()\n"
   ]
  }
 ],
 "metadata": {
  "kernelspec": {
   "display_name": "Python 3",
   "language": "python",
   "name": "python3"
  },
  "language_info": {
   "codemirror_mode": {
    "name": "ipython",
    "version": 3
   },
   "file_extension": ".py",
   "mimetype": "text/x-python",
   "name": "python",
   "nbconvert_exporter": "python",
   "pygments_lexer": "ipython3",
   "version": "3.10.12"
  }
 },
 "nbformat": 4,
 "nbformat_minor": 2
}
