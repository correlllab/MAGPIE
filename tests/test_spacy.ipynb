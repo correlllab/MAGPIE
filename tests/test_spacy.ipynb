{
 "cells": [
  {
   "cell_type": "code",
   "execution_count": 2,
   "metadata": {},
   "outputs": [],
   "source": [
    "import spacy\n",
    "\n",
    "# Load the English model\n",
    "nlp = spacy.load(\"en_core_web_sm\")"
   ]
  },
  {
   "cell_type": "code",
   "execution_count": 3,
   "metadata": {},
   "outputs": [],
   "source": [
    "# The sentence to process\n",
    "sentence = \"pick up the blue block\"\n",
    "\n",
    "# Process the sentence using spaCy\n",
    "doc = nlp(sentence)"
   ]
  },
  {
   "cell_type": "code",
   "execution_count": 4,
   "metadata": {},
   "outputs": [
    {
     "name": "stdout",
     "output_type": "stream",
     "text": [
      "Adjective-Noun phrase for 'block': blue block\n"
     ]
    }
   ],
   "source": [
    "def get_adjective_noun_phrase(token):\n",
    "    # Get all tokens that depend on the token\n",
    "    dependents = [child for child in token.children]\n",
    "    \n",
    "    # Get adjectives that modify the token\n",
    "    adjectives = [child.text for child in dependents if child.dep_ == \"amod\"]\n",
    "    \n",
    "    # Combine the adjectives and the noun\n",
    "    phrase = \" \".join(adjectives + [token.text])\n",
    "    \n",
    "    return phrase\n",
    "\n",
    "# Extract the adjective and noun\n",
    "for token in doc:\n",
    "    if token.dep_ == \"dobj\":  # Direct object dependency\n",
    "        phrase = get_adjective_noun_phrase(token)\n",
    "        print(f\"Adjective-Noun phrase for '{token.text}': {phrase}\")"
   ]
  },
  {
   "cell_type": "code",
   "execution_count": 5,
   "metadata": {},
   "outputs": [
    {
     "name": "stdout",
     "output_type": "stream",
     "text": [
      "Adjective-Noun phrase for 'animal': stuffed animal\n"
     ]
    }
   ],
   "source": [
    "sentence = \"pick up the stuffed animal\"\n",
    "doc = nlp(sentence)\n",
    "for token in doc:\n",
    "    if token.dep_ == \"dobj\":  # Direct object dependency\n",
    "        phrase = get_adjective_noun_phrase(token)\n",
    "        print(f\"Adjective-Noun phrase for '{token.text}': {phrase}\")"
   ]
  },
  {
   "cell_type": "code",
   "execution_count": 6,
   "metadata": {},
   "outputs": [],
   "source": [
    "def parse_sentence(sentence):\n",
    "    # Process the sentence using spaCy\n",
    "    nlp = spacy.load(\"en_core_web_sm\")\n",
    "    doc = nlp(sentence)\n",
    "    \n",
    "    # Extract the adjective and noun\n",
    "    for token in doc:\n",
    "        if token.dep_ == \"dobj\":  # Direct object dependency\n",
    "            phrase = get_adjective_noun_phrase(token)\n",
    "            print(f\"Adjective-Noun phrase for '{token.text}': {phrase}\")"
   ]
  },
  {
   "cell_type": "code",
   "execution_count": 7,
   "metadata": {},
   "outputs": [
    {
     "name": "stdout",
     "output_type": "stream",
     "text": [
      "Adjective-Noun phrase for 'block': red block\n"
     ]
    }
   ],
   "source": [
    "parse_sentence(\"pick up the red block with aperture 20mm\")"
   ]
  },
  {
   "cell_type": "code",
   "execution_count": 8,
   "metadata": {},
   "outputs": [
    {
     "name": "stdout",
     "output_type": "stream",
     "text": [
      "Adjective-Noun phrase for 'board': board\n"
     ]
    }
   ],
   "source": [
    "parse_sentence(\"pick up the circuit board with aperture 20mm\")"
   ]
  },
  {
   "cell_type": "code",
   "execution_count": 14,
   "metadata": {},
   "outputs": [
    {
     "name": "stdout",
     "output_type": "stream",
     "text": [
      "Adjective-Noun phrase for 'board': circuit board\n"
     ]
    },
    {
     "data": {
      "text/plain": [
       "('circuit board', 'board')"
      ]
     },
     "execution_count": 14,
     "metadata": {},
     "output_type": "execute_result"
    }
   ],
   "source": [
    "def get_adjective_noun_phrase(token):\n",
    "    # Get all tokens that depend on the token\n",
    "    dependents = [child for child in token.children]\n",
    "    \n",
    "    # Get adjectives that modify the token\n",
    "    adjectives = [child.text for child in dependents if child.dep_ == \"amod\"]\n",
    "    \n",
    "    # Get compound nouns (like 'circuit' in 'circuit board')\n",
    "    compounds = [child.text for child in dependents if child.dep_ == \"compound\"]\n",
    "    \n",
    "    # Combine compounds, adjectives, and the noun\n",
    "    phrase = \" \".join(adjectives + compounds + [token.text])\n",
    "    \n",
    "    return phrase\n",
    "\n",
    "def parse_object_description(user_input):\n",
    "    # Process the sentence using spaCy\n",
    "    nlp = spacy.load(\"en_core_web_sm\")\n",
    "    doc = nlp(user_input)\n",
    "    query, abbrevq = user_input, user_input\n",
    "    \n",
    "    # Extract the adjective and noun\n",
    "    for token in doc:\n",
    "        if token.dep_ == \"dobj\":  # Direct object dependency\n",
    "            phrase = get_adjective_noun_phrase(token)\n",
    "            print(f\"Adjective-Noun phrase for '{token.text}': {phrase}\")\n",
    "            query = phrase\n",
    "            abbrevq = token.text\n",
    "    return query, abbrevq\n",
    "\n",
    "parse_object_description(\"pick up the circuit board with aperture 20mm\")"
   ]
  },
  {
   "cell_type": "code",
   "execution_count": 15,
   "metadata": {},
   "outputs": [
    {
     "name": "stdout",
     "output_type": "stream",
     "text": [
      "Adjective-Noun phrase for 'tube': blue grease tube\n"
     ]
    },
    {
     "data": {
      "text/plain": [
       "('blue grease tube', 'tube')"
      ]
     },
     "execution_count": 15,
     "metadata": {},
     "output_type": "execute_result"
    }
   ],
   "source": [
    "parse_object_description(\"pick up the blue grease tube with aperture 20mm\")"
   ]
  }
 ],
 "metadata": {
  "kernelspec": {
   "display_name": "Python 3",
   "language": "python",
   "name": "python3"
  },
  "language_info": {
   "codemirror_mode": {
    "name": "ipython",
    "version": 3
   },
   "file_extension": ".py",
   "mimetype": "text/x-python",
   "name": "python",
   "nbconvert_exporter": "python",
   "pygments_lexer": "ipython3",
   "version": "3.10.12"
  }
 },
 "nbformat": 4,
 "nbformat_minor": 2
}
