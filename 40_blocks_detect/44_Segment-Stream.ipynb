{
 "cells": [
  {
   "cell_type": "markdown",
   "id": "575df7f1-1ff2-42f8-a201-cc0f9cac1ba4",
   "metadata": {},
   "source": [
    "# Init"
   ]
  },
  {
   "cell_type": "code",
   "execution_count": 1,
   "id": "cdde2ef3-941f-4efc-853e-c782974715a9",
   "metadata": {},
   "outputs": [],
   "source": [
    "### Standard ###\n",
    "import sys, os\n",
    "\n",
    "### Special ###\n",
    "import numpy as np\n",
    "\n",
    "### Local ###\n",
    "sys.path.append( \"../pddlstream/\" )\n",
    "from pddlstream.algorithms.meta import solve, create_parser\n",
    "from pddlstream.algorithms.search import solve_from_pddl\n",
    "from pddlstream.utils import read\n",
    "from pddlstream.language.constants import print_solution, PDDLProblem\n",
    "from pddlstream.utils import read, get_file_path, Profiler\n",
    "from pddlstream.language.constants import PDDLProblem, And, Equal, print_solution\n",
    "from examples.discrete_belief.run import revisit_mdp_cost, MAX_COST, clip_cost"
   ]
  },
  {
   "cell_type": "markdown",
   "id": "c2a76c4f-ee3f-4ce4-8774-19151eaaa39e",
   "metadata": {},
   "source": [
    "# Streams"
   ]
  },
  {
   "cell_type": "code",
   "execution_count": 2,
   "id": "486fda06-d77c-4577-ae35-bfc94c85b675",
   "metadata": {},
   "outputs": [],
   "source": [
    "class Pose:\n",
    "    \"\"\" A named object, it's pose, and the surface that supports it \"\"\"\n",
    "    \n",
    "    def __init__( self, name, pose, surf ):\n",
    "        self.name = name\n",
    "        self.pose = pose\n",
    "        self.surf = surf # WARNING: I do not like that this is part of the predicate!\n",
    "\n",
    "    def iterate( self ):\n",
    "        yield self\n",
    "\n",
    "\n",
    "def get_pose_stream( robot, camera, detector ):\n",
    "    \"\"\" ??? Return a function that returns poses ??? \"\"\"\n",
    "    # NOTE: ??? This function assumes that the camera, detector, and robot were initialized ???\n",
    "\n",
    "    blockNames  = ['redBlock', 'ylwBlock', 'bluBlock',]\n",
    "\n",
    "    def rtn_func():\n",
    "        \"\"\" ??? A function that returns poses ??? \"\"\"\n",
    "        pcd, rgbdImage = detector.real.get_PCD()\n",
    "        depthImage, colorImage = rgbdImage.depth, rgbdImage.color\n",
    "        urPose = robot.get_tcp_pose()\n",
    "        blocks = detector.getBlocksFromImages( colorImage, depthImage, urPose, display = False )\n",
    "\n",
    "        print( \"!HEY!, The pose stream was evaluated!\" )\n",
    "\n",
    "        while True: # WARNING: I DO NOT KNOW WHY THIS PREVENTS REDUNDANT STATES\n",
    "            for i, blockName in enumerate( blockNames ):\n",
    "                pose = blocks[i].worldFrameCoords\n",
    "                # WARNING: I DO NOT KNOW WHY THIS IS A `yield` STATEMENT\n",
    "                # yield Pose( blockName, pose, 'table' ) # WARNING: HACK, The supporting object is hardcoded\n",
    "                yield (Pose( blockName, pose, 'table' ),) # WARNING: HACK, The supporting object is hardcoded\n",
    "\n",
    "    return rtn_func"
   ]
  },
  {
   "cell_type": "markdown",
   "id": "27f1c5e5-7647-4976-a63f-ff7456386077",
   "metadata": {},
   "source": [
    "# Hardware + Perception"
   ]
  },
  {
   "cell_type": "code",
   "execution_count": 3,
   "id": "9d0d1094-aa83-4cdc-b8c2-0301f711076d",
   "metadata": {},
   "outputs": [
    {
     "name": "stdout",
     "output_type": "stream",
     "text": [
      "Jupyter environment detected. Enabling Open3D WebVisualizer.\n",
      "[Open3D INFO] WebRTC GUI backend enabled.\n",
      "[Open3D INFO] WebRTCWindowSystem: HTTP handshake server disabled.\n"
     ]
    }
   ],
   "source": [
    "sys.path.append( \"../\" )\n",
    "from magpie.ur5 import UR5_Interface\n",
    "from Perception import DepthCam, ObjectDetection\n",
    "\n",
    "def magpie_init():\n",
    "    \"\"\" Start MAGPIE-related hardware \"\"\"\n",
    "    # QUESTION: SHOULD THERE BE A SINGLETON MAGPIE \"MANAGER\" OBJECT?\n",
    "    robot = UR5_Interface()\n",
    "    robot.start()\n",
    "    camera = DepthCam()\n",
    "    detector = ObjectDetection( camera, None, moveRelative = True) # FIXME: I HATE THIS ENTANGLEMENT\n",
    "    return robot, camera, detector\n",
    "\n",
    "def magpie_shutdown( robot, camera ):\n",
    "    \"\"\" Start MAGPIE-related hardware \"\"\"\n",
    "    robot.stop()\n",
    "    camera.stop()"
   ]
  },
  {
   "cell_type": "code",
   "execution_count": 4,
   "id": "36bd512c-60b0-4d9b-a83b-588f248982dc",
   "metadata": {},
   "outputs": [
    {
     "name": "stdout",
     "output_type": "stream",
     "text": [
      "Succeeded to open the port\n",
      "Succeeded to change the baudrate\n",
      "Moving speed of dxl ID: 1 set to 100 \n",
      "Moving speed of dxl ID: 2 set to 100 \n",
      "Depth stream started!\n",
      "Color stream started!\n"
     ]
    }
   ],
   "source": [
    "robot, camera, detector = magpie_init()"
   ]
  },
  {
   "cell_type": "markdown",
   "id": "67a9c695-50f5-472e-bc3c-1fc11534d192",
   "metadata": {},
   "source": [
    "# PDDLStream Context"
   ]
  },
  {
   "cell_type": "code",
   "execution_count": 5,
   "id": "1e828c03-15aa-4138-96e8-95ea394da483",
   "metadata": {},
   "outputs": [],
   "source": [
    "domain_pddl  = read( get_file_path( os.path.join(os.getcwd(), '40_blocks_detect'), 'domain.pddl' ) )\n",
    "stream_pddl  = read( get_file_path( os.path.join(os.getcwd(), '40_blocks_detect'), 'stream.pddl' ) )\n",
    "constant_map = {}"
   ]
  },
  {
   "cell_type": "code",
   "execution_count": 6,
   "id": "e31fd95e-def4-40da-a7ea-c4b1bf2ef0fb",
   "metadata": {},
   "outputs": [],
   "source": [
    "scan_cost = 1\n",
    "init      = [\n",
    "    Equal(('MoveCost',), 1),\n",
    "    Equal(('PickCost',), 1),\n",
    "    Equal(('PlaceCost',), 1),\n",
    "    Equal(('ScanCost',), scan_cost),\n",
    "]"
   ]
  },
  {
   "cell_type": "code",
   "execution_count": 7,
   "id": "2db8cedb-f6b0-4db4-bff3-021435ad9cb8",
   "metadata": {},
   "outputs": [
    {
     "name": "stdout",
     "output_type": "stream",
     "text": [
      "<function get_pose_stream.<locals>.rtn_func at 0x7fca9056b4c0>\n",
      "['__add__', '__class__', '__class_getitem__', '__contains__', '__delattr__', '__dir__', '__doc__', '__eq__', '__format__', '__ge__', '__getattribute__', '__getitem__', '__getnewargs__', '__gt__', '__hash__', '__init__', '__init_subclass__', '__iter__', '__le__', '__len__', '__lt__', '__module__', '__mul__', '__ne__', '__new__', '__reduce__', '__reduce_ex__', '__repr__', '__rmul__', '__setattr__', '__sizeof__', '__slots__', '__str__', '__subclasshook__', '_asdict', '_field_defaults', '_fields', '_make', '_replace', 'constant_map', 'count', 'domain_pddl', 'goal', 'index', 'init', 'stream_map', 'stream_pddl']\n",
      "('and', ('Localized', 'redBlock'), ('Localized', 'ylwBlock'), ('Localized', 'bluBlock'))\n",
      "{'sample-pose': <function get_pose_stream.<locals>.rtn_func at 0x7fca9056b4c0>}\n"
     ]
    }
   ],
   "source": [
    "blockNames  = ['redBlock', 'ylwBlock', 'bluBlock',]\n",
    "supportName = 'table'\n",
    "\n",
    "init += [\n",
    "    ('Observable', np.eye(4)),\n",
    "]\n",
    "\n",
    "for blockName in blockNames:\n",
    "    pose = np.eye(4)\n",
    "    init += [\n",
    "        ('Pose'  , blockName, pose), \n",
    "        ('AtPose', blockName, pose),\n",
    "        ('Scannable'   , blockName),\n",
    "        ('Registerable', blockName),\n",
    "        ('Graspable'   , blockName),\n",
    "        ('Uncertain'   , blockName),\n",
    "    ]\n",
    "\n",
    "goal = ('and',\n",
    "    ('Localized', 'redBlock'),\n",
    "    ('Localized', 'ylwBlock'),\n",
    "    ('Localized', 'bluBlock'),\n",
    "    # ('on', 'ylwBlock', 'bluBlock',),\n",
    "    # ('on', 'redBlock', 'ylwBlock',),\n",
    ")\n",
    "\n",
    "stream_map = {\n",
    "    'sample-pose': get_pose_stream( robot, camera, detector ), # Enclose MAGPIE connections in a stream\n",
    "}\n",
    "\n",
    "print( stream_map['sample-pose'] )\n",
    "\n",
    "problem = PDDLProblem( domain_pddl, constant_map, stream_pddl, stream_map, init, goal )\n",
    "\n",
    "print(  dir( problem )  )\n",
    "\n",
    "print(  problem.goal  )\n",
    "print(  problem.stream_map  )"
   ]
  },
  {
   "cell_type": "markdown",
   "id": "90b4d241-c99e-4c2f-9937-b58a10e7a14c",
   "metadata": {},
   "source": [
    "# Evaluate Stream(s)"
   ]
  },
  {
   "cell_type": "code",
   "execution_count": 8,
   "id": "b41d1b23-773b-4fbe-8d15-e96605cff893",
   "metadata": {},
   "outputs": [
    {
     "name": "stdout",
     "output_type": "stream",
     "text": [
      "Arguments: Namespace(algorithm='adaptive', unit=False, foo='/home/james/.local/share/jupyter/runtime/kernel-64eadb6e-ae10-4e20-a692-fb9fdfbe785b.json')\n"
     ]
    }
   ],
   "source": [
    "# class SolverArgs:\n",
    "#     \"\"\" PDDL Solver Args \"\"\"\n",
    "#     def __init__( self, algo, unit ):\n",
    "#         self.algorithm = algo\n",
    "#         self.unit      = unit\n",
    "\n",
    "# args = SolverArgs(  )\n",
    "\n",
    "parser = create_parser()\n",
    "parser.add_argument('-f', '--foo', type=str, required=False, help='UNK') # REQUIRED for Jupyter\n",
    "args = parser.parse_args()\n",
    "print( 'Arguments:', args )"
   ]
  },
  {
   "cell_type": "code",
   "execution_count": 9,
   "id": "583783c8-d641-4238-87d5-8368cbc9a52b",
   "metadata": {},
   "outputs": [
    {
     "name": "stdout",
     "output_type": "stream",
     "text": [
      "Streams: [sample-pose:('?o', '?r')->('?p',)]\n",
      "Functions: []\n",
      "Negated: []\n",
      "Optimizers: []\n",
      "\n",
      "Iteration: 1 | Complexity: 0 | Skeletons: 0 | Skeleton Queue: 0 | Disabled: 0 | Evaluations: 23 | Eager Calls: 0 | Cost: inf | Search Time: 0.000 | Sample Time: 0.000 | Total Time: 0.000\n",
      "\n",
      "Generating Datalog program... [0.000s CPU, 0.001s wall-clock]\n",
      "Normalizing Datalog program...\n",
      "Normalizing Datalog program: [0.000s CPU, 0.002s wall-clock]\n",
      "Preparing model... [0.000s CPU, 0.001s wall-clock]\n",
      "Generated 9 rules.\n",
      "Computing model... [0.010s CPU, 0.001s wall-clock]\n",
      "40 relevant atoms\n",
      "0 auxiliary atoms\n",
      "40 final queue length\n",
      "40 total queue pushes\n",
      "Completing instantiation... [0.000s CPU, 0.000s wall-clock]\n",
      "Infeasible: True\n",
      "Instantiation time: 0.007s\n",
      "Attempt: 1 | Results: 0 | Depth: 0 | Success: False | Time: 0.008\n",
      "Stream plan (inf, 0, inf): False\n",
      "Action plan (inf, inf): False\n",
      "Summary: {complexity: 0, cost: inf, evaluations: 23, iterations: 1, length: inf, run_time: 0.008, sample_time: 0.000, search_time: 0.008, skeletons: 0, solutions: 0, solved: False, timeout: False}\n",
      "\n",
      "Total External Statistics\n",
      "External: sample-pose | n: 0 | p_success: 1.000 | overhead: 0.000\n",
      "Wrote: statistics/py3/ryb-blocks.pkl\n",
      "['__add__', '__class__', '__class_getitem__', '__contains__', '__delattr__', '__dir__', '__doc__', '__eq__', '__format__', '__ge__', '__getattribute__', '__getitem__', '__getnewargs__', '__gt__', '__hash__', '__init__', '__init_subclass__', '__iter__', '__le__', '__len__', '__lt__', '__module__', '__mul__', '__ne__', '__new__', '__reduce__', '__reduce_ex__', '__repr__', '__rmul__', '__setattr__', '__sizeof__', '__slots__', '__str__', '__subclasshook__', '_asdict', '_field_defaults', '_fields', '_make', '_replace', 'certificate', 'cost', 'count', 'index', 'plan']\n",
      "\n",
      "('=', ('movecost',), 1)\n",
      "\n",
      "('=', ('pickcost',), 1)\n",
      "\n",
      "('=', ('placecost',), 1)\n",
      "\n",
      "('=', ('scancost',), 1)\n",
      "\n",
      "('observable',\n",
      " array([[          1,           0,           0,           0],\n",
      "       [          0,           1,           0,           0],\n",
      "       [          0,           0,           1,           0],\n",
      "       [          0,           0,           0,           1]]))\n",
      "\n",
      "('pose',\n",
      " 'redBlock',\n",
      " array([[          1,           0,           0,           0],\n",
      "       [          0,           1,           0,           0],\n",
      "       [          0,           0,           1,           0],\n",
      "       [          0,           0,           0,           1]]))\n",
      "\n",
      "('atpose',\n",
      " 'redBlock',\n",
      " array([[          1,           0,           0,           0],\n",
      "       [          0,           1,           0,           0],\n",
      "       [          0,           0,           1,           0],\n",
      "       [          0,           0,           0,           1]]))\n",
      "\n",
      "('scannable', 'redBlock')\n",
      "\n",
      "('registerable', 'redBlock')\n",
      "\n",
      "('graspable', 'redBlock')\n",
      "\n",
      "('uncertain', 'redBlock')\n",
      "\n",
      "('pose',\n",
      " 'ylwBlock',\n",
      " array([[          1,           0,           0,           0],\n",
      "       [          0,           1,           0,           0],\n",
      "       [          0,           0,           1,           0],\n",
      "       [          0,           0,           0,           1]]))\n",
      "\n",
      "('atpose',\n",
      " 'ylwBlock',\n",
      " array([[          1,           0,           0,           0],\n",
      "       [          0,           1,           0,           0],\n",
      "       [          0,           0,           1,           0],\n",
      "       [          0,           0,           0,           1]]))\n",
      "\n",
      "('scannable', 'ylwBlock')\n",
      "\n",
      "('registerable', 'ylwBlock')\n",
      "\n",
      "('graspable', 'ylwBlock')\n",
      "\n",
      "('uncertain', 'ylwBlock')\n",
      "\n",
      "('pose',\n",
      " 'bluBlock',\n",
      " array([[          1,           0,           0,           0],\n",
      "       [          0,           1,           0,           0],\n",
      "       [          0,           0,           1,           0],\n",
      "       [          0,           0,           0,           1]]))\n",
      "\n",
      "('atpose',\n",
      " 'bluBlock',\n",
      " array([[          1,           0,           0,           0],\n",
      "       [          0,           1,           0,           0],\n",
      "       [          0,           0,           1,           0],\n",
      "       [          0,           0,           0,           1]]))\n",
      "\n",
      "('scannable', 'bluBlock')\n",
      "\n",
      "('registerable', 'bluBlock')\n",
      "\n",
      "('graspable', 'bluBlock')\n",
      "\n",
      "('uncertain', 'bluBlock')\n",
      "\n"
     ]
    }
   ],
   "source": [
    "from pprint import pprint\n",
    "\n",
    "stream_info = {\n",
    "    # 'test-vis-base': StreamInfo(eager=True, p_success=0),\n",
    "    # 'test-reg-base': StreamInfo(eager=True, p_success=0),\n",
    "}\n",
    "hierarchy = [\n",
    "    # ABSTRIPSLayer(pos_pre=['AtBConf']),\n",
    "]\n",
    "verbose = True\n",
    "\n",
    "# solution = solve( problem, algorithm=args.algorithm, unit_costs=args.unit,\n",
    "solution = solve( problem, algorithm=args.algorithm, unit_costs=1,\n",
    "                  # stream_info=stream_info, hierarchy=hierarchy, debug=False,\n",
    "                  stream_info=stream_info, hierarchy=hierarchy, debug=True,\n",
    "                  success_cost=MAX_COST, verbose=verbose)\n",
    "\n",
    "print( dir( solution ) )\n",
    "print()\n",
    "\n",
    "for elem in solution.certificate[0]:\n",
    "    pprint( elem )\n",
    "    print()"
   ]
  },
  {
   "cell_type": "code",
   "execution_count": null,
   "id": "b76fc749-48ce-4c2d-b535-88d1080c678c",
   "metadata": {},
   "outputs": [],
   "source": []
  },
  {
   "cell_type": "markdown",
   "id": "ad154e5a-f59a-407e-b485-9585e39f5d9c",
   "metadata": {},
   "source": [
    "# Shutdown"
   ]
  },
  {
   "cell_type": "code",
   "execution_count": 10,
   "id": "9accf755-8270-4229-9c57-b1e269c59687",
   "metadata": {},
   "outputs": [
    {
     "name": "stderr",
     "output_type": "stream",
     "text": [
      "RTDEControlInterface: RTDE control script is not running!\n",
      "RTDEControlInterface: RTDE control script is not running!\n"
     ]
    }
   ],
   "source": [
    "magpie_shutdown( robot, camera )"
   ]
  },
  {
   "cell_type": "code",
   "execution_count": null,
   "id": "171f2527-e14f-4ce9-856e-d0cdf3f7945f",
   "metadata": {},
   "outputs": [],
   "source": []
  },
  {
   "cell_type": "code",
   "execution_count": null,
   "id": "70c54fcc-891d-492c-9c0c-2177ad089638",
   "metadata": {},
   "outputs": [],
   "source": []
  }
 ],
 "metadata": {
  "kernelspec": {
   "display_name": "Python 3 (ipykernel)",
   "language": "python",
   "name": "python3"
  },
  "language_info": {
   "codemirror_mode": {
    "name": "ipython",
    "version": 3
   },
   "file_extension": ".py",
   "mimetype": "text/x-python",
   "name": "python",
   "nbconvert_exporter": "python",
   "pygments_lexer": "ipython3",
   "version": "3.9.18"
  }
 },
 "nbformat": 4,
 "nbformat_minor": 5
}
