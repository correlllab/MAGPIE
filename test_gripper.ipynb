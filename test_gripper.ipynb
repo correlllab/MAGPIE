{
 "cells": [
  {
   "cell_type": "markdown",
   "metadata": {},
   "source": [
    "# Unit Test Notebook for Gripper class functions"
   ]
  },
  {
   "cell_type": "code",
   "execution_count": 289,
   "metadata": {},
   "outputs": [
    {
     "data": {
      "text/plain": [
       "<module 'magpie.gripper' from '/home/will/MAGPIE/magpie/gripper.py'>"
      ]
     },
     "execution_count": 289,
     "metadata": {},
     "output_type": "execute_result"
    }
   ],
   "source": [
    "import importlib\n",
    "importlib.reload(g)"
   ]
  },
  {
   "cell_type": "code",
   "execution_count": 290,
   "metadata": {},
   "outputs": [
    {
     "name": "stdout",
     "output_type": "stream",
     "text": [
      "Succeeded to open the port\n",
      "Succeeded to change the baudrate\n",
      "[RxPacketError] Overload error!\n",
      "[RxPacketError] Overload error!\n",
      "[RxPacketError] Overload error!\n",
      "[RxPacketError] Overload error!\n"
     ]
    }
   ],
   "source": [
    "import sys\n",
    "sys.path.append('../../')\n",
    "import magpie.gripper as g\n",
    "from magpie.gripper import Gripper\n",
    "import time\n",
    "servoport = '/dev/ttyACM0'\n",
    "G = Gripper(servoport=servoport)"
   ]
  },
  {
   "cell_type": "code",
   "execution_count": 325,
   "metadata": {},
   "outputs": [],
   "source": [
    "G.reset_packet_overload()"
   ]
  },
  {
   "cell_type": "code",
   "execution_count": 326,
   "metadata": {},
   "outputs": [],
   "source": [
    "G.reset_parameters()"
   ]
  },
  {
   "cell_type": "code",
   "execution_count": 4,
   "metadata": {},
   "outputs": [],
   "source": [
    "G.poke(\"left\", 700, 5)"
   ]
  },
  {
   "cell_type": "code",
   "execution_count": null,
   "metadata": {},
   "outputs": [],
   "source": [
    "# 1.5 N adaptive\n",
    "# kp_F=0.5\n",
    "# kp_x=10\n",
    "\n",
    "# 0.5 N adaptive\n",
    "# kp_F=0.8\n",
    "# kp_x=15\n"
   ]
  },
  {
   "cell_type": "code",
   "execution_count": 327,
   "metadata": {},
   "outputs": [
    {
     "name": "stdout",
     "output_type": "stream",
     "text": [
      "[{'timestamp': 1723078598.0852349, 'aperture': 61.90777349903469, 'gripper_vel': 0, 'contact_force': 0.13571786, 'contact_force_l': 0.171089572, 'contact_force_r': 0.10034614800000001, 'applied_force': 0.5, 'k': 0}, {'timestamp': 1723078598.2056706, 'aperture': 60.62769363978178, 'gripper_vel': 10.62873967419965, 'contact_force': 0.09765625, 'contact_force_l': 0.0939892, 'contact_force_r': 0.1013233, 'applied_force': 0.7, 'k': 125.00779875516676}, {'timestamp': 1723078598.3121407, 'aperture': 59.9847896605802, 'gripper_vel': 6.038351900676093, 'contact_force': 0.06646016428571429, 'contact_force_l': 0.06241462857142858, 'contact_force_r': 0.07050569999999999, 'applied_force': 0.7, 'k': 42.727504077676734}, {'timestamp': 1723078598.4036734, 'aperture': 58.90875146645349, 'gripper_vel': 11.755778091505526, 'contact_force': 0.060610690277777775, 'contact_force_l': 0.04972, 'contact_force_r': 0.07150138055555555, 'applied_force': 0.7, 'k': 65.21941771127334}, {'timestamp': 1723078598.510198, 'aperture': 58.69262376572226, 'gripper_vel': 2.0288974180394947, 'contact_force': 0.09339182142857143, 'contact_force_l': 0.06839644285714286, 'contact_force_r': 0.1183872, 'applied_force': 0.7, 'k': 20.184559632458562}, {'timestamp': 1723078598.6458733, 'aperture': 56.739243415411444, 'gripper_vel': 14.397476231682708, 'contact_force': 0.1468854827160494, 'contact_force_l': 0.23170846543209878, 'contact_force_r': 0.0620625, 'applied_force': 0.7, 'k': 286.9232156834499}, {'timestamp': 1723078598.7522793, 'aperture': 55.649288594242236, 'gripper_vel': 10.243361213557039, 'contact_force': 0.13859525, 'contact_force_l': 0.1979073, 'contact_force_r': 0.0792832, 'applied_force': 0.8999999999999999, 'k': 151.06256092865166}, {'timestamp': 1723078598.8733108, 'aperture': 54.553016172953654, 'gripper_vel': 9.057742944747359, 'contact_force': 0.122571903125, 'contact_force_l': 0.1787697, 'contact_force_r': 0.06637410625000001, 'applied_force': 1.0999999999999999, 'k': 134.37219702079324}, {'timestamp': 1723078598.9944956, 'aperture': 53.45391212202381, 'gripper_vel': 9.069650781708045, 'contact_force': 0.08433750703125001, 'contact_force_l': 0.0918477140625, 'contact_force_r': 0.0768273, 'applied_force': 1.2999999999999998, 'k': 92.69569562337124}, {'timestamp': 1723078599.1001868, 'aperture': 52.570895882339016, 'gripper_vel': 8.35468123504094, 'contact_force': 0.04881587857142858, 'contact_force_l': 0.06241462857142858, 'contact_force_r': 0.03521712857142857, 'applied_force': 1.2999999999999998, 'k': 43.1052135330523}, {'timestamp': 1723078599.2047787, 'aperture': 52.12839131522698, 'gripper_vel': 4.230774979726669, 'contact_force': 0.018883285714285717, 'contact_force_l': 0.025640228571428576, 'contact_force_r': 0.012126342857142857, 'applied_force': 1.2999999999999998, 'k': 8.355940170652946}, {'timestamp': 1723078599.2962458, 'aperture': 50.797967327382594, 'gripper_vel': 14.545376156124215, 'contact_force': 0.03630537361111111, 'contact_force_l': 0.03031304722222222, 'contact_force_r': 0.0422977, 'applied_force': 1.2999999999999998, 'k': 48.301539939874694}, {'timestamp': 1723078599.4019988, 'aperture': 50.13039984395631, 'gripper_vel': 6.3125190864928955, 'contact_force': 0.1105337, 'contact_force_l': 0.1787697, 'contact_force_r': 0.0422977, 'applied_force': 1.2999999999999998, 'k': 73.78870394279565}, {'timestamp': 1723078599.508103, 'aperture': 49.46102794221441, 'gripper_vel': 6.308631595777562, 'contact_force': 0.05801067857142857, 'contact_force_l': 0.0595968, 'contact_force_r': 0.05642455714285714, 'applied_force': 1.4999999999999998, 'k': 38.83071823669547}, {'timestamp': 1723078599.6283543, 'aperture': 48.566820701306824, 'gripper_vel': 7.436147215774977, 'contact_force': 0.09189431250000002, 'contact_force_l': 0.0447732, 'contact_force_r': 0.13901542500000003, 'applied_force': 1.4999999999999998, 'k': 82.17255963572427}, {'timestamp': 1723078599.7483816, 'aperture': 47.894358897574335, 'gripper_vel': 5.6025736063976845, 'contact_force': 0.12363165000000001, 'contact_force_l': 0.0398208, 'contact_force_r': 0.2074425, 'applied_force': 1.4999999999999998, 'k': 83.13756235742376}, {'timestamp': 1723078599.8977556, 'aperture': 46.995297798572665, 'gripper_vel': 6.018859036881668, 'contact_force': 0.1242145085, 'contact_force_l': 0.027912191999999995, 'contact_force_r': 0.220516825, 'applied_force': 1.6999999999999997, 'k': 111.67643252396235}, {'timestamp': 1723078600.0620558, 'aperture': 46.545534459507536, 'gripper_vel': 2.7374484630425915, 'contact_force': 0.12287726942148762, 'contact_force_l': 0.0199552, 'contact_force_r': 0.22579933884297523, 'applied_force': 1.8999999999999997, 'k': 55.26569099021371}, {'timestamp': 1723078600.2414415, 'aperture': 45.419491226921174, 'gripper_vel': 6.277219815323682, 'contact_force': 0.5438804699999997, 'contact_force_l': 0.9962192399999994, 'contact_force_r': 0.0915417, 'applied_force': 2.0999999999999996, 'k': 612.4329225793896}]\n",
      "Prev force: 0.7757824550000003\n",
      "Current force: 0.7757824550000003\n",
      "Error: 0\n",
      "dx: 0, df: 0.0\n",
      "Applied force: 0.5\n",
      "Aperture: 45.419491226921174\n",
      "Goal Aperture: 45.419491226921174\n",
      "Prev force: 0.7757824550000003\n",
      "Current force: 0.7757824550000003\n",
      "Error: 0\n",
      "dx: 0, df: 0.0\n",
      "Applied force: 0.5\n",
      "Aperture: 45.419491226921174\n",
      "Goal Aperture: 45.419491226921174\n",
      "Prev force: 0.7757824550000003\n",
      "Current force: 0.0199552\n",
      "Error: 0.7558272550000004\n",
      "dx: 11.337408825000006, df: 0.6046618040000004\n",
      "Applied force: 1.1046618040000005\n",
      "Aperture: 45.64548181295895\n",
      "Goal Aperture: 34.308072987958944\n",
      "Prev force: 0.0199552\n",
      "Current force: 0.536608975\n",
      "Error: 0\n",
      "dx: 0, df: 0.0\n",
      "Applied force: 1.1046618040000005\n",
      "Aperture: 45.419491226921174\n",
      "Goal Aperture: 45.419491226921174\n",
      "Prev force: 0.536608975\n",
      "Current force: 0.536608975\n",
      "Error: 0\n",
      "dx: 0, df: 0.0\n",
      "Applied force: 1.1046618040000005\n",
      "Aperture: 45.419491226921174\n",
      "Goal Aperture: 45.419491226921174\n",
      "Prev force: 0.536608975\n",
      "Current force: 0.0099776\n",
      "Error: 0.526631375\n",
      "dx: 7.899470625, df: 0.42130510000000004\n",
      "Applied force: 1.5259669040000006\n",
      "Aperture: 45.64548181295895\n",
      "Goal Aperture: 37.74601118795895\n",
      "Prev force: 0.0099776\n",
      "Current force: 0.7757824550000003\n",
      "Error: 0\n",
      "dx: 0, df: 0.0\n",
      "Applied force: 1.5259669040000006\n",
      "Aperture: 45.19422214659792\n",
      "Goal Aperture: 45.19422214659792\n",
      "Prev force: 0.7757824550000003\n",
      "Current force: 0.7757824550000003\n",
      "Error: 0\n",
      "dx: 0, df: 0.0\n",
      "Applied force: 1.5259669040000006\n",
      "Aperture: 45.19422214659792\n",
      "Goal Aperture: 45.19422214659792\n",
      "Prev force: 0.7757824550000003\n",
      "Current force: 0.389359975\n",
      "Error: 0.3864224800000003\n",
      "dx: 5.796337200000004, df: 0.30913798400000025\n",
      "Applied force: 1.835104888000001\n",
      "Aperture: 45.19422214659792\n",
      "Goal Aperture: 39.39788494659792\n",
      "Prev force: 0.389359975\n",
      "Current force: 0.775404655\n",
      "Error: 0\n",
      "dx: 0, df: 0.0\n",
      "Applied force: 1.835104888000001\n",
      "Aperture: 45.19422214659792\n",
      "Goal Aperture: 45.19422214659792\n",
      "Prev force: 0.775404655\n",
      "Current force: 0.6509555930000002\n",
      "Error: 0.12444906199999983\n",
      "dx: 1.8667359299999975, df: 0.09955924959999987\n",
      "Applied force: 1.9346641376000009\n",
      "Aperture: 45.19422214659792\n",
      "Goal Aperture: 43.327486216597926\n",
      "Prev force: 0.6509555930000002\n",
      "Current force: 0.4642820000000003\n",
      "Error: 0.18667359299999986\n",
      "dx: 2.8001038949999977, df: 0.1493388743999999\n",
      "Applied force: 2.0840030120000006\n",
      "Aperture: 45.19422214659792\n",
      "Goal Aperture: 42.394118251597924\n",
      "Prev force: 0.4642820000000003\n",
      "Current force: 0.11795685\n",
      "Error: 0.3463251500000003\n",
      "dx: 5.194877250000005, df: 0.27706012000000024\n",
      "Applied force: 2.361063132000001\n",
      "Aperture: 45.19422214659792\n",
      "Goal Aperture: 39.99934489659792\n",
      "Prev force: 0.11795685\n",
      "Current force: 1.1814872150000002\n",
      "Error: 0\n",
      "dx: 0, df: 0.0\n",
      "Applied force: 2.361063132000001\n",
      "Aperture: 44.968710449468006\n",
      "Goal Aperture: 44.968710449468006\n",
      "Prev force: 1.1814872150000002\n",
      "Current force: 1.1814872150000002\n",
      "Error: 0\n",
      "dx: 0, df: 0.0\n",
      "Applied force: 2.361063132000001\n",
      "Aperture: 44.968710449468006\n",
      "Goal Aperture: 44.968710449468006\n",
      "Prev force: 1.1814872150000002\n",
      "Current force: 1.1814872150000002\n",
      "Error: 0\n",
      "dx: 0, df: 0.0\n",
      "Applied force: 2.361063132000001\n",
      "Aperture: 44.968710449468006\n",
      "Goal Aperture: 44.968710449468006\n",
      "Prev force: 1.1814872150000002\n",
      "Current force: 0.0099776\n",
      "Error: 1.1715096150000002\n",
      "dx: 17.572644225, df: 0.9372076920000002\n",
      "Applied force: 3.298270824000001\n",
      "Aperture: 45.19470103550578\n",
      "Goal Aperture: 27.62205681050578\n",
      "Prev force: 0.0099776\n",
      "Current force: 1.7796170750000002\n",
      "Error: 0\n",
      "dx: 0, df: 0.0\n",
      "Applied force: 3.298270824000001\n",
      "Aperture: 44.516982841553414\n",
      "Goal Aperture: 44.516982841553414\n",
      "Prev force: 1.7796170750000002\n",
      "Current force: 1.7796170750000002\n",
      "Error: 0\n",
      "dx: 0, df: 0.0\n",
      "Applied force: 3.298270824000001\n",
      "Aperture: 44.516982841553414\n",
      "Goal Aperture: 44.516982841553414\n",
      "Prev force: 1.7796170750000002\n",
      "Current force: 1.7796170750000002\n",
      "Error: 0\n",
      "dx: 0, df: 0.0\n",
      "Applied force: 3.298270824000001\n",
      "Aperture: 44.516982841553414\n",
      "Goal Aperture: 44.516982841553414\n",
      "Prev force: 1.7796170750000002\n",
      "Current force: 0.84345167\n",
      "Error: 0.9361654050000002\n",
      "dx: 14.042481075000003, df: 0.7489323240000002\n",
      "Applied force: 4.047203148000001\n",
      "Aperture: 44.516982841553414\n",
      "Goal Aperture: 30.47450176655341\n",
      "Final contact force:  2.009232215\n",
      "Final aperture:  44.064355737788176\n",
      "Final applied force:  4.047203148000001\n"
     ]
    }
   ],
   "source": [
    "G.adaptive_grasp(init_force=0.5, init__aperture=60, kp_F=0.8, kp_x=15, f_err_threshold=0.1, duration=2.5)\n",
    "# G.adaptive_grasp(init_force=1.5, kp_F=0.5, kp_x=10, f_err_threshold=0.1, duration=3.5)"
   ]
  },
  {
   "cell_type": "code",
   "execution_count": 93,
   "metadata": {},
   "outputs": [
    {
     "name": "stdout",
     "output_type": "stream",
     "text": [
      "[{'timestamp': 1723071578.095374, 'aperture': 60.81380362834924, 'gripper_vel': 0, 'contact_force': 0.5055090307621672, 'contact_force_l': 0.34216412301193744, 'contact_force_r': 0.668853938512397, 'applied_force': 1.5, 'k': 0}, {'timestamp': 1723071579.5837433, 'aperture': 60.16844920488003, 'gripper_vel': 0.43359833836797484, 'contact_force': 0.7348643431539261, 'contact_force_l': 0.5747198210010369, 'contact_force_r': 0.8950088653068153, 'applied_force': 1.9, 'k': 474.24795450418503}]\n"
     ]
    },
    {
     "data": {
      "text/plain": [
       "(60.16844920488003,\n",
       " 1.9,\n",
       " [474.24795450418503],\n",
       " [{'timestamp': 1723071578.095374,\n",
       "   'aperture': 60.81380362834924,\n",
       "   'gripper_vel': 0,\n",
       "   'contact_force': 0.5055090307621672,\n",
       "   'contact_force_l': 0.34216412301193744,\n",
       "   'contact_force_r': 0.668853938512397,\n",
       "   'applied_force': 1.5,\n",
       "   'k': 0},\n",
       "  {'timestamp': 1723071579.5837433,\n",
       "   'aperture': 60.16844920488003,\n",
       "   'gripper_vel': 0.43359833836797484,\n",
       "   'contact_force': 0.7348643431539261,\n",
       "   'contact_force_l': 0.5747198210010369,\n",
       "   'contact_force_r': 0.8950088653068153,\n",
       "   'applied_force': 1.9,\n",
       "   'k': 474.24795450418503}])"
      ]
     },
     "execution_count": 93,
     "metadata": {},
     "output_type": "execute_result"
    }
   ],
   "source": [
    "G.deligrasp(50, 17, 2, 0.4, complete=True, debug=False)"
   ]
  },
  {
   "cell_type": "code",
   "execution_count": 73,
   "metadata": {},
   "outputs": [
    {
     "name": "stdout",
     "output_type": "stream",
     "text": [
      "Moving speed of dxl ID: 1 set to 100 \n",
      "Moving speed of dxl ID: 2 set to 100 \n",
      "Position of dxl ID: 1 set to 303 \n",
      "Position of dxl ID: 2 set to 729 \n"
     ]
    }
   ],
   "source": [
    "G.reset_parameters()"
   ]
  },
  {
   "cell_type": "code",
   "execution_count": 74,
   "metadata": {},
   "outputs": [
    {
     "name": "stdout",
     "output_type": "stream",
     "text": [
      "Moving speed of dxl ID: 1 set to 500 \n",
      "Moving speed of dxl ID: 2 set to 500 \n",
      "Position of dxl ID: 1 set to 327 \n",
      "Position of dxl ID: 2 set to 712 \n"
     ]
    }
   ],
   "source": [
    "vt = 500\n",
    "aperture = 0\n",
    "finger = 'right'\n",
    "G.set_torque(1023)\n",
    "G.set_speed(vt)\n",
    "G.set_goal_aperture(100, record_load=False)"
   ]
  },
  {
   "cell_type": "code",
   "execution_count": 75,
   "metadata": {},
   "outputs": [
    {
     "name": "stdout",
     "output_type": "stream",
     "text": [
      "Position of dxl ID: 1 set to 571 \n",
      "0.1921 m/s\n"
     ]
    }
   ],
   "source": [
    "start = time.time()\n",
    "G.set_goal_aperture(aperture, finger=finger, record_load=False)\n",
    "while True:\n",
    "    if G.get_aperture(finger=finger) < aperture + 0.5:\n",
    "        end = time.time()\n",
    "        break\n",
    "speed = (52 - aperture)/(end-start)\n",
    "print(f\"{speed/1000:.4f} m/s\")"
   ]
  },
  {
   "cell_type": "code",
   "execution_count": 273,
   "metadata": {},
   "outputs": [
    {
     "name": "stdout",
     "output_type": "stream",
     "text": [
      "Position of dxl ID: 2 set to 468 \n"
     ]
    },
    {
     "ename": "KeyboardInterrupt",
     "evalue": "",
     "output_type": "error",
     "traceback": [
      "\u001b[0;31m---------------------------------------------------------------------------\u001b[0m",
      "\u001b[0;31mKeyboardInterrupt\u001b[0m                         Traceback (most recent call last)",
      "Cell \u001b[0;32mIn[273], line 4\u001b[0m\n\u001b[1;32m      2\u001b[0m G\u001b[38;5;241m.\u001b[39mset_goal_aperture(\u001b[38;5;241m0\u001b[39m, finger\u001b[38;5;241m=\u001b[39m\u001b[38;5;124m'\u001b[39m\u001b[38;5;124mright\u001b[39m\u001b[38;5;124m'\u001b[39m, record_load\u001b[38;5;241m=\u001b[39m\u001b[38;5;28;01mFalse\u001b[39;00m)\n\u001b[1;32m      3\u001b[0m \u001b[38;5;28;01mwhile\u001b[39;00m \u001b[38;5;28;01mTrue\u001b[39;00m:\n\u001b[0;32m----> 4\u001b[0m     \u001b[38;5;28;01mif\u001b[39;00m \u001b[43mG\u001b[49m\u001b[38;5;241;43m.\u001b[39;49m\u001b[43mget_aperture\u001b[49m\u001b[43m(\u001b[49m\u001b[43m)\u001b[49m \u001b[38;5;241m<\u001b[39m \u001b[38;5;241m0.5\u001b[39m:\n\u001b[1;32m      5\u001b[0m         end \u001b[38;5;241m=\u001b[39m time\u001b[38;5;241m.\u001b[39mtime()\n\u001b[1;32m      6\u001b[0m         \u001b[38;5;28;01mbreak\u001b[39;00m\n",
      "File \u001b[0;32m~/MAGPIE/magpie/prompt_planner/../../magpie/gripper.py:294\u001b[0m, in \u001b[0;36mGripper.get_aperture\u001b[0;34m(self, finger)\u001b[0m\n\u001b[1;32m    292\u001b[0m \u001b[38;5;66;03m# perform inverse calculations of theta_to_position, distance_to_theta\u001b[39;00m\n\u001b[1;32m    293\u001b[0m f1_theta \u001b[38;5;241m=\u001b[39m \u001b[38;5;28mself\u001b[39m\u001b[38;5;241m.\u001b[39mposition_to_theta(\u001b[38;5;28mself\u001b[39m\u001b[38;5;241m.\u001b[39mget_position(finger\u001b[38;5;241m=\u001b[39m\u001b[38;5;124m'\u001b[39m\u001b[38;5;124mleft\u001b[39m\u001b[38;5;124m'\u001b[39m), finger\u001b[38;5;241m=\u001b[39m\u001b[38;5;124m'\u001b[39m\u001b[38;5;124mleft\u001b[39m\u001b[38;5;124m'\u001b[39m)\n\u001b[0;32m--> 294\u001b[0m f2_theta \u001b[38;5;241m=\u001b[39m \u001b[38;5;28mself\u001b[39m\u001b[38;5;241m.\u001b[39mposition_to_theta(\u001b[38;5;28;43mself\u001b[39;49m\u001b[38;5;241;43m.\u001b[39;49m\u001b[43mget_position\u001b[49m\u001b[43m(\u001b[49m\u001b[43mfinger\u001b[49m\u001b[38;5;241;43m=\u001b[39;49m\u001b[38;5;124;43m'\u001b[39;49m\u001b[38;5;124;43mright\u001b[39;49m\u001b[38;5;124;43m'\u001b[39;49m\u001b[43m)\u001b[49m, finger\u001b[38;5;241m=\u001b[39m\u001b[38;5;124m'\u001b[39m\u001b[38;5;124mright\u001b[39m\u001b[38;5;124m'\u001b[39m)\n\u001b[1;32m    295\u001b[0m f1_aperture  \u001b[38;5;241m=\u001b[39m \u001b[38;5;28mself\u001b[39m\u001b[38;5;241m.\u001b[39mtheta_to_aperture(f1_theta)\n\u001b[1;32m    296\u001b[0m f2_aperture  \u001b[38;5;241m=\u001b[39m \u001b[38;5;28mself\u001b[39m\u001b[38;5;241m.\u001b[39mtheta_to_aperture(f2_theta)\n",
      "File \u001b[0;32m~/MAGPIE/magpie/prompt_planner/../../magpie/gripper.py:280\u001b[0m, in \u001b[0;36mGripper.get_position\u001b[0;34m(self, finger)\u001b[0m\n\u001b[1;32m    279\u001b[0m \u001b[38;5;28;01mdef\u001b[39;00m \u001b[38;5;21mget_position\u001b[39m(\u001b[38;5;28mself\u001b[39m, finger\u001b[38;5;241m=\u001b[39m\u001b[38;5;124m'\u001b[39m\u001b[38;5;124mboth\u001b[39m\u001b[38;5;124m'\u001b[39m):\n\u001b[0;32m--> 280\u001b[0m     \u001b[38;5;28;01mreturn\u001b[39;00m(\u001b[38;5;28;43mself\u001b[39;49m\u001b[38;5;241;43m.\u001b[39;49m\u001b[43mapply_to_fingers\u001b[49m\u001b[43m(\u001b[49m\u001b[38;5;124;43m'\u001b[39;49m\u001b[38;5;124;43mget_present_position\u001b[39;49m\u001b[38;5;124;43m'\u001b[39;49m\u001b[43m,\u001b[49m\u001b[43m \u001b[49m\u001b[38;5;28;43;01mNone\u001b[39;49;00m\u001b[43m,\u001b[49m\u001b[43m \u001b[49m\u001b[43mfinger\u001b[49m\u001b[38;5;241;43m=\u001b[39;49m\u001b[43mfinger\u001b[49m\u001b[43m,\u001b[49m\u001b[43m \u001b[49m\u001b[43mnoarg\u001b[49m\u001b[38;5;241;43m=\u001b[39;49m\u001b[38;5;28;43;01mTrue\u001b[39;49;00m\u001b[43m)\u001b[49m)\n",
      "File \u001b[0;32m~/MAGPIE/magpie/prompt_planner/../../magpie/gripper.py:238\u001b[0m, in \u001b[0;36mGripper.apply_to_fingers\u001b[0;34m(self, action_func_name, arg, finger, noarg)\u001b[0m\n\u001b[1;32m    236\u001b[0m \u001b[38;5;28;01melif\u001b[39;00m finger \u001b[38;5;241m==\u001b[39m \u001b[38;5;124m'\u001b[39m\u001b[38;5;124mright\u001b[39m\u001b[38;5;124m'\u001b[39m:\n\u001b[1;32m    237\u001b[0m     \u001b[38;5;28;01mif\u001b[39;00m noarg:\n\u001b[0;32m--> 238\u001b[0m         \u001b[38;5;28;01mreturn\u001b[39;00m \u001b[38;5;28;43mgetattr\u001b[39;49m\u001b[43m(\u001b[49m\u001b[38;5;28;43mself\u001b[39;49m\u001b[38;5;241;43m.\u001b[39;49m\u001b[43mFinger2\u001b[49m\u001b[43m,\u001b[49m\u001b[43m \u001b[49m\u001b[43maction_func_name\u001b[49m\u001b[43m)\u001b[49m\u001b[43m(\u001b[49m\u001b[43m)\u001b[49m\n\u001b[1;32m    239\u001b[0m     \u001b[38;5;28;01melse\u001b[39;00m:\n\u001b[1;32m    240\u001b[0m         \u001b[38;5;28;01mreturn\u001b[39;00m \u001b[38;5;28mgetattr\u001b[39m(\u001b[38;5;28mself\u001b[39m\u001b[38;5;241m.\u001b[39mFinger2, action_func_name)(arg)\n",
      "File \u001b[0;32m~/MAGPIE/magpie/prompt_planner/../../magpie/ax12.py:110\u001b[0m, in \u001b[0;36mAx12.get_present_position\u001b[0;34m(self)\u001b[0m\n\u001b[1;32m    109\u001b[0m \u001b[38;5;28;01mdef\u001b[39;00m \u001b[38;5;21mget_present_position\u001b[39m(\u001b[38;5;28mself\u001b[39m):\n\u001b[0;32m--> 110\u001b[0m     \u001b[38;5;28;01mreturn\u001b[39;00m \u001b[38;5;28;43mself\u001b[39;49m\u001b[38;5;241;43m.\u001b[39;49m\u001b[43mget_register2\u001b[49m\u001b[43m(\u001b[49m\u001b[43mADDR_AX_PRESENT_POSITION_L\u001b[49m\u001b[43m)\u001b[49m\n",
      "File \u001b[0;32m~/MAGPIE/magpie/prompt_planner/../../magpie/ax12.py:97\u001b[0m, in \u001b[0;36mAx12.get_register2\u001b[0;34m(self, reg_num_low)\u001b[0m\n\u001b[1;32m     96\u001b[0m \u001b[38;5;28;01mdef\u001b[39;00m \u001b[38;5;21mget_register2\u001b[39m(\u001b[38;5;28mself\u001b[39m, reg_num_low):\n\u001b[0;32m---> 97\u001b[0m     reg_data, dxl_comm_result, dxl_error \u001b[38;5;241m=\u001b[39m \u001b[43mAx12\u001b[49m\u001b[38;5;241;43m.\u001b[39;49m\u001b[43mpacketHandler\u001b[49m\u001b[38;5;241;43m.\u001b[39;49m\u001b[43mread2ByteTxRx\u001b[49m\u001b[43m(\u001b[49m\n\u001b[1;32m     98\u001b[0m \u001b[43m        \u001b[49m\u001b[43mAx12\u001b[49m\u001b[38;5;241;43m.\u001b[39;49m\u001b[43mportHandler\u001b[49m\u001b[43m,\u001b[49m\u001b[43m \u001b[49m\u001b[38;5;28;43mself\u001b[39;49m\u001b[38;5;241;43m.\u001b[39;49m\u001b[43mid\u001b[49m\u001b[43m,\u001b[49m\u001b[43m \u001b[49m\u001b[43mreg_num_low\u001b[49m\u001b[43m)\u001b[49m\n\u001b[1;32m     99\u001b[0m     Ax12\u001b[38;5;241m.\u001b[39mcheck_error(dxl_comm_result, dxl_error)\n\u001b[1;32m    100\u001b[0m     \u001b[38;5;28;01mreturn\u001b[39;00m reg_data\n",
      "File \u001b[0;32m~/.local/lib/python3.10/site-packages/dynamixel_sdk/protocol1_packet_handler.py:375\u001b[0m, in \u001b[0;36mProtocol1PacketHandler.read2ByteTxRx\u001b[0;34m(self, port, dxl_id, address)\u001b[0m\n\u001b[1;32m    374\u001b[0m \u001b[38;5;28;01mdef\u001b[39;00m \u001b[38;5;21mread2ByteTxRx\u001b[39m(\u001b[38;5;28mself\u001b[39m, port, dxl_id, address):\n\u001b[0;32m--> 375\u001b[0m     data, result, error \u001b[38;5;241m=\u001b[39m \u001b[38;5;28;43mself\u001b[39;49m\u001b[38;5;241;43m.\u001b[39;49m\u001b[43mreadTxRx\u001b[49m\u001b[43m(\u001b[49m\u001b[43mport\u001b[49m\u001b[43m,\u001b[49m\u001b[43m \u001b[49m\u001b[43mdxl_id\u001b[49m\u001b[43m,\u001b[49m\u001b[43m \u001b[49m\u001b[43maddress\u001b[49m\u001b[43m,\u001b[49m\u001b[43m \u001b[49m\u001b[38;5;241;43m2\u001b[39;49m\u001b[43m)\u001b[49m\n\u001b[1;32m    376\u001b[0m     data_read \u001b[38;5;241m=\u001b[39m DXL_MAKEWORD(data[\u001b[38;5;241m0\u001b[39m], data[\u001b[38;5;241m1\u001b[39m]) \u001b[38;5;28;01mif\u001b[39;00m (result \u001b[38;5;241m==\u001b[39m COMM_SUCCESS) \u001b[38;5;28;01melse\u001b[39;00m \u001b[38;5;241m0\u001b[39m\n\u001b[1;32m    377\u001b[0m     \u001b[38;5;28;01mreturn\u001b[39;00m data_read, result, error\n",
      "File \u001b[0;32m~/.local/lib/python3.10/site-packages/dynamixel_sdk/protocol1_packet_handler.py:345\u001b[0m, in \u001b[0;36mProtocol1PacketHandler.readTxRx\u001b[0;34m(self, port, dxl_id, address, length)\u001b[0m\n\u001b[1;32m    342\u001b[0m txpacket[PKT_PARAMETER0 \u001b[38;5;241m+\u001b[39m \u001b[38;5;241m0\u001b[39m] \u001b[38;5;241m=\u001b[39m address\n\u001b[1;32m    343\u001b[0m txpacket[PKT_PARAMETER0 \u001b[38;5;241m+\u001b[39m \u001b[38;5;241m1\u001b[39m] \u001b[38;5;241m=\u001b[39m length\n\u001b[0;32m--> 345\u001b[0m rxpacket, result, error \u001b[38;5;241m=\u001b[39m \u001b[38;5;28;43mself\u001b[39;49m\u001b[38;5;241;43m.\u001b[39;49m\u001b[43mtxRxPacket\u001b[49m\u001b[43m(\u001b[49m\u001b[43mport\u001b[49m\u001b[43m,\u001b[49m\u001b[43m \u001b[49m\u001b[43mtxpacket\u001b[49m\u001b[43m)\u001b[49m\n\u001b[1;32m    346\u001b[0m \u001b[38;5;28;01mif\u001b[39;00m result \u001b[38;5;241m==\u001b[39m COMM_SUCCESS:\n\u001b[1;32m    347\u001b[0m     error \u001b[38;5;241m=\u001b[39m rxpacket[PKT_ERROR]\n",
      "File \u001b[0;32m~/.local/lib/python3.10/site-packages/dynamixel_sdk/protocol1_packet_handler.py:231\u001b[0m, in \u001b[0;36mProtocol1PacketHandler.txRxPacket\u001b[0;34m(self, port, txpacket)\u001b[0m\n\u001b[1;32m    229\u001b[0m \u001b[38;5;66;03m# rx packet\u001b[39;00m\n\u001b[1;32m    230\u001b[0m \u001b[38;5;28;01mwhile\u001b[39;00m \u001b[38;5;28;01mTrue\u001b[39;00m:\n\u001b[0;32m--> 231\u001b[0m     rxpacket, result \u001b[38;5;241m=\u001b[39m \u001b[38;5;28;43mself\u001b[39;49m\u001b[38;5;241;43m.\u001b[39;49m\u001b[43mrxPacket\u001b[49m\u001b[43m(\u001b[49m\u001b[43mport\u001b[49m\u001b[43m)\u001b[49m\n\u001b[1;32m    232\u001b[0m     \u001b[38;5;28;01mif\u001b[39;00m result \u001b[38;5;241m!=\u001b[39m COMM_SUCCESS \u001b[38;5;129;01mor\u001b[39;00m txpacket[PKT_ID] \u001b[38;5;241m==\u001b[39m rxpacket[PKT_ID]:\n\u001b[1;32m    233\u001b[0m         \u001b[38;5;28;01mbreak\u001b[39;00m\n",
      "File \u001b[0;32m~/.local/lib/python3.10/site-packages/dynamixel_sdk/protocol1_packet_handler.py:139\u001b[0m, in \u001b[0;36mProtocol1PacketHandler.rxPacket\u001b[0;34m(self, port)\u001b[0m\n\u001b[1;32m    136\u001b[0m wait_length \u001b[38;5;241m=\u001b[39m \u001b[38;5;241m6\u001b[39m  \u001b[38;5;66;03m# minimum length (HEADER0 HEADER1 ID LENGTH ERROR CHKSUM)\u001b[39;00m\n\u001b[1;32m    138\u001b[0m \u001b[38;5;28;01mwhile\u001b[39;00m \u001b[38;5;28;01mTrue\u001b[39;00m:\n\u001b[0;32m--> 139\u001b[0m     rxpacket\u001b[38;5;241m.\u001b[39mextend(\u001b[43mport\u001b[49m\u001b[38;5;241;43m.\u001b[39;49m\u001b[43mreadPort\u001b[49m\u001b[43m(\u001b[49m\u001b[43mwait_length\u001b[49m\u001b[43m \u001b[49m\u001b[38;5;241;43m-\u001b[39;49m\u001b[43m \u001b[49m\u001b[43mrx_length\u001b[49m\u001b[43m)\u001b[49m)\n\u001b[1;32m    140\u001b[0m     rx_length \u001b[38;5;241m=\u001b[39m \u001b[38;5;28mlen\u001b[39m(rxpacket)\n\u001b[1;32m    141\u001b[0m     \u001b[38;5;28;01mif\u001b[39;00m rx_length \u001b[38;5;241m>\u001b[39m\u001b[38;5;241m=\u001b[39m wait_length:\n\u001b[1;32m    142\u001b[0m         \u001b[38;5;66;03m# find packet header\u001b[39;00m\n",
      "File \u001b[0;32m~/.local/lib/python3.10/site-packages/dynamixel_sdk/port_handler.py:78\u001b[0m, in \u001b[0;36mPortHandler.readPort\u001b[0;34m(self, length)\u001b[0m\n\u001b[1;32m     76\u001b[0m \u001b[38;5;28;01mdef\u001b[39;00m \u001b[38;5;21mreadPort\u001b[39m(\u001b[38;5;28mself\u001b[39m, length):\n\u001b[1;32m     77\u001b[0m     \u001b[38;5;28;01mif\u001b[39;00m (sys\u001b[38;5;241m.\u001b[39mversion_info \u001b[38;5;241m>\u001b[39m (\u001b[38;5;241m3\u001b[39m, \u001b[38;5;241m0\u001b[39m)):\n\u001b[0;32m---> 78\u001b[0m         \u001b[38;5;28;01mreturn\u001b[39;00m \u001b[38;5;28;43mself\u001b[39;49m\u001b[38;5;241;43m.\u001b[39;49m\u001b[43mser\u001b[49m\u001b[38;5;241;43m.\u001b[39;49m\u001b[43mread\u001b[49m\u001b[43m(\u001b[49m\u001b[43mlength\u001b[49m\u001b[43m)\u001b[49m\n\u001b[1;32m     79\u001b[0m     \u001b[38;5;28;01melse\u001b[39;00m:\n\u001b[1;32m     80\u001b[0m         \u001b[38;5;28;01mreturn\u001b[39;00m [\u001b[38;5;28mord\u001b[39m(ch) \u001b[38;5;28;01mfor\u001b[39;00m ch \u001b[38;5;129;01min\u001b[39;00m \u001b[38;5;28mself\u001b[39m\u001b[38;5;241m.\u001b[39mser\u001b[38;5;241m.\u001b[39mread(length)]\n",
      "\u001b[0;31mKeyboardInterrupt\u001b[0m: "
     ]
    }
   ],
   "source": [
    "start = time.time()\n",
    "G.set_goal_aperture(0, record_load=False)\n",
    "while True:\n",
    "    if G.get_aperture() < 0.5:\n",
    "        end = time.time()\n",
    "        break\n",
    "speed = 100/(end-start)\n",
    "print(f\"{speed/1000:.4f} m/s\")"
   ]
  },
  {
   "cell_type": "code",
   "execution_count": 210,
   "metadata": {},
   "outputs": [
    {
     "name": "stdout",
     "output_type": "stream",
     "text": [
      "Position of dxl ID: 1 set to 461 \n",
      "Position of dxl ID: 2 set to 578 \n",
      "0.0328 m/s\n"
     ]
    }
   ],
   "source": [
    "start = time.time()\n",
    "G.set_goal_aperture(50, record_load=False)\n",
    "while True:\n",
    "    if G.get_aperture() < 51:\n",
    "        end = time.time()\n",
    "        break\n",
    "speed = 50/(end-start)\n",
    "print(f\"{speed/1000:.4f} m/s\")"
   ]
  },
  {
   "cell_type": "code",
   "execution_count": 126,
   "metadata": {},
   "outputs": [
    {
     "data": {
      "text/plain": [
       "184.65282589918175"
      ]
     },
     "execution_count": 126,
     "metadata": {},
     "output_type": "execute_result"
    }
   ],
   "source": []
  },
  {
   "cell_type": "code",
   "execution_count": 73,
   "metadata": {},
   "outputs": [
    {
     "data": {
      "text/plain": [
       "100.12656546279067"
      ]
     },
     "execution_count": 73,
     "metadata": {},
     "output_type": "execute_result"
    }
   ],
   "source": [
    "G.get_aperture()"
   ]
  },
  {
   "cell_type": "code",
   "execution_count": 70,
   "metadata": {},
   "outputs": [
    {
     "data": {
      "text/plain": [
       "[460, 578]"
      ]
     },
     "execution_count": 70,
     "metadata": {},
     "output_type": "execute_result"
    }
   ],
   "source": [
    "G.get_position()"
   ]
  },
  {
   "cell_type": "code",
   "execution_count": 66,
   "metadata": {},
   "outputs": [
    {
     "name": "stdout",
     "output_type": "stream",
     "text": [
      "Moving speed of dxl ID: 1 set to 100 \n",
      "Moving speed of dxl ID: 2 set to 100 \n",
      "Position of dxl ID: 1 set to 303 \n",
      "Position of dxl ID: 2 set to 729 \n"
     ]
    }
   ],
   "source": [
    "G.reset_parameters()"
   ]
  },
  {
   "cell_type": "code",
   "execution_count": 46,
   "metadata": {},
   "outputs": [
    {
     "name": "stdout",
     "output_type": "stream",
     "text": [
      "Position of dxl ID: 1 set to 586 \n",
      "Position of dxl ID: 2 set to 450 \n"
     ]
    }
   ],
   "source": [
    "G.close_gripper()"
   ]
  },
  {
   "cell_type": "code",
   "execution_count": 1010,
   "metadata": {},
   "outputs": [
    {
     "name": "stdout",
     "output_type": "stream",
     "text": [
      "Torque enable dxl ID: 1 set to 1 \n",
      "Torque enable dxl ID: 2 set to 1 \n"
     ]
    }
   ],
   "source": [
    "G.reset_packet_overload()"
   ]
  },
  {
   "cell_type": "code",
   "execution_count": 64,
   "metadata": {},
   "outputs": [
    {
     "name": "stdout",
     "output_type": "stream",
     "text": [
      "L: 0.152 N, R: 0.150 N\n",
      "L: 0.152 N, R: 0.150 N\n",
      "L: 0.152 N, R: 0.150 N\n",
      "L: 0.152 N, R: 0.150 N\n",
      "L: 0.152 N, R: 0.150 N\n",
      "L: 0.152 N, R: 0.150 N\n",
      "L: 0.152 N, R: 0.150 N\n",
      "L: 0.152 N, R: 0.150 N\n",
      "L: 0.152 N, R: 0.150 N\n",
      "L: 0.152 N, R: 0.150 N\n",
      "L: 0.152 N, R: 0.150 N\n",
      "L: 0.152 N, R: 0.150 N\n",
      "L: 0.152 N, R: 0.150 N\n",
      "L: 0.152 N, R: 0.150 N\n",
      "L: 0.152 N, R: 0.150 N\n",
      "L: 0.152 N, R: 0.150 N\n",
      "L: 0.152 N, R: 0.150 N\n",
      "L: 0.152 N, R: 0.150 N\n",
      "L: 0.152 N, R: 0.150 N\n",
      "L: 0.152 N, R: 0.150 N\n",
      "L: 0.152 N, R: 0.150 N\n",
      "L: 0.152 N, R: 0.150 N\n",
      "L: 0.152 N, R: 0.150 N\n",
      "L: 0.152 N, R: 0.150 N\n",
      "L: 0.152 N, R: 0.150 N\n",
      "L: 0.152 N, R: 0.150 N\n",
      "L: 0.152 N, R: 0.150 N\n",
      "L: 0.152 N, R: 0.150 N\n",
      "L: 0.152 N, R: 0.150 N\n",
      "L: 0.152 N, R: 0.150 N\n",
      "L: 0.152 N, R: 0.150 N\n",
      "L: 0.152 N, R: 0.150 N\n",
      "L: 0.152 N, R: 0.150 N\n",
      "L: 0.152 N, R: 0.150 N\n",
      "L: 0.152 N, R: 0.150 N\n",
      "L: 0.152 N, R: 0.150 N\n",
      "L: 0.152 N, R: 0.150 N\n",
      "L: 0.152 N, R: 0.150 N\n",
      "L: 0.152 N, R: 0.150 N\n",
      "L: 0.152 N, R: 0.150 N\n",
      "L: 0.152 N, R: 0.138 N\n",
      "L: 0.152 N, R: 0.131 N\n",
      "L: 0.152 N, R: 0.131 N\n",
      "L: 0.152 N, R: 0.131 N\n",
      "L: 0.152 N, R: 0.131 N\n",
      "L: 0.152 N, R: 0.131 N\n",
      "L: 0.152 N, R: 0.131 N\n",
      "L: 0.152 N, R: 0.131 N\n",
      "L: 0.152 N, R: 0.131 N\n",
      "L: 0.152 N, R: 0.138 N\n",
      "L: 0.152 N, R: 0.150 N\n",
      "L: 0.152 N, R: 0.150 N\n",
      "L: 0.152 N, R: 0.150 N\n",
      "L: 0.152 N, R: 0.150 N\n",
      "L: 0.152 N, R: 0.150 N\n",
      "L: 0.152 N, R: 0.150 N\n",
      "L: 0.152 N, R: 0.150 N\n",
      "L: 0.152 N, R: 0.150 N\n",
      "L: 0.152 N, R: 0.111 N\n",
      "L: 0.152 N, R: 0.020 N\n",
      "L: 0.152 N, R: 0.020 N\n",
      "L: 0.152 N, R: 0.020 N\n",
      "L: 0.152 N, R: 0.020 N\n",
      "L: 0.152 N, R: 0.020 N\n",
      "L: 0.152 N, R: 0.020 N\n",
      "L: 0.152 N, R: 0.020 N\n",
      "L: 0.152 N, R: 0.020 N\n",
      "L: 0.152 N, R: 0.042 N\n",
      "L: 0.152 N, R: 0.131 N\n",
      "L: 0.152 N, R: 0.131 N\n",
      "L: 0.152 N, R: 0.131 N\n",
      "L: 0.152 N, R: 0.131 N\n",
      "L: 0.152 N, R: 0.131 N\n",
      "L: 0.152 N, R: 0.131 N\n",
      "L: 0.152 N, R: 0.131 N\n",
      "L: 0.152 N, R: 0.131 N\n",
      "L: 0.152 N, R: 0.131 N\n",
      "L: 0.152 N, R: 0.031 N\n",
      "L: 0.152 N, R: 0.020 N\n",
      "L: 0.152 N, R: 0.020 N\n",
      "L: 0.152 N, R: 0.020 N\n",
      "L: 0.152 N, R: 0.020 N\n",
      "L: 0.152 N, R: 0.020 N\n",
      "L: 0.152 N, R: 0.020 N\n",
      "L: 0.152 N, R: 0.020 N\n",
      "L: 0.152 N, R: 0.020 N\n",
      "L: 0.152 N, R: 0.108 N\n",
      "L: 0.152 N, R: 0.131 N\n",
      "L: 0.152 N, R: 0.131 N\n",
      "L: 0.152 N, R: 0.131 N\n",
      "L: 0.152 N, R: 0.131 N\n",
      "L: 0.152 N, R: 0.131 N\n",
      "L: 0.152 N, R: 0.131 N\n",
      "L: 0.152 N, R: 0.131 N\n",
      "L: 0.152 N, R: 0.131 N\n",
      "L: 0.152 N, R: 0.165 N\n",
      "L: 0.152 N, R: 0.169 N\n",
      "L: 0.152 N, R: 0.169 N\n",
      "L: 0.152 N, R: 0.169 N\n",
      "L: 0.152 N, R: 0.169 N\n",
      "L: 0.152 N, R: 0.169 N\n",
      "L: 0.152 N, R: 0.169 N\n",
      "L: 0.152 N, R: 0.169 N\n",
      "L: 0.152 N, R: 0.169 N\n",
      "L: 0.152 N, R: 0.051 N\n",
      "L: 0.152 N, R: 0.000 N\n",
      "L: 0.152 N, R: 0.000 N\n",
      "L: 0.152 N, R: 0.000 N\n",
      "L: 0.152 N, R: 0.000 N\n",
      "L: 0.152 N, R: 0.000 N\n",
      "L: 0.152 N, R: 0.000 N\n",
      "L: 0.152 N, R: 0.000 N\n",
      "L: 0.152 N, R: 0.000 N\n",
      "L: 0.152 N, R: 0.075 N\n",
      "L: 0.152 N, R: 0.150 N\n",
      "L: 0.152 N, R: 0.150 N\n",
      "L: 0.152 N, R: 0.150 N\n",
      "L: 0.152 N, R: 0.150 N\n",
      "L: 0.152 N, R: 0.150 N\n",
      "L: 0.152 N, R: 0.150 N\n",
      "L: 0.152 N, R: 0.150 N\n",
      "L: 0.152 N, R: 0.150 N\n",
      "L: 0.152 N, R: 0.150 N\n",
      "L: 0.152 N, R: 0.150 N\n",
      "L: 0.152 N, R: 0.150 N\n",
      "L: 0.152 N, R: 0.150 N\n",
      "L: 0.152 N, R: 0.150 N\n",
      "L: 0.152 N, R: 0.150 N\n",
      "L: 0.152 N, R: 0.150 N\n",
      "L: 0.152 N, R: 0.150 N\n",
      "L: 0.152 N, R: 0.150 N\n",
      "L: 0.152 N, R: 0.150 N\n",
      "L: 0.152 N, R: 0.150 N\n",
      "L: 0.152 N, R: 0.150 N\n",
      "L: 0.152 N, R: 0.150 N\n",
      "L: 0.152 N, R: 0.150 N\n",
      "L: 0.152 N, R: 0.150 N\n",
      "L: 0.152 N, R: 0.150 N\n",
      "L: 0.152 N, R: 0.150 N\n",
      "L: 0.152 N, R: 0.150 N\n",
      "L: 0.152 N, R: 0.150 N\n",
      "L: 0.152 N, R: 0.131 N\n",
      "L: 0.152 N, R: 0.131 N\n",
      "L: 0.152 N, R: 0.131 N\n",
      "L: 0.152 N, R: 0.131 N\n",
      "L: 0.152 N, R: 0.131 N\n",
      "L: 0.152 N, R: 0.131 N\n",
      "L: 0.152 N, R: 0.131 N\n",
      "L: 0.152 N, R: 0.131 N\n",
      "L: 0.152 N, R: 0.131 N\n",
      "L: 0.152 N, R: 0.020 N\n",
      "L: 0.152 N, R: 0.020 N\n",
      "L: 0.152 N, R: 0.020 N\n",
      "L: 0.152 N, R: 0.020 N\n",
      "L: 0.152 N, R: 0.020 N\n",
      "L: 0.152 N, R: 0.020 N\n",
      "L: 0.152 N, R: 0.020 N\n",
      "L: 0.152 N, R: 0.020 N\n",
      "L: 0.152 N, R: 0.031 N\n",
      "L: 0.152 N, R: 0.131 N\n",
      "L: 0.152 N, R: 0.131 N\n",
      "L: 0.152 N, R: 0.131 N\n",
      "L: 0.152 N, R: 0.131 N\n",
      "L: 0.152 N, R: 0.131 N\n",
      "L: 0.152 N, R: 0.131 N\n",
      "L: 0.061 N, R: 0.131 N\n",
      "L: 0.000 N, R: 0.131 N\n",
      "L: 0.000 N, R: 0.134 N\n",
      "L: 0.000 N, R: 0.169 N\n",
      "L: 0.000 N, R: 0.169 N\n",
      "L: 0.000 N, R: 0.169 N\n",
      "L: 0.000 N, R: 0.169 N\n",
      "L: 0.000 N, R: 0.169 N\n",
      "L: 0.000 N, R: 0.169 N\n",
      "L: 0.091 N, R: 0.169 N\n",
      "L: 0.152 N, R: 0.169 N\n",
      "L: 0.152 N, R: 0.161 N\n",
      "L: 0.152 N, R: 0.131 N\n",
      "L: 0.152 N, R: 0.131 N\n",
      "L: 0.152 N, R: 0.131 N\n",
      "L: 0.152 N, R: 0.131 N\n",
      "L: 0.152 N, R: 0.131 N\n",
      "L: 0.152 N, R: 0.131 N\n",
      "L: 0.152 N, R: 0.131 N\n",
      "L: 0.152 N, R: 0.131 N\n",
      "L: 0.152 N, R: 0.134 N\n",
      "L: 0.152 N, R: 0.169 N\n",
      "L: 0.152 N, R: 0.169 N\n",
      "L: 0.152 N, R: 0.169 N\n",
      "L: 0.152 N, R: 0.169 N\n",
      "L: 0.152 N, R: 0.169 N\n",
      "L: 0.152 N, R: 0.169 N\n",
      "L: 0.152 N, R: 0.169 N\n",
      "L: 0.152 N, R: 0.169 N\n",
      "L: 0.152 N, R: 0.169 N\n",
      "L: 0.152 N, R: 0.000 N\n",
      "L: 0.152 N, R: 0.000 N\n",
      "L: 0.152 N, R: 0.000 N\n",
      "L: 0.152 N, R: 0.000 N\n",
      "L: 0.152 N, R: 0.000 N\n",
      "L: 0.152 N, R: 0.000 N\n",
      "L: 0.152 N, R: 0.000 N\n",
      "L: 0.152 N, R: 0.000 N\n",
      "L: 0.152 N, R: 0.000 N\n",
      "L: 0.152 N, R: 0.120 N\n",
      "L: 0.152 N, R: 0.150 N\n",
      "L: 0.152 N, R: 0.150 N\n",
      "L: 0.152 N, R: 0.150 N\n",
      "L: 0.152 N, R: 0.150 N\n",
      "L: 0.152 N, R: 0.150 N\n",
      "L: 0.152 N, R: 0.150 N\n",
      "L: 0.152 N, R: 0.150 N\n",
      "L: 0.152 N, R: 0.150 N\n",
      "L: 0.152 N, R: 0.090 N\n",
      "L: 0.152 N, R: 0.000 N\n",
      "L: 0.152 N, R: 0.000 N\n",
      "L: 0.152 N, R: 0.000 N\n",
      "L: 0.152 N, R: 0.000 N\n",
      "L: 0.152 N, R: 0.000 N\n",
      "L: 0.152 N, R: 0.000 N\n",
      "L: 0.152 N, R: 0.000 N\n",
      "L: 0.152 N, R: 0.000 N\n",
      "L: 0.152 N, R: 0.060 N\n",
      "L: 0.152 N, R: 0.150 N\n",
      "L: 0.152 N, R: 0.150 N\n",
      "L: 0.152 N, R: 0.150 N\n",
      "L: 0.152 N, R: 0.150 N\n",
      "L: 0.152 N, R: 0.150 N\n",
      "L: 0.152 N, R: 0.150 N\n",
      "L: 0.152 N, R: 0.150 N\n",
      "L: 0.152 N, R: 0.150 N\n",
      "L: 0.152 N, R: 0.150 N\n",
      "L: 0.152 N, R: 0.150 N\n",
      "L: 0.152 N, R: 0.150 N\n",
      "L: 0.152 N, R: 0.150 N\n",
      "L: 0.152 N, R: 0.150 N\n",
      "L: 0.152 N, R: 0.150 N\n",
      "L: 0.152 N, R: 0.150 N\n",
      "L: 0.152 N, R: 0.150 N\n",
      "L: 0.152 N, R: 0.150 N\n",
      "L: 0.152 N, R: 0.086 N\n",
      "L: 0.152 N, R: 0.022 N\n",
      "L: 0.152 N, R: 0.022 N\n",
      "L: 0.152 N, R: 0.022 N\n",
      "L: 0.152 N, R: 0.022 N\n",
      "L: 0.152 N, R: 0.022 N\n",
      "L: 0.152 N, R: 0.022 N\n",
      "L: 0.152 N, R: 0.022 N\n",
      "L: 0.152 N, R: 0.022 N\n",
      "L: 0.152 N, R: 0.009 N\n",
      "L: 0.152 N, R: 0.000 N\n",
      "L: 0.152 N, R: 0.000 N\n",
      "L: 0.152 N, R: 0.000 N\n",
      "L: 0.152 N, R: 0.000 N\n",
      "L: 0.152 N, R: 0.000 N\n",
      "L: 0.152 N, R: 0.000 N\n",
      "L: 0.152 N, R: 0.000 N\n",
      "L: 0.152 N, R: 0.000 N\n",
      "L: 0.152 N, R: 0.010 N\n",
      "L: 0.152 N, R: 0.020 N\n",
      "L: 0.152 N, R: 0.020 N\n",
      "L: 0.152 N, R: 0.020 N\n",
      "L: 0.152 N, R: 0.020 N\n",
      "L: 0.152 N, R: 0.020 N\n",
      "L: 0.152 N, R: 0.020 N\n",
      "L: 0.152 N, R: 0.020 N\n",
      "L: 0.152 N, R: 0.020 N\n",
      "L: 0.152 N, R: 0.014 N\n",
      "L: 0.152 N, R: 0.000 N\n",
      "L: 0.152 N, R: 0.000 N\n",
      "L: 0.152 N, R: 0.000 N\n",
      "L: 0.152 N, R: 0.000 N\n",
      "L: 0.152 N, R: 0.000 N\n",
      "L: 0.152 N, R: 0.000 N\n",
      "L: 0.152 N, R: 0.000 N\n",
      "L: 0.152 N, R: 0.000 N\n",
      "L: 0.152 N, R: 0.000 N\n",
      "L: 0.152 N, R: 0.131 N\n",
      "L: 0.152 N, R: 0.131 N\n",
      "L: 0.152 N, R: 0.131 N\n",
      "L: 0.152 N, R: 0.131 N\n",
      "L: 0.152 N, R: 0.131 N\n",
      "L: 0.152 N, R: 0.131 N\n",
      "L: 0.152 N, R: 0.131 N\n",
      "L: 0.152 N, R: 0.131 N\n",
      "L: 0.152 N, R: 0.131 N\n",
      "L: 0.152 N, R: 0.158 N\n",
      "L: 0.152 N, R: 0.169 N\n",
      "L: 0.152 N, R: 0.169 N\n",
      "L: 0.152 N, R: 0.169 N\n",
      "L: 0.152 N, R: 0.169 N\n",
      "L: 0.152 N, R: 0.169 N\n",
      "L: 0.152 N, R: 0.169 N\n",
      "L: 0.135 N, R: 0.169 N\n",
      "L: 0.133 N, R: 0.169 N\n",
      "L: 0.133 N, R: 0.158 N\n",
      "L: 0.133 N, R: 0.150 N\n",
      "L: 0.133 N, R: 0.150 N\n",
      "L: 0.133 N, R: 0.150 N\n",
      "L: 0.133 N, R: 0.150 N\n",
      "L: 0.133 N, R: 0.150 N\n",
      "L: 0.133 N, R: 0.150 N\n",
      "L: 0.168 N, R: 0.150 N\n",
      "L: 0.172 N, R: 0.150 N\n",
      "L: 0.172 N, R: 0.140 N\n",
      "L: 0.172 N, R: 0.131 N\n",
      "L: 0.172 N, R: 0.131 N\n",
      "L: 0.172 N, R: 0.131 N\n",
      "L: 0.172 N, R: 0.131 N\n",
      "L: 0.172 N, R: 0.131 N\n",
      "L: 0.172 N, R: 0.131 N\n",
      "L: 0.158 N, R: 0.131 N\n",
      "L: 0.152 N, R: 0.131 N\n",
      "L: 0.152 N, R: 0.142 N\n",
      "L: 0.152 N, R: 0.169 N\n",
      "L: 0.152 N, R: 0.169 N\n",
      "L: 0.152 N, R: 0.169 N\n",
      "L: 0.152 N, R: 0.169 N\n",
      "L: 0.152 N, R: 0.169 N\n",
      "L: 0.152 N, R: 0.169 N\n",
      "L: 0.152 N, R: 0.169 N\n",
      "L: 0.152 N, R: 0.169 N\n",
      "L: 0.152 N, R: 0.165 N\n",
      "L: 0.152 N, R: 0.150 N\n",
      "L: 0.152 N, R: 0.150 N\n",
      "L: 0.152 N, R: 0.150 N\n",
      "L: 0.152 N, R: 0.150 N\n",
      "L: 0.152 N, R: 0.150 N\n",
      "L: 0.152 N, R: 0.150 N\n",
      "L: 0.152 N, R: 0.150 N\n",
      "L: 0.152 N, R: 0.150 N\n",
      "L: 0.152 N, R: 0.150 N\n",
      "L: 0.152 N, R: 0.150 N\n",
      "L: 0.152 N, R: 0.150 N\n",
      "L: 0.152 N, R: 0.150 N\n",
      "L: 0.152 N, R: 0.150 N\n",
      "L: 0.152 N, R: 0.150 N\n",
      "L: 0.152 N, R: 0.150 N\n",
      "L: 0.152 N, R: 0.150 N\n",
      "L: 0.152 N, R: 0.150 N\n",
      "L: 0.152 N, R: 0.150 N\n",
      "L: 0.152 N, R: 0.150 N\n",
      "L: 0.152 N, R: 0.150 N\n",
      "L: 0.152 N, R: 0.150 N\n",
      "L: 0.152 N, R: 0.150 N\n",
      "L: 0.152 N, R: 0.150 N\n",
      "L: 0.152 N, R: 0.150 N\n",
      "L: 0.152 N, R: 0.150 N\n",
      "L: 0.152 N, R: 0.150 N\n",
      "L: 0.152 N, R: 0.150 N\n",
      "L: 0.152 N, R: 0.150 N\n",
      "L: 0.152 N, R: 0.150 N\n",
      "L: 0.152 N, R: 0.150 N\n",
      "L: 0.152 N, R: 0.150 N\n",
      "L: 0.152 N, R: 0.150 N\n",
      "L: 0.152 N, R: 0.150 N\n",
      "L: 0.152 N, R: 0.150 N\n",
      "L: 0.152 N, R: 0.150 N\n",
      "L: 0.152 N, R: 0.150 N\n",
      "L: 0.152 N, R: 0.150 N\n",
      "L: 0.152 N, R: 0.150 N\n",
      "L: 0.152 N, R: 0.150 N\n",
      "L: 0.152 N, R: 0.150 N\n",
      "L: 0.152 N, R: 0.150 N\n",
      "L: 0.152 N, R: 0.150 N\n",
      "L: 0.152 N, R: 0.150 N\n",
      "L: 0.152 N, R: 0.150 N\n",
      "L: 0.152 N, R: 0.150 N\n",
      "L: 0.152 N, R: 0.150 N\n",
      "L: 0.152 N, R: 0.150 N\n",
      "L: 0.152 N, R: 0.150 N\n",
      "L: 0.152 N, R: 0.150 N\n",
      "L: 0.152 N, R: 0.150 N\n",
      "L: 0.152 N, R: 0.150 N\n",
      "L: 0.152 N, R: 0.150 N\n",
      "L: 0.152 N, R: 0.150 N\n",
      "L: 0.152 N, R: 0.150 N\n",
      "L: 0.152 N, R: 0.150 N\n",
      "L: 0.152 N, R: 0.150 N\n",
      "L: 0.152 N, R: 0.150 N\n",
      "L: 0.152 N, R: 0.150 N\n",
      "L: 0.152 N, R: 0.150 N\n",
      "L: 0.152 N, R: 0.150 N\n",
      "L: 0.152 N, R: 0.150 N\n",
      "L: 0.152 N, R: 0.150 N\n",
      "L: 0.152 N, R: 0.150 N\n",
      "L: 0.152 N, R: 0.150 N\n",
      "L: 0.152 N, R: 0.150 N\n",
      "L: 0.152 N, R: 0.150 N\n",
      "L: 0.152 N, R: 0.150 N\n",
      "L: 0.152 N, R: 0.150 N\n",
      "L: 0.152 N, R: 0.150 N\n",
      "L: 0.152 N, R: 0.150 N\n",
      "L: 0.152 N, R: 0.150 N\n",
      "L: 0.152 N, R: 0.150 N\n",
      "L: 0.152 N, R: 0.150 N\n",
      "L: 0.152 N, R: 0.150 N\n",
      "L: 0.152 N, R: 0.150 N\n",
      "L: 0.152 N, R: 0.150 N\n",
      "L: 0.152 N, R: 0.150 N\n",
      "L: 0.152 N, R: 0.150 N\n",
      "L: 0.152 N, R: 0.150 N\n",
      "L: 0.152 N, R: 0.150 N\n",
      "L: 0.152 N, R: 0.150 N\n",
      "L: 0.152 N, R: 0.107 N\n",
      "L: 0.152 N, R: 0.042 N\n",
      "L: 0.152 N, R: 0.042 N\n",
      "L: 0.152 N, R: 0.042 N\n",
      "L: 0.152 N, R: 0.042 N\n",
      "L: 0.152 N, R: 0.042 N\n",
      "L: 0.152 N, R: 0.042 N\n",
      "L: 0.152 N, R: 0.042 N\n",
      "L: 0.152 N, R: 0.042 N\n",
      "L: 0.152 N, R: 0.040 N\n",
      "L: 0.152 N, R: 0.020 N\n",
      "L: 0.152 N, R: 0.020 N\n",
      "L: 0.152 N, R: 0.020 N\n",
      "L: 0.152 N, R: 0.020 N\n",
      "L: 0.152 N, R: 0.020 N\n",
      "L: 0.152 N, R: 0.020 N\n",
      "L: 0.152 N, R: 0.020 N\n",
      "L: 0.152 N, R: 0.020 N\n",
      "L: 0.152 N, R: 0.020 N\n",
      "L: 0.152 N, R: 0.002 N\n",
      "L: 0.152 N, R: 0.000 N\n",
      "L: 0.152 N, R: 0.000 N\n",
      "L: 0.152 N, R: 0.000 N\n",
      "L: 0.152 N, R: 0.000 N\n",
      "L: 0.152 N, R: 0.000 N\n",
      "L: 0.152 N, R: 0.000 N\n",
      "L: 0.152 N, R: 0.000 N\n",
      "L: 0.152 N, R: 0.000 N\n",
      "L: 0.152 N, R: 0.000 N\n",
      "L: 0.152 N, R: 0.000 N\n",
      "L: 0.152 N, R: 0.000 N\n",
      "L: 0.152 N, R: 0.000 N\n",
      "L: 0.152 N, R: 0.000 N\n",
      "L: 0.152 N, R: 0.000 N\n",
      "L: 0.152 N, R: 0.000 N\n",
      "L: 0.139 N, R: 0.000 N\n",
      "L: 0.133 N, R: 0.000 N\n",
      "L: 0.133 N, R: 0.000 N\n",
      "L: 0.133 N, R: 0.000 N\n",
      "L: 0.133 N, R: 0.000 N\n",
      "L: 0.133 N, R: 0.000 N\n",
      "L: 0.133 N, R: 0.000 N\n",
      "L: 0.133 N, R: 0.000 N\n",
      "L: 0.133 N, R: 0.000 N\n",
      "L: 0.147 N, R: 0.000 N\n",
      "L: 0.152 N, R: 0.000 N\n",
      "L: 0.152 N, R: 0.063 N\n",
      "L: 0.152 N, R: 0.210 N\n",
      "L: 0.152 N, R: 0.210 N\n",
      "L: 0.152 N, R: 0.210 N\n",
      "L: 0.152 N, R: 0.210 N\n",
      "L: 0.152 N, R: 0.210 N\n",
      "L: 0.152 N, R: 0.210 N\n",
      "L: 0.060 N, R: 0.210 N\n",
      "L: 0.020 N, R: 0.210 N\n",
      "L: 0.020 N, R: 0.159 N\n",
      "L: 0.020 N, R: 0.040 N\n",
      "L: 0.020 N, R: 0.040 N\n",
      "L: 0.020 N, R: 0.040 N\n",
      "L: 0.020 N, R: 0.040 N\n",
      "L: 0.020 N, R: 0.040 N\n",
      "L: 0.020 N, R: 0.040 N\n",
      "L: 0.008 N, R: 0.040 N\n",
      "L: 0.000 N, R: 0.040 N\n",
      "L: 0.000 N, R: 0.028 N\n",
      "L: 0.000 N, R: 0.000 N\n",
      "L: 0.000 N, R: 0.000 N\n",
      "L: 0.000 N, R: 0.000 N\n",
      "L: 0.000 N, R: 0.000 N\n",
      "L: 0.000 N, R: 0.000 N\n",
      "L: 0.000 N, R: 0.000 N\n",
      "L: 0.000 N, R: 0.000 N\n",
      "L: 0.000 N, R: 0.000 N\n",
      "L: 0.000 N, R: 0.000 N\n",
      "L: 0.000 N, R: 0.000 N\n",
      "L: 0.000 N, R: 0.000 N\n",
      "L: 0.000 N, R: 0.000 N\n",
      "L: 0.000 N, R: 0.000 N\n",
      "L: 0.000 N, R: 0.000 N\n",
      "L: 0.000 N, R: 0.000 N\n",
      "L: 0.000 N, R: 0.000 N\n",
      "L: 0.000 N, R: 0.000 N\n",
      "L: 0.000 N, R: 0.000 N\n",
      "L: 0.000 N, R: 0.000 N\n",
      "L: 0.000 N, R: 0.000 N\n",
      "L: 0.000 N, R: 0.000 N\n",
      "L: 0.000 N, R: 0.000 N\n",
      "L: 0.000 N, R: 0.000 N\n",
      "L: 0.000 N, R: 0.000 N\n",
      "L: 0.000 N, R: 0.000 N\n",
      "L: 0.000 N, R: 0.000 N\n",
      "L: 0.000 N, R: 0.000 N\n",
      "L: 0.000 N, R: 0.000 N\n",
      "L: 0.000 N, R: 0.000 N\n",
      "L: 0.000 N, R: 0.000 N\n",
      "L: 0.000 N, R: 0.000 N\n",
      "L: 0.000 N, R: 0.000 N\n",
      "L: 0.000 N, R: 0.000 N\n",
      "L: 0.000 N, R: 0.000 N\n",
      "L: 0.000 N, R: 0.000 N\n",
      "L: 0.000 N, R: 0.000 N\n",
      "L: 0.000 N, R: 0.000 N\n",
      "L: 0.000 N, R: 0.000 N\n",
      "L: 0.000 N, R: 0.000 N\n",
      "L: 0.000 N, R: 0.000 N\n",
      "L: 0.000 N, R: 0.000 N\n",
      "L: 0.000 N, R: 0.000 N\n",
      "L: 0.000 N, R: 0.000 N\n",
      "L: 0.000 N, R: 0.000 N\n",
      "L: 0.000 N, R: 0.000 N\n",
      "L: 0.000 N, R: 0.000 N\n",
      "L: 0.000 N, R: 0.000 N\n",
      "L: 0.000 N, R: 0.000 N\n",
      "L: 0.000 N, R: 0.000 N\n",
      "L: 0.000 N, R: 0.000 N\n",
      "L: 0.000 N, R: 0.000 N\n",
      "L: 0.000 N, R: 0.000 N\n",
      "L: 0.000 N, R: 0.000 N\n",
      "L: 0.000 N, R: 0.000 N\n",
      "L: 0.000 N, R: 0.000 N\n",
      "L: 0.000 N, R: 0.000 N\n",
      "L: 0.000 N, R: 0.000 N\n",
      "L: 0.000 N, R: 0.000 N\n",
      "L: 0.000 N, R: 0.000 N\n",
      "L: 0.000 N, R: 0.000 N\n",
      "L: 0.000 N, R: 0.000 N\n",
      "L: 0.000 N, R: 0.000 N\n",
      "L: 0.000 N, R: 0.000 N\n",
      "L: 0.000 N, R: 0.000 N\n",
      "L: 0.000 N, R: 0.000 N\n",
      "L: 0.000 N, R: 0.000 N\n",
      "L: 0.000 N, R: 0.000 N\n",
      "L: 0.000 N, R: 0.000 N\n",
      "L: 0.000 N, R: 0.000 N\n",
      "L: 0.000 N, R: 0.000 N\n",
      "L: 0.000 N, R: 0.000 N\n",
      "L: 0.000 N, R: 0.000 N\n",
      "L: 0.000 N, R: 0.000 N\n",
      "L: 0.000 N, R: 0.016 N\n",
      "L: 0.000 N, R: 0.020 N\n",
      "L: 0.000 N, R: 0.020 N\n",
      "L: 0.000 N, R: 0.020 N\n",
      "L: 0.000 N, R: 0.020 N\n",
      "L: 0.000 N, R: 0.020 N\n",
      "L: 0.000 N, R: 0.020 N\n",
      "L: 0.000 N, R: 0.020 N\n",
      "L: 0.000 N, R: 0.020 N\n",
      "L: 0.000 N, R: 0.022 N\n",
      "L: 0.000 N, R: 0.022 N\n",
      "L: 0.000 N, R: 0.022 N\n",
      "L: 0.000 N, R: 0.022 N\n",
      "L: 0.000 N, R: 0.022 N\n",
      "L: 0.000 N, R: 0.022 N\n",
      "L: 0.000 N, R: 0.022 N\n",
      "L: 0.000 N, R: 0.022 N\n",
      "L: 0.000 N, R: 0.022 N\n",
      "L: 0.000 N, R: 0.009 N\n",
      "L: 0.000 N, R: 0.000 N\n",
      "L: 0.000 N, R: 0.000 N\n",
      "L: 0.000 N, R: 0.000 N\n",
      "L: 0.000 N, R: 0.000 N\n",
      "L: 0.000 N, R: 0.000 N\n",
      "L: 0.000 N, R: 0.000 N\n",
      "L: 0.000 N, R: 0.000 N\n",
      "L: 0.000 N, R: 0.000 N\n",
      "L: 0.000 N, R: 0.000 N\n",
      "L: 0.000 N, R: 0.000 N\n",
      "L: 0.000 N, R: 0.000 N\n",
      "L: 0.000 N, R: 0.000 N\n",
      "L: 0.000 N, R: 0.000 N\n",
      "L: 0.000 N, R: 0.000 N\n",
      "L: 0.000 N, R: 0.000 N\n",
      "L: 0.000 N, R: 0.000 N\n",
      "L: 0.000 N, R: 0.000 N\n",
      "L: 0.000 N, R: 0.000 N\n",
      "L: 0.000 N, R: 0.000 N\n",
      "L: 0.000 N, R: 0.000 N\n",
      "L: 0.000 N, R: 0.000 N\n",
      "L: 0.000 N, R: 0.000 N\n",
      "L: 0.000 N, R: 0.000 N\n",
      "L: 0.000 N, R: 0.000 N\n",
      "L: 0.000 N, R: 0.000 N\n",
      "L: 0.000 N, R: 0.000 N\n",
      "L: 0.000 N, R: 0.000 N\n",
      "L: 0.000 N, R: 0.000 N\n",
      "L: 0.000 N, R: 0.000 N\n",
      "L: 0.000 N, R: 0.000 N\n",
      "L: 0.000 N, R: 0.000 N\n",
      "L: 0.000 N, R: 0.000 N\n",
      "L: 0.000 N, R: 0.000 N\n",
      "L: 0.000 N, R: 0.000 N\n",
      "L: 0.000 N, R: 0.000 N\n",
      "L: 0.000 N, R: 0.000 N\n",
      "L: 0.000 N, R: 0.000 N\n",
      "L: 0.000 N, R: 0.000 N\n",
      "L: 0.000 N, R: 0.000 N\n",
      "L: 0.000 N, R: 0.000 N\n",
      "L: 0.000 N, R: 0.000 N\n",
      "L: 0.000 N, R: 0.000 N\n",
      "L: 0.000 N, R: 0.000 N\n",
      "L: 0.000 N, R: 0.000 N\n",
      "L: 0.000 N, R: 0.000 N\n",
      "L: 0.000 N, R: 0.000 N\n",
      "L: 0.000 N, R: 0.000 N\n",
      "L: 0.000 N, R: 0.000 N\n",
      "L: 0.000 N, R: 0.000 N\n",
      "L: 0.000 N, R: 0.000 N\n",
      "L: 0.000 N, R: 0.000 N\n",
      "L: 0.000 N, R: 0.000 N\n",
      "L: 0.000 N, R: 0.000 N\n",
      "L: 0.000 N, R: 0.000 N\n",
      "L: 0.000 N, R: 0.000 N\n",
      "L: 0.000 N, R: 0.000 N\n",
      "L: 0.000 N, R: 0.000 N\n",
      "L: 0.000 N, R: 0.000 N\n",
      "L: 0.000 N, R: 0.000 N\n",
      "L: 0.000 N, R: 0.000 N\n",
      "L: 0.000 N, R: 0.000 N\n",
      "L: 0.020 N, R: 0.000 N\n",
      "L: 0.020 N, R: 0.000 N\n",
      "L: 0.020 N, R: 0.000 N\n",
      "L: 0.020 N, R: 0.000 N\n",
      "L: 0.020 N, R: 0.000 N\n",
      "L: 0.020 N, R: 0.000 N\n",
      "L: 0.020 N, R: 0.000 N\n",
      "L: 0.020 N, R: 0.000 N\n",
      "L: 0.020 N, R: 0.000 N\n",
      "L: 0.022 N, R: 0.000 N\n",
      "L: 0.022 N, R: 0.000 N\n",
      "L: 0.022 N, R: 0.000 N\n",
      "L: 0.022 N, R: 0.000 N\n",
      "L: 0.022 N, R: 0.000 N\n",
      "L: 0.022 N, R: 0.000 N\n",
      "L: 0.022 N, R: 0.000 N\n",
      "L: 0.022 N, R: 0.000 N\n",
      "L: 0.022 N, R: 0.000 N\n",
      "L: 0.011 N, R: 0.000 N\n",
      "L: 0.000 N, R: 0.000 N\n",
      "L: 0.000 N, R: 0.000 N\n",
      "L: 0.000 N, R: 0.000 N\n",
      "L: 0.000 N, R: 0.000 N\n",
      "L: 0.000 N, R: 0.000 N\n",
      "L: 0.000 N, R: 0.000 N\n",
      "L: 0.000 N, R: 0.000 N\n",
      "L: 0.000 N, R: 0.000 N\n",
      "L: 0.000 N, R: 0.000 N\n",
      "L: 0.000 N, R: 0.000 N\n",
      "L: 0.000 N, R: 0.000 N\n",
      "L: 0.000 N, R: 0.000 N\n",
      "L: 0.000 N, R: 0.000 N\n",
      "L: 0.000 N, R: 0.000 N\n",
      "L: 0.000 N, R: 0.000 N\n",
      "L: 0.000 N, R: 0.000 N\n",
      "L: 0.000 N, R: 0.000 N\n",
      "L: 0.000 N, R: 0.000 N\n",
      "L: 0.000 N, R: 0.000 N\n",
      "L: 0.000 N, R: 0.000 N\n",
      "L: 0.000 N, R: 0.000 N\n",
      "L: 0.000 N, R: 0.000 N\n",
      "L: 0.000 N, R: 0.000 N\n",
      "L: 0.000 N, R: 0.000 N\n",
      "L: 0.000 N, R: 0.000 N\n",
      "L: 0.000 N, R: 0.000 N\n",
      "L: 0.000 N, R: 0.000 N\n",
      "L: 0.000 N, R: 0.000 N\n",
      "L: 0.000 N, R: 0.000 N\n",
      "L: 0.000 N, R: 0.000 N\n",
      "L: 0.000 N, R: 0.000 N\n",
      "L: 0.000 N, R: 0.000 N\n",
      "L: 0.000 N, R: 0.000 N\n",
      "L: 0.000 N, R: 0.000 N\n",
      "L: 0.000 N, R: 0.000 N\n",
      "L: 0.000 N, R: 0.000 N\n",
      "L: 0.000 N, R: 0.000 N\n",
      "L: 0.000 N, R: 0.000 N\n",
      "L: 0.000 N, R: 0.000 N\n",
      "L: 0.000 N, R: 0.000 N\n",
      "L: 0.000 N, R: 0.000 N\n",
      "L: 0.000 N, R: 0.000 N\n",
      "L: 0.000 N, R: 0.000 N\n",
      "L: 0.000 N, R: 0.000 N\n",
      "L: 0.000 N, R: 0.000 N\n",
      "L: 0.000 N, R: 0.000 N\n",
      "L: 0.000 N, R: 0.000 N\n",
      "L: 0.000 N, R: 0.000 N\n",
      "L: 0.000 N, R: 0.000 N\n",
      "L: 0.000 N, R: 0.000 N\n",
      "L: 0.000 N, R: 0.000 N\n",
      "L: 0.000 N, R: 0.000 N\n",
      "L: 0.000 N, R: 0.000 N\n",
      "L: 0.000 N, R: 0.000 N\n",
      "L: 0.000 N, R: 0.000 N\n",
      "L: 0.000 N, R: 0.000 N\n",
      "L: 0.000 N, R: 0.000 N\n",
      "L: 0.000 N, R: 0.000 N\n",
      "L: 0.000 N, R: 0.000 N\n",
      "L: 0.000 N, R: 0.000 N\n",
      "L: 0.000 N, R: 0.000 N\n",
      "L: 0.000 N, R: 0.000 N\n",
      "L: 0.000 N, R: 0.000 N\n",
      "L: 0.000 N, R: 0.000 N\n",
      "L: 0.000 N, R: 0.000 N\n",
      "L: 0.000 N, R: 0.000 N\n",
      "L: 0.000 N, R: 0.000 N\n",
      "L: 0.000 N, R: 0.000 N\n",
      "L: 0.000 N, R: 0.000 N\n",
      "L: 0.000 N, R: 0.000 N\n",
      "L: 0.000 N, R: 0.000 N\n",
      "L: 0.000 N, R: 0.000 N\n",
      "L: 0.000 N, R: 0.000 N\n",
      "L: 0.000 N, R: 0.000 N\n",
      "L: 0.000 N, R: 0.000 N\n",
      "L: 0.000 N, R: 0.000 N\n",
      "L: 0.000 N, R: 0.000 N\n",
      "L: 0.000 N, R: 0.000 N\n",
      "L: 0.000 N, R: 0.000 N\n",
      "L: 0.000 N, R: 0.000 N\n",
      "L: 0.000 N, R: 0.000 N\n",
      "L: 0.000 N, R: 0.000 N\n",
      "L: 0.000 N, R: 0.000 N\n",
      "L: 0.000 N, R: 0.000 N\n",
      "L: 0.000 N, R: 0.000 N\n",
      "L: 0.000 N, R: 0.000 N\n",
      "L: 0.000 N, R: 0.000 N\n",
      "L: 0.000 N, R: 0.000 N\n",
      "L: 0.000 N, R: 0.000 N\n",
      "L: 0.000 N, R: 0.000 N\n",
      "L: 0.000 N, R: 0.000 N\n",
      "L: 0.000 N, R: 0.000 N\n",
      "L: 0.000 N, R: 0.000 N\n",
      "L: 0.000 N, R: 0.000 N\n",
      "L: 0.000 N, R: 0.000 N\n",
      "L: 0.000 N, R: 0.000 N\n",
      "L: 0.000 N, R: 0.000 N\n",
      "L: 0.000 N, R: 0.000 N\n",
      "L: 0.000 N, R: 0.000 N\n",
      "L: 0.000 N, R: 0.000 N\n",
      "L: 0.000 N, R: 0.000 N\n",
      "L: 0.000 N, R: 0.000 N\n",
      "L: 0.000 N, R: 0.000 N\n",
      "L: 0.000 N, R: 0.000 N\n",
      "L: 0.000 N, R: 0.000 N\n",
      "L: 0.000 N, R: 0.000 N\n",
      "L: 0.000 N, R: 0.000 N\n",
      "L: 0.000 N, R: 0.000 N\n",
      "L: 0.000 N, R: 0.000 N\n",
      "L: 0.000 N, R: 0.000 N\n",
      "L: 0.000 N, R: 0.000 N\n",
      "L: 0.000 N, R: 0.000 N\n",
      "L: 0.000 N, R: 0.000 N\n",
      "L: 0.000 N, R: 0.000 N\n",
      "L: 0.000 N, R: 0.000 N\n",
      "L: 0.000 N, R: 0.000 N\n",
      "L: 0.000 N, R: 0.000 N\n",
      "L: 0.000 N, R: 0.000 N\n",
      "L: 0.000 N, R: 0.000 N\n",
      "L: 0.000 N, R: 0.000 N\n",
      "L: 0.000 N, R: 0.000 N\n",
      "L: 0.000 N, R: 0.000 N\n",
      "L: 0.000 N, R: 0.000 N\n",
      "L: 0.000 N, R: 0.000 N\n",
      "L: 0.000 N, R: 0.000 N\n",
      "L: 0.000 N, R: 0.000 N\n",
      "L: 0.000 N, R: 0.000 N\n",
      "L: 0.000 N, R: 0.000 N\n",
      "L: 0.000 N, R: 0.000 N\n",
      "L: 0.000 N, R: 0.000 N\n",
      "L: 0.000 N, R: 0.000 N\n",
      "L: 0.000 N, R: 0.000 N\n",
      "L: 0.000 N, R: 0.000 N\n"
     ]
    },
    {
     "ename": "KeyboardInterrupt",
     "evalue": "",
     "output_type": "error",
     "traceback": [
      "\u001b[0;31m---------------------------------------------------------------------------\u001b[0m",
      "\u001b[0;31mKeyboardInterrupt\u001b[0m                         Traceback (most recent call last)",
      "Cell \u001b[0;32mIn[64], line 10\u001b[0m\n\u001b[1;32m      8\u001b[0m     avg_l\u001b[38;5;241m.\u001b[39mappend(force[\u001b[38;5;241m0\u001b[39m])\n\u001b[1;32m      9\u001b[0m     avg_r\u001b[38;5;241m.\u001b[39mappend(force[\u001b[38;5;241m1\u001b[39m])\n\u001b[0;32m---> 10\u001b[0m     \u001b[43mtime\u001b[49m\u001b[38;5;241;43m.\u001b[39;49m\u001b[43msleep\u001b[49m\u001b[43m(\u001b[49m\u001b[43mG\u001b[49m\u001b[38;5;241;43m.\u001b[39;49m\u001b[43mlatency\u001b[49m\u001b[43m)\u001b[49m\n\u001b[1;32m     11\u001b[0m al \u001b[38;5;241m=\u001b[39m \u001b[38;5;28msum\u001b[39m(avg_l)\u001b[38;5;241m/\u001b[39m\u001b[38;5;28mlen\u001b[39m(avg_l)\n\u001b[1;32m     12\u001b[0m ar \u001b[38;5;241m=\u001b[39m \u001b[38;5;28msum\u001b[39m(avg_r)\u001b[38;5;241m/\u001b[39m\u001b[38;5;28mlen\u001b[39m(avg_r)\n",
      "\u001b[0;31mKeyboardInterrupt\u001b[0m: "
     ]
    }
   ],
   "source": [
    "left = []\n",
    "right = []\n",
    "while True:\n",
    "    avg_l = []\n",
    "    avg_r = []\n",
    "    for i in range(10):\n",
    "        force = G.get_force(finger='both')\n",
    "        avg_l.append(force[0])\n",
    "        avg_r.append(force[1])\n",
    "        time.sleep(G.latency)\n",
    "    al = sum(avg_l)/len(avg_l)\n",
    "    ar = sum(avg_r)/len(avg_r)\n",
    "    left.append(al)\n",
    "    right.append(ar)\n",
    "    print(f\"L: {al:.3f} N, R: {ar:.3f} N\")"
   ]
  },
  {
   "cell_type": "code",
   "execution_count": 65,
   "metadata": {},
   "outputs": [
    {
     "data": {
      "image/png": "[encoded data removed]",
      "text/plain": [
       "<Figure size 640x480 with 1 Axes>"
      ]
     },
     "metadata": {},
     "output_type": "display_data"
    }
   ],
   "source": [
    "# plot left, right forces over time\n",
    "# each entry in left, right is the average of 10 force readings\n",
    "# which each take 10*G.latency seconds, or 6ms\n",
    "# arrange x-axis as ticks of 60ms\n",
    "import matplotlib.pyplot as plt\n",
    "x = [i*0.006 for i in range(len(left))]\n",
    "l_data = [x, left]\n",
    "r_data = [x, right]\n",
    "plt.plot(*l_data, label='left')\n",
    "plt.plot(*r_data, label='right')\n",
    "plt.ylabel('Force (N)')\n",
    "plt.legend()\n",
    "plt.xlabel('Time (s)')\n",
    "plt.show()\n"
   ]
  },
  {
   "cell_type": "code",
   "execution_count": 62,
   "metadata": {},
   "outputs": [
    {
     "name": "stdout",
     "output_type": "stream",
     "text": [
      "Moving speed of dxl ID: 1 set to 100 \n",
      "Moving speed of dxl ID: 2 set to 100 \n",
      "Position of dxl ID: 1 set to 303 \n",
      "Position of dxl ID: 2 set to 729 \n"
     ]
    }
   ],
   "source": [
    "G.reset_parameters()"
   ]
  },
  {
   "cell_type": "code",
   "execution_count": 63,
   "metadata": {},
   "outputs": [
    {
     "name": "stdout",
     "output_type": "stream",
     "text": [
      "Position of dxl ID: 1 set to 455 \n",
      "Position of dxl ID: 2 set to 584 \n",
      "Position of dxl ID: 1 set to 452 \n",
      "Position of dxl ID: 2 set to 586 \n",
      "Position of dxl ID: 1 set to 453 \n",
      "Position of dxl ID: 2 set to 585 \n",
      "Position of dxl ID: 1 set to 454 \n",
      "Position of dxl ID: 2 set to 584 \n",
      "Position of dxl ID: 1 set to 455 \n",
      "Position of dxl ID: 2 set to 583 \n",
      "Position of dxl ID: 1 set to 456 \n",
      "Position of dxl ID: 2 set to 582 \n",
      "Position of dxl ID: 1 set to 457 \n",
      "Position of dxl ID: 2 set to 581 \n",
      "Position of dxl ID: 1 set to 458 \n",
      "Position of dxl ID: 2 set to 580 \n",
      "Position of dxl ID: 1 set to 459 \n",
      "Position of dxl ID: 2 set to 579 \n",
      "Position of dxl ID: 1 set to 460 \n",
      "Position of dxl ID: 2 set to 578 \n",
      "stop_load: 61.04336176433776, stop_force: 0.15 N\n",
      "force_r: 0.1595425 N, force_l: 0.15713280000000002 N\n",
      "avg_r: 0.1547217 N, avg_l: 0.1539176888888889 N\n",
      "Position of dxl ID: 1 set to 455 \n",
      "Position of dxl ID: 2 set to 584 \n",
      "Final aperture: 53.89546075454233 mm, Controller Goal Aperture: 50 mm, Applied Force: 0.25 N.\n",
      "Spring Constants: [] N/m\n"
     ]
    }
   ],
   "source": [
    "# grasp\n",
    "import numpy as np\n",
    "\n",
    "start = time.time()\n",
    "# Setting the goal aperture slightly wider initially to ensure the delicate paper airplane isn't damaged on approach\n",
    "goal_aperture = 50\n",
    "# move quick\n",
    "load_data = G.set_goal_aperture(goal_aperture+3, finger='both', record_load=False)\n",
    "# Initial force determined by object weight and friction coefficient\n",
    "initial_force = 0.25 # Calculated from (5.0 grams * 9.81 m/s^2) / 0.5 friction coefficient, converted to Newtons\n",
    "# Additional closure amount and force increase if the gripper slips\n",
    "additional_closure = 1.0\n",
    "additional_force = 0.1\n",
    "complete_grasp = True\n",
    "# Ensuring there's a gentle and precise approach to hold the paper airplane without damage\n",
    "# Setting the compliance slightly more flexible due to the high compliance nature of the task\n",
    "G.set_compliance(0, 1, finger='both')\n",
    "# Setting the initial force as it's vital in a grasp of a low-weight and highly compliant object like a paper airplane\n",
    "G.set_force(initial_force, 'both')\n",
    "\n",
    "# Move to the initial goal aperture to attempt the grasp\n",
    "load_data = G.set_goal_aperture(goal_aperture, finger='both', record_load=True)\n",
    "# Check the current aperture and adjust the goal aperture if necessary for a delicate grasp\n",
    "curr_aperture = G.get_aperture(finger='both')\n",
    "# Initializing the applied_force variable with the initial_force value\n",
    "applied_force = initial_force\n",
    "prev_aperture = curr_aperture\n",
    "k_avg = []\n",
    "# Checking for slip at the initial attempt, indicating whether the grip is firm or needs adjustment\n",
    "slippage, avg_force, max_force = G.check_slip(load_data, initial_force, 'both')\n",
    "# If there's slippage, the gripper needs more force and possibly a tighter grasp\n",
    "while slippage:\n",
    "    # goal_aperture = curr_aperture - additional_closure\n",
    "    goal_aperture -= additional_closure\n",
    "    if np.mean(avg_force) > 0.10: # low-pass filter force readings so we don't increase force when there is no contact\n",
    "        applied_force += additional_force\n",
    "    G.set_force(applied_force, 'both')\n",
    "    print(f\"Previous aperture: {curr_aperture} mm, Goal Aperture: {goal_aperture} mm, Applied Force: {applied_force} N.\")\n",
    "  \n",
    "    load_data = G.set_goal_aperture(goal_aperture, finger='both', record_load=True)\n",
    "    # Report data after each adjustment\n",
    "    curr_aperture = G.get_aperture(finger='both')\n",
    "    print(f\"Current aperture: {curr_aperture} mm\")\n",
    "    # It's necessary to check slippage again after readjusting the force and aperture\n",
    "    slippage, avg_force, max_force = G.check_slip(load_data, initial_force, 'both')\n",
    "    distance = abs(curr_aperture - prev_aperture)\n",
    "    k_avg.append(np.mean(avg_force) * distance * 1000.0)\n",
    "    prev_aperture = curr_aperture\n",
    "    \n",
    "time.sleep(G.delay * 5)\n",
    "# Confirming the final grasp settings\n",
    "\n",
    "if complete_grasp:\n",
    "    curr_aperture = G.get_aperture(finger='both')\n",
    "    G.set_goal_aperture(curr_aperture - additional_closure, finger='both', record_load=False)\n",
    "else:\n",
    "    G.open_gripper()\n",
    "# G.set_goal_aperture(curr_aperture , finger='both', record_load=False)\n",
    "end = time.time()\n",
    "print(f\"Final aperture: {curr_aperture} mm, Controller Goal Aperture: {goal_aperture} mm, Applied Force: {applied_force} N.\")\n",
    "print(f\"Spring Constants: {k_avg} N/m\")"
   ]
  },
  {
   "cell_type": "code",
   "execution_count": 31,
   "metadata": {},
   "outputs": [
    {
     "name": "stdout",
     "output_type": "stream",
     "text": [
      "Final x: 56.08163370356077 mm, Goal x: 45.0 mm, Applied Force: 6.2 N.\n",
      "Time to grasp: 3.2917325496673584 seconds\n",
      "Spring Constants: [651.5895167644912, 1012.6169488087886, 987.7635712362867, 1524.3126209375544] N/m\n"
     ]
    }
   ],
   "source": [
    "print(f\"Final x: {curr_aperture} mm, Goal x: {goal_aperture} mm, Applied Force: {applied_force} N.\")\n",
    "print(f\"Time to grasp: {end - start} seconds\")\n",
    "print(f\"Spring Constants: {k_avg} N/m\")"
   ]
  },
  {
   "cell_type": "code",
   "execution_count": 433,
   "metadata": {},
   "outputs": [
    {
     "name": "stdout",
     "output_type": "stream",
     "text": [
      "Position of dxl ID: 1 set to 415 \n",
      "Position of dxl ID: 2 set to 624 \n",
      "Position of dxl ID: 1 set to 412 \n",
      "Position of dxl ID: 2 set to 624 \n",
      "Position of dxl ID: 1 set to 413 \n",
      "Position of dxl ID: 2 set to 623 \n",
      "Position of dxl ID: 1 set to 414 \n",
      "Position of dxl ID: 2 set to 622 \n",
      "Position of dxl ID: 1 set to 415 \n",
      "Position of dxl ID: 2 set to 621 \n",
      "Position of dxl ID: 1 set to 416 \n",
      "Position of dxl ID: 2 set to 620 \n",
      "Position of dxl ID: 1 set to 417 \n",
      "Position of dxl ID: 2 set to 619 \n",
      "Position of dxl ID: 1 set to 418 \n",
      "Position of dxl ID: 2 set to 618 \n",
      "Position of dxl ID: 1 set to 419 \n",
      "Position of dxl ID: 2 set to 617 \n",
      "Position of dxl ID: 1 set to 420 \n",
      "Position of dxl ID: 2 set to 616 \n",
      "Position of dxl ID: 1 set to 421 \n",
      "Position of dxl ID: 2 set to 615 \n",
      "Position of dxl ID: 1 set to 422 \n",
      "Position of dxl ID: 2 set to 614 \n",
      "Position of dxl ID: 1 set to 423 \n",
      "Position of dxl ID: 2 set to 613 \n",
      "Position of dxl ID: 1 set to 424 \n",
      "Position of dxl ID: 2 set to 612 \n",
      "Position of dxl ID: 1 set to 425 \n",
      "Position of dxl ID: 2 set to 611 \n",
      "Position of dxl ID: 1 set to 426 \n",
      "Position of dxl ID: 2 set to 610 \n",
      "Position of dxl ID: 1 set to 427 \n",
      "Position of dxl ID: 2 set to 609 \n",
      "Position of dxl ID: 1 set to 428 \n",
      "Position of dxl ID: 2 set to 608 \n",
      "Position of dxl ID: 1 set to 429 \n",
      "Position of dxl ID: 2 set to 607 \n",
      "Position of dxl ID: 1 set to 430 \n",
      "Position of dxl ID: 2 set to 606 \n",
      "Position of dxl ID: 1 set to 431 \n",
      "Position of dxl ID: 2 set to 605 \n",
      "Position of dxl ID: 1 set to 432 \n",
      "Position of dxl ID: 2 set to 604 \n",
      "Position of dxl ID: 1 set to 433 \n",
      "Position of dxl ID: 2 set to 603 \n",
      "Position of dxl ID: 1 set to 434 \n",
      "Position of dxl ID: 2 set to 602 \n",
      "Position of dxl ID: 1 set to 435 \n",
      "Position of dxl ID: 2 set to 601 \n",
      "Position of dxl ID: 1 set to 436 \n",
      "Position of dxl ID: 2 set to 601 \n",
      "Position of dxl ID: 1 set to 437 \n",
      "Position of dxl ID: 2 set to 601 \n",
      "Initial aperture: 64.8594118662153 mm\n",
      "force_r: 0.9624105100000007 N, force_l: 1.1982782400000005 N\n",
      "avg_r: 0.12605291420118342 N, avg_l: 0.17046123550295858 N\n",
      "Position of dxl ID: 1 set to 426 \n",
      "Position of dxl ID: 2 set to 610 \n",
      "Position of dxl ID: 1 set to 427 \n",
      "Position of dxl ID: 2 set to 609 \n",
      "Position of dxl ID: 1 set to 428 \n",
      "Position of dxl ID: 2 set to 608 \n",
      "Position of dxl ID: 1 set to 429 \n",
      "Position of dxl ID: 2 set to 607 \n",
      "Position of dxl ID: 1 set to 430 \n",
      "Position of dxl ID: 2 set to 607 \n",
      "Position of dxl ID: 1 set to 431 \n",
      "Position of dxl ID: 2 set to 607 \n",
      "prev_aperture: 64.8594118662153 mm, Current aperture: 65.06727408177429 mm, distance: -0.20786221555898976 mm\n",
      "Current aperture: 65.06727408177429 mm, Goal Aperture: 62.8594118662153 mm, Applied Force: 2.2 N.\n",
      "force_r: 0.9624105100000007 N, force_l: 1.6644600399999998 N\n",
      "avg_r: 0.0996945888888889 N, avg_l: 1.6644600399999998 N\n",
      "Position of dxl ID: 1 set to 425 \n",
      "Position of dxl ID: 2 set to 610 \n",
      "Position of dxl ID: 1 set to 426 \n",
      "Position of dxl ID: 2 set to 609 \n",
      "Position of dxl ID: 1 set to 427 \n",
      "Position of dxl ID: 2 set to 608 \n",
      "Position of dxl ID: 1 set to 428 \n",
      "Position of dxl ID: 2 set to 607 \n",
      "Position of dxl ID: 1 set to 429 \n",
      "Position of dxl ID: 2 set to 606 \n",
      "Position of dxl ID: 1 set to 430 \n",
      "Position of dxl ID: 2 set to 605 \n",
      "Position of dxl ID: 1 set to 431 \n",
      "Position of dxl ID: 2 set to 604 \n",
      "Position of dxl ID: 1 set to 432 \n",
      "Position of dxl ID: 2 set to 603 \n",
      "Position of dxl ID: 1 set to 433 \n",
      "Position of dxl ID: 2 set to 603 \n",
      "Position of dxl ID: 1 set to 434 \n",
      "Position of dxl ID: 2 set to 603 \n",
      "Position of dxl ID: 1 set to 435 \n",
      "Position of dxl ID: 2 set to 603 \n",
      "prev_aperture: 65.06727408177429 mm, Current aperture: 64.228904858191 mm, distance: 0.8383692235832854 mm\n",
      "Current aperture: 64.228904858191 mm, Goal Aperture: 60.8594118662153 mm, Applied Force: 2.4000000000000004 N.\n",
      "force_r: 2.28529131 N, force_l: 0.2335488 N\n",
      "avg_r: 0.15757103140495868 N, avg_l: 0.198991973553719 N\n",
      "Position of dxl ID: 1 set to 428 \n",
      "Position of dxl ID: 2 set to 607 \n",
      "Position of dxl ID: 1 set to 429 \n",
      "Position of dxl ID: 2 set to 606 \n",
      "Position of dxl ID: 1 set to 430 \n",
      "Position of dxl ID: 2 set to 605 \n",
      "Position of dxl ID: 1 set to 431 \n",
      "Position of dxl ID: 2 set to 604 \n",
      "Position of dxl ID: 1 set to 432 \n",
      "Position of dxl ID: 2 set to 603 \n",
      "Position of dxl ID: 1 set to 433 \n",
      "Position of dxl ID: 2 set to 602 \n",
      "Position of dxl ID: 1 set to 434 \n",
      "Position of dxl ID: 2 set to 601 \n",
      "Position of dxl ID: 1 set to 435 \n",
      "Position of dxl ID: 2 set to 600 \n",
      "Position of dxl ID: 1 set to 436 \n",
      "Position of dxl ID: 2 set to 599 \n",
      "Position of dxl ID: 1 set to 437 \n",
      "Position of dxl ID: 2 set to 598 \n",
      "Position of dxl ID: 1 set to 438 \n",
      "Position of dxl ID: 2 set to 598 \n",
      "Position of dxl ID: 1 set to 439 \n",
      "Position of dxl ID: 2 set to 598 \n",
      "Position of dxl ID: 1 set to 440 \n",
      "Position of dxl ID: 2 set to 598 \n",
      "prev_aperture: 64.228904858191 mm, Current aperture: 63.389055556885 mm, distance: 0.8398493013060033 mm\n",
      "Current aperture: 63.389055556885 mm, Goal Aperture: 58.8594118662153 mm, Applied Force: 2.6000000000000005 N.\n",
      "force_r: 2.5426137100000004 N, force_l: 2.31758884 N\n",
      "avg_r: 0.22608109881656804 N, avg_l: 2.2629093500591724 N\n",
      "Final aperture: 63.389055556885 mm, Controller Goal Aperture: 58.8594118662153 mm, Applied Force: 2.6000000000000005 N.\n",
      "Position of dxl ID: 1 set to 435 \n",
      "Position of dxl ID: 2 set to 604 \n"
     ]
    }
   ],
   "source": [
    "# from magpie.gripper import Gripper  # import the gripper class\n",
    "# import numpy as np  # import numpy for later data manipulation\n",
    "\n",
    "# new_task = True # Whether or not the task is new\n",
    "# # Reset parameters to default since this is a new, delicate grasp to avoid crushing the raspberry.\n",
    "# if new_task:\n",
    "#     G.reset_parameters()\n",
    "\n",
    "# # The goal is to be gentle and precise, given the high compliance and low weight of the object.\n",
    "# goal_aperture = 60.0 # The initial goal aperture is set to 30mm to softly enclose the raspberry without squishing it.\n",
    "# complete_grasp = True # Whether or not the grasp is complete\n",
    "# initial_force = 2.0  # Initial force. The default value of object weight / friction coefficient.\n",
    "# additional_closure = 2.0 # Amount to decrease the aperture by if slipping occurs.\n",
    "# additional_force_increase = 0.2 # Amount to increase the force by if slipping occurs. Default value is (object spring constant * additional_closure) / damping constant.\n",
    "\n",
    "# # Move quickly (without recording load) to a safe goal aperture\n",
    "# G.set_goal_aperture(goal_aperture + 3, finger='both', record_load=False)\n",
    "\n",
    "# G.set_compliance(1, 3, finger='both')  # A small margin with a middle-ground flexibility is chosen for compliance.\n",
    "# # Set the gripper to have a soft touch by setting the initial gripping force very low.\n",
    "# # Additionally, enable compliance to make the gripper adaptable to minor size variations of the raspberry.\n",
    "# G.set_force(initial_force, 'both')  # Apply the initial gentle force to both fingers.\n",
    "# # The anticipated action below will attempt to grasp the raspberry at the set aperture and force.\n",
    "# # There's an expectancy to achieve a gentle, safe grasp around the raspberry without exerting too much pressure.\n",
    "# load_data = G.set_goal_aperture(goal_aperture, finger='both', record_load=True)\n",
    "\n",
    "# # Check the current aperture after setting the goal to ensure proper grip without damaging the raspberry.\n",
    "# curr_aperture = G.get_aperture(finger='both')\n",
    "# applied_force = initial_force\n",
    "# prev_aperture = curr_aperture\n",
    "# slippage = G.check_slip(load_data, initial_force, 'both')\n",
    "# print(f\"Initial aperture: {curr_aperture} mm\")\n",
    "# while slippage:\n",
    "#     # If a slip is detected, the aperture decreases slightly to attempt a firmer grip.\n",
    "#     goal_aperture = curr_aperture - additional_closure\n",
    "#     # Concomitantly, the grip force is moderately increased to try securing the raspberry better without harm.\n",
    "#     applied_force += additional_force_increase\n",
    "#     # Apply the adjusted force setting to both fingers.\n",
    "#     G.set_force(applied_force, 'both')\n",
    "#     time.sleep(G.delay)\n",
    "#     # Re-attempt the grasp with modified settings aiming for a successful, delicate grip.\n",
    "#     load_data = G.set_goal_aperture(goal_aperture, finger='both', record_load=True)\n",
    "    \n",
    "#     # Re-evaluate the current aperture to confirm the attainment of a more stable grip without slippage.\n",
    "#     prev_aperture = curr_aperture\n",
    "#     curr_aperture = G.get_aperture(finger='both')\n",
    "#     print(f\"prev_aperture: {prev_aperture} mm, Current aperture: {curr_aperture} mm, distance: {prev_aperture - curr_aperture} mm\")\n",
    "#     print(f\"Current aperture: {curr_aperture} mm, Goal Aperture: {goal_aperture} mm, Applied Force: {applied_force} N.\")\n",
    "#     time.sleep(G.delay * 30)\n",
    "\n",
    "#     # Check for slippage again to determine if the grasp is secure.\n",
    "#     slippage,  = G.check_slip(load_data, initial_force, 'both')\n",
    "\n",
    "# if complete_grasp:\n",
    "#     curr_aperture = G.get_aperture(finger='both')\n",
    "#     print(f\"Final aperture: {curr_aperture} mm, Controller Goal Aperture: {goal_aperture} mm, Applied Force: {applied_force} N.\")\n",
    "#     G.set_goal_aperture(curr_aperture - 2, finger='both', record_load=False)\n",
    "# else:\n",
    "#     G.open_gripper()\n"
   ]
  },
  {
   "cell_type": "code",
   "execution_count": 19,
   "metadata": {},
   "outputs": [],
   "source": [
    "G.set_force(12.0)"
   ]
  },
  {
   "cell_type": "code",
   "execution_count": 20,
   "metadata": {},
   "outputs": [
    {
     "data": {
      "text/plain": [
       "[550, 550]"
      ]
     },
     "execution_count": 20,
     "metadata": {},
     "output_type": "execute_result"
    }
   ],
   "source": [
    "G.get_torque(finger='both')"
   ]
  },
  {
   "cell_type": "code",
   "execution_count": 189,
   "metadata": {},
   "outputs": [
    {
     "name": "stdout",
     "output_type": "stream",
     "text": [
      "[RxPacketError] Overload error!\n",
      "[RxPacketError] Overload error!\n",
      "Position of dxl ID: 1 set to 303 \n",
      "Position of dxl ID: 2 set to 729 \n"
     ]
    }
   ],
   "source": [
    "G.open_gripper()"
   ]
  },
  {
   "cell_type": "code",
   "execution_count": 178,
   "metadata": {},
   "outputs": [
    {
     "name": "stdout",
     "output_type": "stream",
     "text": [
      "Moving speed of dxl ID: 1 set to 100 \n",
      "Moving speed of dxl ID: 2 set to 100 \n",
      "Position of dxl ID: 1 set to 303 \n",
      "Position of dxl ID: 2 set to 729 \n"
     ]
    }
   ],
   "source": [
    "G.reset_parameters()"
   ]
  },
  {
   "cell_type": "code",
   "execution_count": 86,
   "metadata": {},
   "outputs": [
    {
     "data": {
      "text/plain": [
       "79.40480967920502"
      ]
     },
     "execution_count": 86,
     "metadata": {},
     "output_type": "execute_result"
    }
   ],
   "source": [
    "G.get_aperture(finger='both')"
   ]
  },
  {
   "cell_type": "code",
   "execution_count": 90,
   "metadata": {},
   "outputs": [
    {
     "name": "stdout",
     "output_type": "stream",
     "text": [
      "Moving speed of dxl ID: 1 set to 60 \n",
      "Moving speed of dxl ID: 2 set to 60 \n"
     ]
    }
   ],
   "source": [
    "G.set_torque(60, finger='both')\n",
    "G.set_speed(60, finger='both')"
   ]
  },
  {
   "cell_type": "code",
   "execution_count": 92,
   "metadata": {},
   "outputs": [
    {
     "name": "stdout",
     "output_type": "stream",
     "text": [
      "position: 375\n",
      "Position of dxl ID: 1 set to 375 \n",
      "position: 664\n",
      "Position of dxl ID: 2 set to 664 \n"
     ]
    }
   ],
   "source": [
    "desired_dist = 85\n",
    "G.set_goal_aperture(desired_dist, finger='both', debug=True) #25mm aperture between fingers"
   ]
  },
  {
   "cell_type": "code",
   "execution_count": 70,
   "metadata": {},
   "outputs": [
    {
     "name": "stdout",
     "output_type": "stream",
     "text": [
      "Position of dxl ID: 1 set to 374 \n",
      "Position of dxl ID: 2 set to 665 \n",
      "Position of dxl ID: 1 set to 375 \n",
      "Position of dxl ID: 2 set to 664 \n",
      "Position of dxl ID: 1 set to 376 \n",
      "Position of dxl ID: 2 set to 663 \n",
      "Position of dxl ID: 1 set to 377 \n",
      "Position of dxl ID: 2 set to 662 \n",
      "Position of dxl ID: 1 set to 378 \n",
      "Position of dxl ID: 2 set to 661 \n",
      "Position of dxl ID: 1 set to 379 \n",
      "Position of dxl ID: 2 set to 660 \n",
      "Position of dxl ID: 1 set to 380 \n",
      "Position of dxl ID: 2 set to 659 \n",
      "Position of dxl ID: 1 set to 381 \n",
      "Position of dxl ID: 2 set to 658 \n",
      "Position of dxl ID: 1 set to 382 \n",
      "Position of dxl ID: 2 set to 657 \n",
      "Position of dxl ID: 1 set to 383 \n",
      "Position of dxl ID: 2 set to 656 \n",
      "Position of dxl ID: 1 set to 384 \n",
      "Position of dxl ID: 2 set to 655 \n",
      "Position of dxl ID: 1 set to 385 \n",
      "Position of dxl ID: 2 set to 654 \n",
      "Position of dxl ID: 1 set to 386 \n",
      "Position of dxl ID: 2 set to 653 \n",
      "Position of dxl ID: 1 set to 387 \n",
      "Position of dxl ID: 2 set to 652 \n",
      "Position of dxl ID: 1 set to 388 \n",
      "Position of dxl ID: 2 set to 651 \n",
      "Position of dxl ID: 1 set to 389 \n",
      "Position of dxl ID: 2 set to 650 \n",
      "Position of dxl ID: 1 set to 390 \n",
      "Position of dxl ID: 2 set to 649 \n",
      "Position of dxl ID: 1 set to 391 \n",
      "Position of dxl ID: 2 set to 648 \n",
      "Position of dxl ID: 1 set to 392 \n",
      "Position of dxl ID: 2 set to 647 \n",
      "Position of dxl ID: 1 set to 393 \n",
      "Position of dxl ID: 2 set to 646 \n",
      "Position of dxl ID: 1 set to 394 \n",
      "Position of dxl ID: 2 set to 645 \n",
      "Position of dxl ID: 1 set to 395 \n",
      "Position of dxl ID: 2 set to 644 \n",
      "Position of dxl ID: 1 set to 396 \n",
      "Position of dxl ID: 2 set to 643 \n",
      "Position of dxl ID: 1 set to 397 \n",
      "Position of dxl ID: 2 set to 642 \n",
      "Position of dxl ID: 1 set to 398 \n",
      "Position of dxl ID: 2 set to 641 \n",
      "Position of dxl ID: 1 set to 399 \n",
      "Position of dxl ID: 2 set to 640 \n",
      "Position of dxl ID: 1 set to 400 \n",
      "Position of dxl ID: 2 set to 639 \n",
      "Position of dxl ID: 1 set to 401 \n",
      "Position of dxl ID: 2 set to 638 \n",
      "Position of dxl ID: 1 set to 402 \n",
      "Position of dxl ID: 2 set to 637 \n",
      "Position of dxl ID: 1 set to 403 \n",
      "Position of dxl ID: 2 set to 636 \n",
      "Position of dxl ID: 1 set to 404 \n",
      "Position of dxl ID: 2 set to 635 \n",
      "Position of dxl ID: 1 set to 405 \n",
      "Position of dxl ID: 2 set to 634 \n",
      "Position of dxl ID: 1 set to 406 \n",
      "Position of dxl ID: 2 set to 633 \n",
      "Position of dxl ID: 1 set to 407 \n",
      "Position of dxl ID: 2 set to 632 \n",
      "Position of dxl ID: 1 set to 408 \n",
      "Position of dxl ID: 2 set to 631 \n",
      "Position of dxl ID: 1 set to 409 \n",
      "Position of dxl ID: 2 set to 630 \n",
      "Position of dxl ID: 1 set to 410 \n",
      "Position of dxl ID: 2 set to 629 \n",
      "Position of dxl ID: 1 set to 411 \n",
      "Position of dxl ID: 2 set to 628 \n",
      "Position of dxl ID: 1 set to 412 \n",
      "Position of dxl ID: 2 set to 627 \n",
      "Position of dxl ID: 1 set to 413 \n",
      "Position of dxl ID: 2 set to 626 \n",
      "Position of dxl ID: 1 set to 414 \n",
      "Position of dxl ID: 2 set to 625 \n",
      "Position of dxl ID: 1 set to 415 \n",
      "Position of dxl ID: 2 set to 624 \n",
      "Position of dxl ID: 1 set to 416 \n",
      "Position of dxl ID: 2 set to 623 \n",
      "Position of dxl ID: 1 set to 417 \n",
      "Position of dxl ID: 2 set to 622 \n",
      "Position of dxl ID: 1 set to 418 \n",
      "Position of dxl ID: 2 set to 621 \n",
      "Position of dxl ID: 1 set to 419 \n",
      "Position of dxl ID: 2 set to 620 \n",
      "Position of dxl ID: 1 set to 420 \n",
      "Position of dxl ID: 2 set to 619 \n",
      "Position of dxl ID: 1 set to 421 \n",
      "Position of dxl ID: 2 set to 618 \n",
      "Position of dxl ID: 1 set to 422 \n",
      "Position of dxl ID: 2 set to 617 \n",
      "Position of dxl ID: 1 set to 423 \n",
      "Position of dxl ID: 2 set to 616 \n",
      "Position of dxl ID: 1 set to 424 \n",
      "Position of dxl ID: 2 set to 615 \n",
      "Position of dxl ID: 1 set to 425 \n",
      "Position of dxl ID: 2 set to 614 \n",
      "Position of dxl ID: 1 set to 426 \n",
      "Position of dxl ID: 2 set to 613 \n",
      "Position of dxl ID: 1 set to 427 \n",
      "Position of dxl ID: 2 set to 612 \n",
      "Position of dxl ID: 1 set to 428 \n",
      "Position of dxl ID: 2 set to 611 \n",
      "Position of dxl ID: 1 set to 429 \n",
      "Position of dxl ID: 2 set to 610 \n",
      "Position of dxl ID: 1 set to 430 \n",
      "Position of dxl ID: 2 set to 609 \n",
      "Position of dxl ID: 1 set to 431 \n",
      "Position of dxl ID: 2 set to 608 \n",
      "Position of dxl ID: 1 set to 432 \n",
      "Position of dxl ID: 2 set to 607 \n",
      "Position of dxl ID: 1 set to 433 \n",
      "Position of dxl ID: 2 set to 606 \n",
      "Position of dxl ID: 1 set to 434 \n",
      "Position of dxl ID: 2 set to 605 \n",
      "Position of dxl ID: 1 set to 435 \n",
      "Position of dxl ID: 2 set to 604 \n",
      "Position of dxl ID: 1 set to 436 \n",
      "Position of dxl ID: 2 set to 603 \n",
      "Position of dxl ID: 1 set to 437 \n",
      "Position of dxl ID: 2 set to 602 \n",
      "Position of dxl ID: 1 set to 438 \n",
      "Position of dxl ID: 2 set to 601 \n",
      "Position of dxl ID: 1 set to 439 \n",
      "Position of dxl ID: 2 set to 600 \n",
      "Position of dxl ID: 1 set to 440 \n",
      "Position of dxl ID: 2 set to 599 \n",
      "Position of dxl ID: 1 set to 441 \n",
      "Position of dxl ID: 2 set to 598 \n",
      "Position of dxl ID: 1 set to 442 \n",
      "Position of dxl ID: 2 set to 597 \n",
      "Position of dxl ID: 1 set to 443 \n",
      "Position of dxl ID: 2 set to 596 \n",
      "Position of dxl ID: 1 set to 444 \n",
      "Position of dxl ID: 2 set to 595 \n",
      "Position of dxl ID: 1 set to 445 \n",
      "Position of dxl ID: 2 set to 594 \n",
      "Position of dxl ID: 1 set to 446 \n",
      "Position of dxl ID: 2 set to 593 \n",
      "Position of dxl ID: 1 set to 447 \n",
      "Position of dxl ID: 2 set to 592 \n",
      "Position of dxl ID: 1 set to 448 \n",
      "Position of dxl ID: 2 set to 591 \n",
      "Position of dxl ID: 1 set to 449 \n",
      "Position of dxl ID: 2 set to 590 \n",
      "Position of dxl ID: 1 set to 450 \n",
      "Position of dxl ID: 2 set to 589 \n",
      "Position of dxl ID: 1 set to 451 \n",
      "Position of dxl ID: 2 set to 588 \n",
      "Position of dxl ID: 1 set to 452 \n",
      "Position of dxl ID: 2 set to 587 \n",
      "Position of dxl ID: 1 set to 453 \n",
      "Position of dxl ID: 2 set to 586 \n",
      "Position of dxl ID: 1 set to 454 \n",
      "Position of dxl ID: 2 set to 585 \n",
      "Position of dxl ID: 1 set to 455 \n",
      "Position of dxl ID: 2 set to 584 \n",
      "Position of dxl ID: 1 set to 456 \n",
      "Position of dxl ID: 2 set to 583 \n",
      "Position of dxl ID: 1 set to 457 \n",
      "Position of dxl ID: 2 set to 582 \n",
      "Position of dxl ID: 1 set to 458 \n",
      "Position of dxl ID: 2 set to 581 \n",
      "Position of dxl ID: 1 set to 459 \n",
      "Position of dxl ID: 2 set to 580 \n",
      "Position of dxl ID: 1 set to 460 \n",
      "Position of dxl ID: 2 set to 579 \n",
      "Position of dxl ID: 1 set to 461 \n",
      "Position of dxl ID: 2 set to 578 \n",
      "Position of dxl ID: 1 set to 462 \n",
      "Position of dxl ID: 2 set to 577 \n",
      "Position of dxl ID: 1 set to 463 \n",
      "Position of dxl ID: 2 set to 576 \n",
      "Position of dxl ID: 1 set to 464 \n",
      "Position of dxl ID: 2 set to 575 \n",
      "Position of dxl ID: 1 set to 465 \n",
      "Position of dxl ID: 2 set to 574 \n",
      "Position of dxl ID: 1 set to 466 \n",
      "Position of dxl ID: 2 set to 573 \n",
      "Position of dxl ID: 1 set to 467 \n",
      "Position of dxl ID: 2 set to 572 \n",
      "Position of dxl ID: 1 set to 468 \n",
      "Position of dxl ID: 2 set to 571 \n",
      "Position of dxl ID: 1 set to 469 \n",
      "Position of dxl ID: 2 set to 570 \n",
      "Position of dxl ID: 1 set to 470 \n",
      "Position of dxl ID: 2 set to 569 \n",
      "Position of dxl ID: 1 set to 471 \n",
      "Position of dxl ID: 2 set to 568 \n",
      "Position of dxl ID: 1 set to 472 \n",
      "Position of dxl ID: 2 set to 567 \n",
      "Position of dxl ID: 1 set to 473 \n",
      "Position of dxl ID: 2 set to 566 \n",
      "Position of dxl ID: 1 set to 474 \n",
      "Position of dxl ID: 2 set to 565 \n",
      "Position of dxl ID: 1 set to 475 \n",
      "Position of dxl ID: 2 set to 564 \n",
      "Position of dxl ID: 1 set to 476 \n",
      "Position of dxl ID: 2 set to 563 \n",
      "Position of dxl ID: 1 set to 477 \n",
      "Position of dxl ID: 2 set to 562 \n",
      "Position of dxl ID: 1 set to 478 \n",
      "Position of dxl ID: 2 set to 561 \n",
      "Position of dxl ID: 1 set to 479 \n",
      "Position of dxl ID: 2 set to 560 \n",
      "Position of dxl ID: 1 set to 480 \n",
      "Position of dxl ID: 2 set to 559 \n",
      "Position of dxl ID: 1 set to 481 \n",
      "Position of dxl ID: 2 set to 558 \n",
      "Position of dxl ID: 1 set to 482 \n",
      "Position of dxl ID: 2 set to 557 \n",
      "Position of dxl ID: 1 set to 483 \n",
      "Position of dxl ID: 2 set to 556 \n",
      "Position of dxl ID: 1 set to 484 \n",
      "Position of dxl ID: 2 set to 555 \n",
      "Position of dxl ID: 1 set to 485 \n",
      "Position of dxl ID: 2 set to 554 \n",
      "Position of dxl ID: 1 set to 486 \n",
      "Position of dxl ID: 2 set to 553 \n",
      "Position of dxl ID: 1 set to 487 \n",
      "Position of dxl ID: 2 set to 552 \n",
      "Position of dxl ID: 1 set to 488 \n",
      "Position of dxl ID: 2 set to 551 \n",
      "Position of dxl ID: 1 set to 489 \n",
      "Position of dxl ID: 2 set to 550 \n",
      "Position of dxl ID: 1 set to 490 \n",
      "Position of dxl ID: 2 set to 549 \n",
      "Position of dxl ID: 1 set to 491 \n",
      "Position of dxl ID: 2 set to 548 \n",
      "Position of dxl ID: 1 set to 492 \n",
      "Position of dxl ID: 2 set to 547 \n",
      "Position of dxl ID: 1 set to 493 \n",
      "Position of dxl ID: 2 set to 546 \n",
      "Position of dxl ID: 1 set to 494 \n",
      "Position of dxl ID: 2 set to 545 \n",
      "Position of dxl ID: 1 set to 495 \n",
      "Position of dxl ID: 2 set to 544 \n",
      "Position of dxl ID: 1 set to 496 \n",
      "Position of dxl ID: 2 set to 543 \n",
      "Position of dxl ID: 1 set to 497 \n",
      "Position of dxl ID: 2 set to 542 \n",
      "Position of dxl ID: 1 set to 498 \n",
      "Position of dxl ID: 2 set to 541 \n",
      "Position of dxl ID: 1 set to 499 \n",
      "Position of dxl ID: 2 set to 540 \n",
      "Position of dxl ID: 1 set to 500 \n",
      "Position of dxl ID: 2 set to 539 \n",
      "Position of dxl ID: 1 set to 501 \n",
      "Position of dxl ID: 2 set to 538 \n",
      "Position of dxl ID: 1 set to 502 \n",
      "Position of dxl ID: 2 set to 537 \n",
      "Position of dxl ID: 1 set to 503 \n",
      "Position of dxl ID: 2 set to 536 \n",
      "Position of dxl ID: 1 set to 504 \n",
      "Position of dxl ID: 2 set to 535 \n",
      "Position of dxl ID: 1 set to 505 \n",
      "Position of dxl ID: 2 set to 534 \n",
      "Position of dxl ID: 1 set to 506 \n",
      "Position of dxl ID: 2 set to 533 \n",
      "Position of dxl ID: 1 set to 507 \n",
      "Position of dxl ID: 2 set to 532 \n",
      "Position of dxl ID: 1 set to 508 \n",
      "Position of dxl ID: 2 set to 531 \n",
      "Position of dxl ID: 1 set to 509 \n",
      "Position of dxl ID: 2 set to 530 \n",
      "Position of dxl ID: 1 set to 510 \n",
      "Position of dxl ID: 2 set to 529 \n",
      "Position of dxl ID: 1 set to 511 \n",
      "Position of dxl ID: 2 set to 528 \n",
      "Position of dxl ID: 1 set to 512 \n",
      "Position of dxl ID: 2 set to 527 \n",
      "Position of dxl ID: 1 set to 513 \n",
      "Position of dxl ID: 2 set to 526 \n",
      "Position of dxl ID: 1 set to 514 \n",
      "Position of dxl ID: 2 set to 525 \n",
      "Position of dxl ID: 1 set to 515 \n",
      "Position of dxl ID: 2 set to 524 \n",
      "Position of dxl ID: 1 set to 516 \n",
      "Position of dxl ID: 2 set to 523 \n",
      "Position of dxl ID: 1 set to 517 \n",
      "Position of dxl ID: 2 set to 522 \n",
      "Position of dxl ID: 1 set to 518 \n",
      "Position of dxl ID: 2 set to 521 \n",
      "Position of dxl ID: 1 set to 519 \n",
      "Position of dxl ID: 2 set to 520 \n",
      "Position of dxl ID: 1 set to 520 \n",
      "Position of dxl ID: 2 set to 519 \n",
      "Position of dxl ID: 1 set to 521 \n",
      "Position of dxl ID: 2 set to 518 \n",
      "Position of dxl ID: 1 set to 522 \n",
      "Position of dxl ID: 2 set to 517 \n",
      "Position of dxl ID: 1 set to 523 \n",
      "Position of dxl ID: 2 set to 516 \n",
      "Position of dxl ID: 1 set to 524 \n",
      "Position of dxl ID: 2 set to 515 \n",
      "Position of dxl ID: 1 set to 525 \n",
      "Position of dxl ID: 2 set to 514 \n",
      "Position of dxl ID: 1 set to 526 \n",
      "Position of dxl ID: 2 set to 513 \n",
      "Position of dxl ID: 1 set to 527 \n",
      "Position of dxl ID: 2 set to 512 \n",
      "Position of dxl ID: 1 set to 528 \n",
      "Position of dxl ID: 2 set to 511 \n",
      "Position of dxl ID: 1 set to 529 \n",
      "Position of dxl ID: 2 set to 510 \n",
      "Position of dxl ID: 1 set to 530 \n",
      "Position of dxl ID: 2 set to 509 \n",
      "Position of dxl ID: 1 set to 531 \n",
      "Position of dxl ID: 2 set to 508 \n",
      "Position of dxl ID: 1 set to 532 \n",
      "Position of dxl ID: 2 set to 507 \n",
      "Position of dxl ID: 1 set to 533 \n",
      "Position of dxl ID: 2 set to 506 \n",
      "Position of dxl ID: 1 set to 534 \n",
      "Position of dxl ID: 2 set to 505 \n",
      "Position of dxl ID: 1 set to 535 \n",
      "Position of dxl ID: 2 set to 504 \n",
      "Position of dxl ID: 1 set to 536 \n",
      "Position of dxl ID: 2 set to 503 \n",
      "Position of dxl ID: 1 set to 537 \n",
      "Position of dxl ID: 2 set to 502 \n",
      "Position of dxl ID: 1 set to 538 \n",
      "Position of dxl ID: 2 set to 501 \n",
      "Position of dxl ID: 1 set to 539 \n",
      "Position of dxl ID: 2 set to 500 \n",
      "Position of dxl ID: 1 set to 540 \n",
      "Position of dxl ID: 2 set to 499 \n",
      "Position of dxl ID: 1 set to 541 \n",
      "Position of dxl ID: 2 set to 498 \n",
      "Position of dxl ID: 1 set to 542 \n",
      "Position of dxl ID: 2 set to 497 \n",
      "Position of dxl ID: 1 set to 543 \n",
      "Position of dxl ID: 2 set to 496 \n",
      "Position of dxl ID: 1 set to 544 \n",
      "Position of dxl ID: 2 set to 495 \n",
      "Position of dxl ID: 1 set to 545 \n",
      "Position of dxl ID: 2 set to 494 \n",
      "Position of dxl ID: 1 set to 546 \n",
      "Position of dxl ID: 2 set to 493 \n",
      "Position of dxl ID: 1 set to 547 \n",
      "Position of dxl ID: 2 set to 492 \n",
      "Position of dxl ID: 1 set to 548 \n",
      "Position of dxl ID: 2 set to 491 \n",
      "Position of dxl ID: 1 set to 549 \n",
      "Position of dxl ID: 2 set to 490 \n",
      "Position of dxl ID: 1 set to 550 \n",
      "Position of dxl ID: 2 set to 489 \n",
      "Position of dxl ID: 1 set to 551 \n",
      "Position of dxl ID: 2 set to 488 \n",
      "Position of dxl ID: 1 set to 552 \n",
      "Position of dxl ID: 2 set to 487 \n",
      "Position of dxl ID: 1 set to 553 \n",
      "Position of dxl ID: 2 set to 486 \n",
      "Position of dxl ID: 1 set to 554 \n",
      "Position of dxl ID: 2 set to 485 \n",
      "Position of dxl ID: 1 set to 555 \n",
      "Position of dxl ID: 2 set to 484 \n",
      "Position of dxl ID: 1 set to 556 \n",
      "Position of dxl ID: 2 set to 483 \n",
      "Position of dxl ID: 1 set to 557 \n",
      "Position of dxl ID: 2 set to 482 \n",
      "Position of dxl ID: 1 set to 558 \n",
      "Position of dxl ID: 2 set to 481 \n",
      "Position of dxl ID: 1 set to 559 \n",
      "Position of dxl ID: 2 set to 480 \n"
     ]
    }
   ],
   "source": [
    "pld = G.set_goal_aperture(5, finger='both', debug=False, record_load=True) #25mm aperture between fingers"
   ]
  },
  {
   "cell_type": "code",
   "execution_count": 86,
   "metadata": {},
   "outputs": [
    {
     "data": {
      "text/plain": [
       "61.04336176433776"
      ]
     },
     "execution_count": 86,
     "metadata": {},
     "output_type": "execute_result"
    }
   ],
   "source": [
    "G.N_to_load(0.15)"
   ]
  },
  {
   "cell_type": "code",
   "execution_count": 166,
   "metadata": {},
   "outputs": [
    {
     "name": "stdout",
     "output_type": "stream",
     "text": [
      "theta: 17.885218585596558, l2: 42.82531494338366, l1: 81.32, y_fingertip: 103.14531494338365\n",
      "z-offset: 103.14531494338365 mm\n"
     ]
    }
   ],
   "source": [
    "# validate z-offset (10mm aperture on either finger should be 20mm)\n",
    "desired_dist = 55\n",
    "zoff = G.aperture_to_z(desired_dist, finger='both', debug=True)\n",
    "print(f\"z-offset: {zoff} mm\")"
   ]
  },
  {
   "cell_type": "code",
   "execution_count": 98,
   "metadata": {},
   "outputs": [
    {
     "data": {
      "text/plain": [
       "105.48645436150926"
      ]
     },
     "execution_count": 98,
     "metadata": {},
     "output_type": "execute_result"
    }
   ],
   "source": [
    "G.get_aperture(finger='both')"
   ]
  },
  {
   "cell_type": "code",
   "execution_count": 119,
   "metadata": {},
   "outputs": [
    {
     "data": {
      "text/plain": [
       "293"
      ]
     },
     "execution_count": 119,
     "metadata": {},
     "output_type": "execute_result"
    }
   ],
   "source": [
    "G.Finger1.get_present_position()"
   ]
  },
  {
   "cell_type": "code",
   "execution_count": 118,
   "metadata": {},
   "outputs": [
    {
     "data": {
      "text/plain": [
       "53.9484487042254"
      ]
     },
     "execution_count": 118,
     "metadata": {},
     "output_type": "execute_result"
    }
   ],
   "source": [
    "G.get_aperture(finger='left')"
   ]
  },
  {
   "cell_type": "code",
   "execution_count": 122,
   "metadata": {},
   "outputs": [
    {
     "name": "stdout",
     "output_type": "stream",
     "text": [
      "position: 438\n",
      "Position of dxl ID: 1 set to 295 \n",
      "Position of dxl ID: 1 set to 294 \n",
      "Position of dxl ID: 1 set to 293 \n",
      "Position of dxl ID: 1 set to 290 \n",
      "Position of dxl ID: 1 set to 289 \n",
      "Position of dxl ID: 1 set to 288 \n",
      "Position of dxl ID: 1 set to 287 \n",
      "Position of dxl ID: 1 set to 286 \n",
      "Position of dxl ID: 1 set to 285 \n",
      "Position of dxl ID: 1 set to 284 \n",
      "Position of dxl ID: 1 set to 283 \n",
      "Position of dxl ID: 1 set to 282 \n",
      "Position of dxl ID: 1 set to 281 \n",
      "Position of dxl ID: 1 set to 280 \n",
      "Position of dxl ID: 1 set to 279 \n",
      "Position of dxl ID: 1 set to 278 \n",
      "Position of dxl ID: 1 set to 277 \n",
      "Position of dxl ID: 1 set to 275 \n",
      "Position of dxl ID: 1 set to 274 \n",
      "Position of dxl ID: 1 set to 273 \n",
      "Position of dxl ID: 1 set to 272 \n",
      "left finger reached stop force: 3.2689470400000005 at distance: 54.252107976649704\n",
      "left finger reached stop load: 192 at position: 292\n",
      "Position of dxl ID: 1 set to 292 \n"
     ]
    }
   ],
   "source": [
    "G.close_until_contact_force(30, 3.0, finger='left', debug=True)"
   ]
  },
  {
   "cell_type": "code",
   "execution_count": 273,
   "metadata": {},
   "outputs": [
    {
     "data": {
      "text/plain": [
       "0"
      ]
     },
     "execution_count": 273,
     "metadata": {},
     "output_type": "execute_result"
    }
   ],
   "source": [
    "G.get_load(finger='left')"
   ]
  },
  {
   "cell_type": "code",
   "execution_count": 5,
   "metadata": {},
   "outputs": [
    {
     "name": "stdout",
     "output_type": "stream",
     "text": [
      "margin_ax12: 9\n",
      "flexibility_ax12: 128\n",
      "margin_ax12: 9\n",
      "flexibility_ax12: 128\n"
     ]
    }
   ],
   "source": [
    "G.set_compliance(2, 7, finger='left', debug=True)\n",
    "G.set_compliance(2, 7, finger='right', debug=True)"
   ]
  },
  {
   "cell_type": "code",
   "execution_count": 238,
   "metadata": {},
   "outputs": [
    {
     "data": {
      "text/plain": [
       "[53.20311759145189, 52.04459477753785]"
      ]
     },
     "execution_count": 238,
     "metadata": {},
     "output_type": "execute_result"
    }
   ],
   "source": [
    "[G.get_aperture(finger='left'), G.get_aperture(finger='right')]"
   ]
  },
  {
   "cell_type": "code",
   "execution_count": 51,
   "metadata": {},
   "outputs": [
    {
     "name": "stdout",
     "output_type": "stream",
     "text": [
      "position: 601\n"
     ]
    },
    {
     "data": {
      "text/plain": [
       "(601, 100.18198855127346)"
      ]
     },
     "execution_count": 51,
     "metadata": {},
     "output_type": "execute_result"
    }
   ],
   "source": [
    "import numpy as np\n",
    "finger = 'right'\n",
    "finger_ax12 = G.Finger1 if finger == 'left' else G.Finger2\n",
    "latency = 0.0006\n",
    "delay = 0.0055\n",
    "stop_force = 0.25\n",
    "stop_load = G.N_to_load(stop_force)\n",
    "stop_aperture = 30 # mm\n",
    "curr_pos = G.get_aperture(finger=finger)\n",
    "curr_pos = finger_ax12.get_present_position()\n",
    "stop_ax12 = G.theta_to_position(G.aperture_to_theta(stop_aperture), finger=finger, debug=True)\n",
    "delta = stop_ax12 - int(curr_pos)\n",
    "sign = np.sign(delta)\n",
    "\n",
    "stop_ax12, stop_load"
   ]
  },
  {
   "cell_type": "code",
   "execution_count": 39,
   "metadata": {},
   "outputs": [],
   "source": [
    "G.set_torque(120, finger='both')"
   ]
  },
  {
   "cell_type": "code",
   "execution_count": 42,
   "metadata": {},
   "outputs": [
    {
     "name": "stdout",
     "output_type": "stream",
     "text": [
      "Position of dxl ID: 2 set to 728 \n"
     ]
    }
   ],
   "source": [
    "finger_ax12.set_goal_position(728)"
   ]
  },
  {
   "cell_type": "code",
   "execution_count": 54,
   "metadata": {},
   "outputs": [
    {
     "data": {
      "text/plain": [
       "range(728, 601)"
      ]
     },
     "execution_count": 54,
     "metadata": {},
     "output_type": "execute_result"
    }
   ],
   "source": [
    "curr_pos = finger_ax12.get_present_position()\n",
    "range(curr_pos, stop_ax12)"
   ]
  },
  {
   "cell_type": "code",
   "execution_count": 63,
   "metadata": {},
   "outputs": [
    {
     "name": "stdout",
     "output_type": "stream",
     "text": [
      "Position of dxl ID: 2 set to 642 \n",
      "curr_load: 0, curr_pos: 728\n",
      "Position of dxl ID: 2 set to 641 \n",
      "curr_load: 0, curr_pos: 728\n",
      "Position of dxl ID: 2 set to 640 \n",
      "curr_load: 0, curr_pos: 726\n",
      "Position of dxl ID: 2 set to 639 \n",
      "curr_load: 0, curr_pos: 725\n",
      "Position of dxl ID: 2 set to 638 \n",
      "curr_load: 88, curr_pos: 723\n",
      "Position of dxl ID: 2 set to 637 \n",
      "curr_load: 88, curr_pos: 722\n",
      "Position of dxl ID: 2 set to 636 \n",
      "curr_load: 88, curr_pos: 719\n",
      "Position of dxl ID: 2 set to 635 \n",
      "curr_load: 88, curr_pos: 717\n",
      "Position of dxl ID: 2 set to 634 \n",
      "curr_load: 88, curr_pos: 715\n",
      "Position of dxl ID: 2 set to 633 \n",
      "curr_load: 88, curr_pos: 712\n",
      "Position of dxl ID: 2 set to 632 \n",
      "curr_load: 88, curr_pos: 710\n",
      "Position of dxl ID: 2 set to 631 \n",
      "curr_load: 16, curr_pos: 708\n",
      "Position of dxl ID: 2 set to 630 \n",
      "curr_load: 16, curr_pos: 706\n",
      "Position of dxl ID: 2 set to 629 \n",
      "curr_load: 16, curr_pos: 704\n",
      "Position of dxl ID: 2 set to 628 \n",
      "curr_load: 16, curr_pos: 700\n",
      "Position of dxl ID: 2 set to 627 \n",
      "curr_load: 16, curr_pos: 699\n",
      "Position of dxl ID: 2 set to 626 \n",
      "curr_load: 16, curr_pos: 697\n",
      "Position of dxl ID: 2 set to 625 \n",
      "curr_load: 16, curr_pos: 695\n",
      "Position of dxl ID: 2 set to 624 \n",
      "curr_load: 8, curr_pos: 693\n",
      "Position of dxl ID: 2 set to 623 \n",
      "curr_load: 8, curr_pos: 691\n",
      "Position of dxl ID: 2 set to 622 \n",
      "curr_load: 8, curr_pos: 689\n",
      "Position of dxl ID: 2 set to 621 \n",
      "curr_load: 8, curr_pos: 687\n",
      "Position of dxl ID: 2 set to 620 \n",
      "curr_load: 8, curr_pos: 684\n",
      "Position of dxl ID: 2 set to 619 \n",
      "curr_load: 8, curr_pos: 682\n",
      "Position of dxl ID: 2 set to 618 \n",
      "curr_load: 8, curr_pos: 680\n",
      "Position of dxl ID: 2 set to 617 \n",
      "curr_load: 8, curr_pos: 678\n",
      "Position of dxl ID: 2 set to 616 \n",
      "curr_load: 8, curr_pos: 674\n",
      "Position of dxl ID: 2 set to 615 \n",
      "curr_load: 8, curr_pos: 672\n",
      "Position of dxl ID: 2 set to 614 \n",
      "curr_load: 8, curr_pos: 670\n",
      "Position of dxl ID: 2 set to 613 \n",
      "curr_load: 8, curr_pos: 668\n",
      "Position of dxl ID: 2 set to 612 \n",
      "curr_load: 8, curr_pos: 666\n",
      "Position of dxl ID: 2 set to 611 \n",
      "curr_load: 8, curr_pos: 664\n",
      "Position of dxl ID: 2 set to 610 \n",
      "curr_load: 8, curr_pos: 660\n",
      "Position of dxl ID: 2 set to 609 \n",
      "curr_load: 8, curr_pos: 658\n",
      "Position of dxl ID: 2 set to 608 \n",
      "curr_load: 8, curr_pos: 656\n",
      "Position of dxl ID: 2 set to 607 \n",
      "curr_load: 8, curr_pos: 654\n",
      "Position of dxl ID: 2 set to 606 \n",
      "curr_load: 8, curr_pos: 651\n",
      "Position of dxl ID: 2 set to 605 \n",
      "curr_load: 8, curr_pos: 650\n",
      "Position of dxl ID: 2 set to 604 \n",
      "curr_load: 8, curr_pos: 647\n",
      "Position of dxl ID: 2 set to 603 \n",
      "curr_load: 8, curr_pos: 645\n",
      "Position of dxl ID: 2 set to 602 \n",
      "curr_load: 8, curr_pos: 644\n"
     ]
    }
   ],
   "source": [
    "time.sleep(latency)\n",
    "for next_pos in range(curr_pos, stop_ax12, sign*1):\n",
    "    finger_ax12.set_goal_position(next_pos)\n",
    "    time.sleep(delay)\n",
    "    time.sleep(delay)\n",
    "    curr_pos = finger_ax12.get_present_position()\n",
    "    curr_load = finger_ax12.get_load()\n",
    "    if curr_load > 1023:\n",
    "        curr_load = curr_load - 1023\n",
    "    print(f'curr_load: {curr_load}, curr_pos: {curr_pos}')\n",
    "    time.sleep(delay)\n",
    "    time.sleep(latency)\n",
    "    if curr_load > stop_load:\n",
    "        force = G.load_to_N(curr_load)\n",
    "        distance = G.get_aperture(finger=finger)\n",
    "        print(f'{finger} finger reached stop force: {force} at distance: {distance}')\n",
    "        print(f'{finger} finger reached stop load: {curr_load} at position: {curr_pos}')\n",
    "        # todo: set goal_distance_fx class variable, but not really necessary\n",
    "        finger_ax12.set_goal_position(curr_pos)\n",
    "        break"
   ]
  },
  {
   "cell_type": "code",
   "execution_count": 62,
   "metadata": {},
   "outputs": [
    {
     "name": "stdout",
     "output_type": "stream",
     "text": [
      "Position of dxl ID: 2 set to 728 \n"
     ]
    }
   ],
   "source": [
    "finger_ax12.set_goal_position(728)"
   ]
  },
  {
   "cell_type": "code",
   "execution_count": 46,
   "metadata": {},
   "outputs": [
    {
     "data": {
      "text/plain": [
       "0"
      ]
     },
     "execution_count": 46,
     "metadata": {},
     "output_type": "execute_result"
    }
   ],
   "source": [
    "G.get_load(finger='right')"
   ]
  },
  {
   "cell_type": "code",
   "execution_count": 47,
   "metadata": {},
   "outputs": [
    {
     "name": "stdout",
     "output_type": "stream",
     "text": [
      "Position of dxl ID: 1 set to 303 \n",
      "Position of dxl ID: 2 set to 729 \n"
     ]
    }
   ],
   "source": [
    "G.open_gripper()"
   ]
  },
  {
   "cell_type": "markdown",
   "metadata": {},
   "source": [
    "# Testing L2G Generation"
   ]
  },
  {
   "cell_type": "code",
   "execution_count": 170,
   "metadata": {},
   "outputs": [
    {
     "name": "stdout",
     "output_type": "stream",
     "text": [
      "Torque enable dxl ID: 1 set to 1 \n",
      "Torque enable dxl ID: 2 set to 1 \n"
     ]
    }
   ],
   "source": [
    "G.reset_packet_overload()"
   ]
  },
  {
   "cell_type": "code",
   "execution_count": 33,
   "metadata": {},
   "outputs": [
    {
     "name": "stdout",
     "output_type": "stream",
     "text": [
      "theta: 35.79514090937181, l2: 36.50010410944057, l1: 81.32, y_fingertip: 96.82010410944056\n"
     ]
    },
    {
     "data": {
      "text/plain": [
       "96.82010410944056"
      ]
     },
     "execution_count": 33,
     "metadata": {},
     "output_type": "execute_result"
    }
   ],
   "source": [
    "G.aperture_to_z(80, finger='both', debug=True)"
   ]
  },
  {
   "cell_type": "code",
   "execution_count": 18,
   "metadata": {},
   "outputs": [
    {
     "name": "stdout",
     "output_type": "stream",
     "text": [
      "Position of dxl ID: 1 set to 303 \n",
      "Position of dxl ID: 2 set to 729 \n"
     ]
    }
   ],
   "source": [
    "G.open_gripper()"
   ]
  },
  {
   "cell_type": "code",
   "execution_count": 17,
   "metadata": {},
   "outputs": [
    {
     "name": "stdout",
     "output_type": "stream",
     "text": [
      "Position of dxl ID: 1 set to 586 \n",
      "Position of dxl ID: 2 set to 450 \n"
     ]
    }
   ],
   "source": [
    "G.close_gripper()"
   ]
  },
  {
   "cell_type": "code",
   "execution_count": 34,
   "metadata": {},
   "outputs": [
    {
     "name": "stdout",
     "output_type": "stream",
     "text": [
      "position: 389\n",
      "Position of dxl ID: 1 set to 389 \n",
      "position: 650\n",
      "Position of dxl ID: 2 set to 650 \n"
     ]
    }
   ],
   "source": [
    "# time.sleep(5.0)\n",
    "G.set_force(2.0, finger='both')\n",
    "G.set_goal_aperture(80, finger='both', debug=True)\n",
    "# G.close_gripper()"
   ]
  },
  {
   "cell_type": "code",
   "execution_count": 63,
   "metadata": {},
   "outputs": [
    {
     "name": "stdout",
     "output_type": "stream",
     "text": [
      "Moving speed of dxl ID: 1 set to 100 \n",
      "Moving speed of dxl ID: 2 set to 100 \n",
      "Position of dxl ID: 1 set to 303 \n",
      "Position of dxl ID: 2 set to 729 \n"
     ]
    }
   ],
   "source": [
    "G.reset_parameters()"
   ]
  },
  {
   "cell_type": "code",
   "execution_count": 62,
   "metadata": {},
   "outputs": [
    {
     "name": "stdout",
     "output_type": "stream",
     "text": [
      "Position of dxl ID: 1 set to 402 \n",
      "Position of dxl ID: 2 set to 637 \n",
      "Current aperture: 77.62770118111555 mm\n",
      "Position of dxl ID: 1 set to 455 \n",
      "Position of dxl ID: 2 set to 584 \n"
     ]
    }
   ],
   "source": [
    "# plastic bag\n",
    "# Reset parameters for a new grasp task, ensuring all previous settings are cleared.\n",
    "# G.reset_parameters()\n",
    "# time.sleep(5.0)\n",
    "\n",
    "# [Grasping a delicate object like a paper airplane requires precision without exerting excessive force.]\n",
    "# Setting compliance parameters to allow for a gentle grip, reducing risk of damage to the high compliant, low weight object.\n",
    "G.set_compliance(margin=4, flexibility=3, finger='both')\n",
    "time.sleep(0.01)\n",
    "# Setting a conservative initial force to avoid crushing the paper airplane, ensuring a gentle grip.\n",
    "G.set_force(4.0, 'both')\n",
    "time.sleep(0.1)\n",
    "\n",
    "# Getting the current goal aperture to adjust for the size of the object.\n",
    "# goal_aperture = G.get_goal_aperture(finger='both')\n",
    "goal_aperture = 75\n",
    "\n",
    "# Adjusting the goal aperture slightly smaller than the initial to ensure contact with the object, considering its compliance and low weight.\n",
    "G.set_goal_aperture(goal_aperture, finger='both', record_load=False)\n",
    "time.sleep(3.0)\n",
    "\n",
    "# # [To confirm the grasp without causing damage, a slight increase in force is needed after initial contact.]\n",
    "# # Increasing the force slightly by 0.5N to ensure a secure grip on the paper airplane without applying too much pressure.\n",
    "G.set_force(5.5, 'both')\n",
    "time.sleep(0.10)\n",
    "\n",
    "# # Checking the current aperture to ensure the fingers have moved as intended.\n",
    "curr_aperture = G.get_aperture(finger='both')\n",
    "print(f'Current aperture: {curr_aperture} mm')\n",
    "time.sleep(0.01)\n",
    "\n",
    "# # If the current aperture is not as expected, adjust the goal aperture slightly to improve the grip.\n",
    "# # Here we assume there might be a need to adjust based on the object's compliance; adjust based on your guess or requirement.\n",
    "additional_closure = 25\n",
    "G.set_goal_aperture(curr_aperture - additional_closure, finger='both', record_load=False)\n",
    "time.sleep(3.5)\n"
   ]
  },
  {
   "cell_type": "code",
   "execution_count": 46,
   "metadata": {},
   "outputs": [
    {
     "data": {
      "text/plain": [
       "75.5710350287771"
      ]
     },
     "execution_count": 46,
     "metadata": {},
     "output_type": "execute_result"
    }
   ],
   "source": [
    "G.get_aperture(finger='both')"
   ]
  },
  {
   "cell_type": "code",
   "execution_count": 31,
   "metadata": {},
   "outputs": [
    {
     "name": "stdout",
     "output_type": "stream",
     "text": [
      "Position of dxl ID: 1 set to 464 \n",
      "Position of dxl ID: 2 set to 575 \n",
      "Current aperture: 54.275721515032856 mm\n",
      "Position of dxl ID: 1 set to 467 \n",
      "Position of dxl ID: 2 set to 572 \n"
     ]
    }
   ],
   "source": [
    "# clementine, sleeps are manual\n",
    "# Reset parameters for a new grasp task, ensuring all previous settings are cleared.\n",
    "# G.reset_parameters()\n",
    "# time.sleep(5.0)\n",
    "\n",
    "# [Grasping a delicate object like a paper airplane requires precision without exerting excessive force.]\n",
    "# Setting compliance parameters to allow for a gentle grip, reducing risk of damage to the high compliant, low weight object.\n",
    "G.set_compliance(margin=5, flexibility=4, finger='both')\n",
    "time.sleep(0.01)\n",
    "# Setting a conservative initial force to avoid crushing the paper airplane, ensuring a gentle grip.\n",
    "G.set_force(1.0, 'both')\n",
    "time.sleep(0.1)\n",
    "\n",
    "# Getting the current goal aperture to adjust for the size of the object.\n",
    "# goal_aperture = G.get_goal_aperture(finger='both')\n",
    "goal_aperture = 49\n",
    "\n",
    "# Adjusting the goal aperture slightly smaller than the initial to ensure contact with the object, considering its compliance and low weight.\n",
    "G.set_goal_aperture(goal_aperture, finger='both', record_load=False)\n",
    "time.sleep(4.0)\n",
    "\n",
    "# # [To confirm the grasp without causing damage, a slight increase in force is needed after initial contact.]\n",
    "# # Increasing the force slightly by 0.5N to ensure a secure grip on the paper airplane without applying too much pressure.\n",
    "G.set_force(1.5, 'both')\n",
    "time.sleep(0.10)\n",
    "\n",
    "# # Checking the current aperture to ensure the fingers have moved as intended.\n",
    "curr_aperture = G.get_aperture(finger='both')\n",
    "print(f'Current aperture: {curr_aperture} mm')\n",
    "time.sleep(0.01)\n",
    "\n",
    "# # If the current aperture is not as expected, adjust the goal aperture slightly to improve the grip.\n",
    "# # Here we assume there might be a need to adjust based on the object's compliance; adjust based on your guess or requirement.\n",
    "additional_closure = 7\n",
    "G.set_goal_aperture(curr_aperture - additional_closure, finger='both', record_load=False)\n",
    "time.sleep(2.5)\n"
   ]
  },
  {
   "cell_type": "code",
   "execution_count": 140,
   "metadata": {},
   "outputs": [
    {
     "name": "stdout",
     "output_type": "stream",
     "text": [
      "Position of dxl ID: 1 set to 542 \n",
      "Position of dxl ID: 2 set to 497 \n",
      "Current aperture: 17.705124633955062 mm\n",
      "Position of dxl ID: 1 set to 536 \n",
      "Position of dxl ID: 2 set to 503 \n"
     ]
    }
   ],
   "source": [
    "# paper plane, sleeps are manual\n",
    "# Reset parameters for a new grasp task, ensuring all previous settings are cleared.\n",
    "# G.reset_parameters()\n",
    "time.sleep(5.0)\n",
    "\n",
    "# [Grasping a delicate object like a paper airplane requires precision without exerting excessive force.]\n",
    "# Setting compliance parameters to allow for a gentle grip, reducing risk of damage to the high compliant, low weight object.\n",
    "G.set_compliance(margin=1, flexibility=5, finger='both')\n",
    "time.sleep(0.01)\n",
    "# Setting a conservative initial force to avoid crushing the paper airplane, ensuring a gentle grip.\n",
    "G.set_force(0.15, 'both')\n",
    "time.sleep(0.1)\n",
    "\n",
    "# Getting the current goal aperture to adjust for the size of the object.\n",
    "# goal_aperture = G.get_goal_aperture(finger='both')\n",
    "goal_aperture = 18\n",
    "\n",
    "# Adjusting the goal aperture slightly smaller than the initial to ensure contact with the object, considering its compliance and low weight.\n",
    "G.set_goal_aperture(goal_aperture - 5, finger='both', record_load=False)\n",
    "time.sleep(2.5)\n",
    "\n",
    "# # [To confirm the grasp without causing damage, a slight increase in force is needed after initial contact.]\n",
    "# # Increasing the force slightly by 0.5N to ensure a secure grip on the paper airplane without applying too much pressure.\n",
    "G.set_force(0.65, 'both')\n",
    "time.sleep(0.10)\n",
    "\n",
    "# # Checking the current aperture to ensure the fingers have moved as intended.\n",
    "curr_aperture = G.get_aperture(finger='both')\n",
    "print(f'Current aperture: {curr_aperture} mm')\n",
    "time.sleep(0.01)\n",
    "\n",
    "# # If the current aperture is not as expected, adjust the goal aperture slightly to improve the grip.\n",
    "# # Here we assume there might be a need to adjust based on the object's compliance; adjust based on your guess or requirement.\n",
    "G.set_goal_aperture(curr_aperture - 2, finger='both', record_load=False)\n",
    "time.sleep(2.5)\n"
   ]
  },
  {
   "cell_type": "code",
   "execution_count": 160,
   "metadata": {},
   "outputs": [
    {
     "name": "stdout",
     "output_type": "stream",
     "text": [
      "Moving speed of dxl ID: 1 set to 100 \n",
      "Moving speed of dxl ID: 2 set to 100 \n",
      "Position of dxl ID: 1 set to 303 \n",
      "Position of dxl ID: 2 set to 729 \n",
      "position: 402\n",
      "Position of dxl ID: 1 set to 402 \n",
      "position: 637\n",
      "Position of dxl ID: 2 set to 637 \n"
     ]
    }
   ],
   "source": [
    "G.reset_parameters()\n",
    "G.set_goal_aperture(75, finger='both', debug=True)\n"
   ]
  },
  {
   "cell_type": "code",
   "execution_count": 168,
   "metadata": {},
   "outputs": [
    {
     "name": "stdout",
     "output_type": "stream",
     "text": [
      "position: 450\n",
      "Position of dxl ID: 1 set to 450 \n",
      "position: 589\n",
      "Position of dxl ID: 2 set to 589 \n",
      "Position of dxl ID: 1 set to 586 \n",
      "Position of dxl ID: 2 set to 450 \n"
     ]
    }
   ],
   "source": [
    "# time.sleep(5.0)\n",
    "G.set_force(8.0, finger='both')\n",
    "G.set_goal_aperture(55, finger='both', debug=True)\n",
    "G.close_gripper()\n"
   ]
  },
  {
   "cell_type": "code",
   "execution_count": 167,
   "metadata": {},
   "outputs": [
    {
     "name": "stdout",
     "output_type": "stream",
     "text": [
      "Position of dxl ID: 1 set to 583 \n",
      "Position of dxl ID: 2 set to 456 \n",
      "Current aperture: 98.07154262472713 mm\n",
      "Position of dxl ID: 1 set to 341 \n",
      "Position of dxl ID: 2 set to 698 \n"
     ]
    }
   ],
   "source": [
    "# credit card\n",
    "\n",
    "# Reset parameters for a new grasp task, ensuring all previous settings are cleared.\n",
    "# G.reset_parameters()\n",
    "# time.sleep(5.0)\n",
    "\n",
    "# [Grasping a delicate object like a paper airplane requires precision without exerting excessive force.]\n",
    "# Setting compliance parameters to allow for a gentle grip, reducing risk of damage to the high compliant, low weight object.\n",
    "G.set_compliance(margin=0.5, flexibility=2, finger='both')\n",
    "time.sleep(0.01)\n",
    "# Setting a conservative initial force to avoid crushing the paper airplane, ensuring a gentle grip.\n",
    "G.set_force(0.6, 'both')\n",
    "time.sleep(0.1)\n",
    "\n",
    "# Getting the current goal aperture to adjust for the size of the object.\n",
    "# goal_aperture = G.get_goal_aperture(finger='both')\n",
    "goal_aperture = 0\n",
    "\n",
    "# Adjusting the goal aperture slightly smaller than the initial to ensure contact with the object, considering its compliance and low weight.\n",
    "G.set_goal_aperture(goal_aperture - 5, finger='both', record_load=False)\n",
    "time.sleep(2.5)\n",
    "\n",
    "# # [To confirm the grasp without causing damage, a slight increase in force is needed after initial contact.]\n",
    "# # Increasing the force slightly by 0.5N to ensure a secure grip on the paper airplane without applying too much pressure.\n",
    "G.set_force(0.9, 'both')\n",
    "time.sleep(0.10)\n",
    "\n",
    "# # Checking the current aperture to ensure the fingers have moved as intended.\n",
    "curr_aperture = G.get_aperture(finger='both')\n",
    "print(f'Current aperture: {curr_aperture} mm')\n",
    "time.sleep(0.01)\n",
    "\n",
    "# # If the current aperture is not as expected, adjust the goal aperture slightly to improve the grip.\n",
    "# # Here we assume there might be a need to adjust based on the object's compliance; adjust based on your guess or requirement.\n",
    "G.set_goal_aperture(curr_aperture - 2, finger='both', record_load=False)\n",
    "time.sleep(2.5)\n"
   ]
  },
  {
   "cell_type": "markdown",
   "metadata": {},
   "source": [
    "# Testing Getters and Setters"
   ]
  },
  {
   "cell_type": "markdown",
   "metadata": {},
   "source": [
    "## Getters"
   ]
  },
  {
   "cell_type": "code",
   "execution_count": 27,
   "metadata": {},
   "outputs": [
    {
     "name": "stdout",
     "output_type": "stream",
     "text": [
      "[0, 0]\n"
     ]
    }
   ],
   "source": [
    "print(G.get_load(finger='both'))"
   ]
  },
  {
   "cell_type": "code",
   "execution_count": 28,
   "metadata": {},
   "outputs": [
    {
     "name": "stdout",
     "output_type": "stream",
     "text": [
      "[526, 511]\n"
     ]
    }
   ],
   "source": [
    "print(G.get_position(finger='both'))"
   ]
  },
  {
   "cell_type": "code",
   "execution_count": 30,
   "metadata": {},
   "outputs": [
    {
     "name": "stdout",
     "output_type": "stream",
     "text": [
      "[37, 36]\n"
     ]
    }
   ],
   "source": [
    "print(G.get_temp(finger='both'))"
   ]
  },
  {
   "cell_type": "code",
   "execution_count": 33,
   "metadata": {},
   "outputs": [
    {
     "name": "stdout",
     "output_type": "stream",
     "text": [
      "19.986677024361736\n"
     ]
    }
   ],
   "source": [
    "print(G.get_aperture(finger='both'))"
   ]
  },
  {
   "cell_type": "code",
   "execution_count": 34,
   "metadata": {},
   "outputs": [
    {
     "name": "stdout",
     "output_type": "stream",
     "text": [
      "24.138556173746146\n"
     ]
    }
   ],
   "source": [
    "# compare with Dylan's code\n",
    "print(G.get_distance(finger='both'))"
   ]
  },
  {
   "cell_type": "markdown",
   "metadata": {},
   "source": [
    "## Setters"
   ]
  },
  {
   "cell_type": "code",
   "execution_count": 91,
   "metadata": {},
   "outputs": [
    {
     "data": {
      "text/plain": [
       "0.09888000000000001"
      ]
     },
     "execution_count": 91,
     "metadata": {},
     "output_type": "execute_result"
    }
   ],
   "source": [
    "G.load_to_N(40)"
   ]
  },
  {
   "cell_type": "code",
   "execution_count": 90,
   "metadata": {},
   "outputs": [
    {
     "data": {
      "text/plain": [
       "40.45832530419774"
      ]
     },
     "execution_count": 90,
     "metadata": {},
     "output_type": "execute_result"
    }
   ],
   "source": [
    "G.N_to_load(.1)"
   ]
  },
  {
   "cell_type": "code",
   "execution_count": 41,
   "metadata": {},
   "outputs": [
    {
     "name": "stdout",
     "output_type": "stream",
     "text": [
      "converted load: 0\n"
     ]
    },
    {
     "data": {
      "text/plain": [
       "[0, 0]"
      ]
     },
     "execution_count": 41,
     "metadata": {},
     "output_type": "execute_result"
    }
   ],
   "source": [
    "# 1 N\n",
    "G.set_force(2.0, finger='both', debug=True)\n",
    "time.sleep(0.005)\n",
    "G.get_load(finger='both')"
   ]
  },
  {
   "cell_type": "code",
   "execution_count": null,
   "metadata": {},
   "outputs": [],
   "source": [
    "# set distance to 20 mm \n",
    "G.set_goal_distance(20, debug=True)\n",
    "time.sleep(0.5)\n",
    "print(G.get_distance(finger='both'))\n",
    "print(G.get_aperture(finger='both'))\n",
    "print(G.get_position(finger='both'))"
   ]
  },
  {
   "cell_type": "code",
   "execution_count": null,
   "metadata": {},
   "outputs": [],
   "source": [
    "# set compliance (in mm, slope[0-7])\n",
    "G.set_compliance(5, 4, finger='both', debug=True)\n",
    "time.sleep(0.005) \n",
    "print(G.get_compliance(finger='both'))\n"
   ]
  },
  {
   "cell_type": "code",
   "execution_count": 2,
   "metadata": {},
   "outputs": [],
   "source": [
    "# https://platform.openai.com/docs/guides/vision\n",
    "import openai\n",
    "import base64\n",
    "import requests\n",
    "import os\n",
    "from PIL import Image\n",
    "from pillow_heif import register_heif_opener\n",
    "import torch\n",
    "from transformers.image_utils import ImageFeatureExtractionMixin\n",
    "\n",
    "# import open3d as o3d\n",
    "import numpy as np\n",
    "# import pyrealsense2 as rs\n",
    "import matplotlib.pyplot as plt\n",
    "# import RealSense as real\n",
    "\n",
    "# # Initialize RS435i connection\n",
    "# rsc = real.RealSense()\n",
    "# rsc.initConnection()\n"
   ]
  },
  {
   "cell_type": "code",
   "execution_count": 25,
   "metadata": {},
   "outputs": [],
   "source": [
    "api_key = os.getenv(\"OPENAI_API_KEY\")\n"
   ]
  },
  {
   "cell_type": "code",
   "execution_count": 31,
   "metadata": {},
   "outputs": [
    {
     "name": "stdout",
     "output_type": "stream",
     "text": [
      "{'id': 'chatcmpl-8q2WxRjlJrltz2XHTlAbPBmXc1HHz', 'object': 'chat.completion', 'created': 1707413475, 'model': 'gpt-4-1106-vision-preview', 'usage': {'prompt_tokens': 2058, 'completion_tokens': 169, 'total_tokens': 2227}, 'choices': [{'message': {'role': 'assistant', 'content': 'Based on the provided images, the following errors in the labels have been identified:\\n\\n1. The object labeled as \"orange (4)\" is actually a red apple.\\n2. The item labeled as \"orange (5)\" is a red apple.\\n3. The item labeled as \"orange (9)\" is a green pear.\\n\\nGiven this information, the corrected list of labels with matching indices is:\\n\\n- orange (0)\\n- orange (1)\\n- orange (2)\\n- apple (3)\\n- apple (4)\\n- orange (6)\\n- orange (7)\\n- orange (8)\\n- pear (9)\\n- orange (10)\\n- orange (11)\\n- orange (12)\\n- orange (13)\\n- orange (14)\\n- orange (15)\\n- orange (16)\\n- orange (17)\\n- orange (18)'}, 'finish_reason': 'stop', 'index': 0}]}\n"
     ]
    }
   ],
   "source": [
    "# Path to your image\n",
    "image_path = \"data_snapshots/rgb_image_ur5.png\"\n",
    "image_path_labeled = 'data_snapshots/owlvit_inference.png'\n",
    "\n",
    "# Getting the base64 string\n",
    "base64_image = encode_image(image_path)\n",
    "base64_image_labeled = encode_image(image_path_labeled)\n",
    "\n",
    "api_key = os.getenv(\"OPENAI_API_KEY\")\n",
    "\n",
    "headers = {\n",
    "    \"Content-Type\": \"application/json\",\n",
    "    \"Authorization\": f\"Bearer {api_key}\"\n",
    "}\n",
    "\n",
    "text1 = \"\"\"\n",
    "You are planning a grasp for a robotic manipulator in a grocery bin. \n",
    "You will validate whether the labeled objects are present in the bin and correct the list of labels if there are any incongruities.\n",
    "For example if a the label in the image is \"apple (3)\" but the object is a \"pear\", you will correct the label to \"pear (3)\" in the format of the provided caption.\n",
    "The number in the image label corresponds to the index of the object in the list of objects.\n",
    "You are provided with a photo of the grocery bin, a photo of the indexed and labeled grocery bins, and a list of labels with matching indices.\n",
    "In your response, first identify any errors in the labels or missing labels. Then, finish your response in the format of the provided caption, with corrections applied.\n",
    "Make sure to mention the index of the fruit associated with the error.\n",
    "\"\"\"\n",
    "\n",
    "resp1 = \"\"\"\n",
    "I see: [\"a photo of a lemon\", \"a photo of an apple\", \"a photo of a pear\", \"a photo of an onion\", \"a photo of a lime\"]\n",
    "Labels: [\"lemon\", \"apple\", \"pear\", \"onion\", \"lime\"]\n",
    "\"\"\"\n",
    "\n",
    "text2 = \"\"\"\n",
    "Please generate a list of labels for this new image of the grocery bin, in the same format.\n",
    "Are there any new fruits or vegetables?\n",
    "\"\"\"\n",
    "question = \"\"\"\n",
    "No further information required.\n",
    "Now I am looking at a painting of people looking at a shore.\n",
    "\"\"\"\n",
    "\n",
    "payload = {\n",
    "    \"model\": \"gpt-4-vision-preview\",\n",
    "    \"messages\": [\n",
    "      {\n",
    "        \"role\": \"user\",\n",
    "        \"content\": [\n",
    "          {\n",
    "            \"type\": \"text\",\n",
    "            \"text\": f\"{text1}\"\n",
    "          },\n",
    "          {\n",
    "            \"type\": \"image_url\",\n",
    "            \"image_url\": {\n",
    "              \"url\": f\"data:image/jpeg;base64,{base64_image}\"\n",
    "            }\n",
    "          },\n",
    "          {\n",
    "            \"type\": \"image_url\",\n",
    "            \"image_url\": {\n",
    "              \"url\": f\"data:image/jpeg;base64,{base64_image_labeled}\"\n",
    "            }\n",
    "          }]\n",
    "      },\n",
    "      # {\n",
    "      #   \"role\": \"assistant\",\n",
    "      #   \"content\": [\n",
    "      #     {\n",
    "      #       \"type\": \"text\",\n",
    "      #       \"text\": f\"{resp1}\"\n",
    "      #     }]\n",
    "      # },\n",
    "      # {\n",
    "      #   \"role\": \"user\",\n",
    "      #   \"content\": [\n",
    "      #     {\n",
    "      #       \"type\": \"text\",\n",
    "      #       \"text\": f\"{text2}\"\n",
    "      #     },\n",
    "      #     {\n",
    "      #       \"type\": \"image_url\",\n",
    "      #       \"image_url\": {\n",
    "      #         \"url\": f\"data:image/jpeg;base64,{base64_image_avo}\"\n",
    "      #       }\n",
    "      #     }]\n",
    "      # }          \n",
    "      ],\n",
    "    \"max_tokens\": 1000\n",
    "}\n",
    "\n",
    "response = requests.post(\"https://api.openai.com/v1/chat/completions\", headers=headers, json=payload)\n",
    "\n",
    "print(response.json())"
   ]
  },
  {
   "cell_type": "code",
   "execution_count": 32,
   "metadata": {},
   "outputs": [
    {
     "data": {
      "text/plain": [
       "'Based on the provided images, the following errors in the labels have been identified:\\n\\n1. The object labeled as \"orange (4)\" is actually a red apple.\\n2. The item labeled as \"orange (5)\" is a red apple.\\n3. The item labeled as \"orange (9)\" is a green pear.\\n\\nGiven this information, the corrected list of labels with matching indices is:\\n\\n- orange (0)\\n- orange (1)\\n- orange (2)\\n- apple (3)\\n- apple (4)\\n- orange (6)\\n- orange (7)\\n- orange (8)\\n- pear (9)\\n- orange (10)\\n- orange (11)\\n- orange (12)\\n- orange (13)\\n- orange (14)\\n- orange (15)\\n- orange (16)\\n- orange (17)\\n- orange (18)'"
      ]
     },
     "execution_count": 32,
     "metadata": {},
     "output_type": "execute_result"
    }
   ],
   "source": [
    "generation = response.json()[\"choices\"][0]['message']['content']\n",
    "generation"
   ]
  },
  {
   "cell_type": "code",
   "execution_count": 40,
   "metadata": {},
   "outputs": [],
   "source": [
    "resp1 = \"\"\"\n",
    "Here is an example of a correct response to these images:\n",
    "Based on the provided images, the following errors in the labels have been identified:\n",
    "n1. The object labeled as \"orange (0)\" in the top right is actually a yellow lemon.\n",
    "n2. The item labeled as \"orange (3)\" to the left of \"orange (0)\" is a yellow lemon.\n",
    "n3. The item labeled as \"orange (6)\" in the far right is a yellow lemon.\n",
    "n2. The item labeled as \"orange (8)\" to the left of \"orange (6)\" is a yellow lemon.\n",
    "Given this information, the corrected list of labels with matching indices is:\\n\\n- lemon (0)\\n- orange (1)\\n- orange (2)\\n- lemon (3)\\n- orange (4)\\n- orange (5)\\n- lemon (6)\\n- orange (7)\\n- lemon (8)\\n- orange (9)\\n- orange (10)\\n- orange (11)\\n- orange (12)\\n- orange (13)\\n- orange (14)\\n- orange (15)\\n- orange (16)\\n- orange (17)\\n- orange (18)\n",
    "\"\"\""
   ]
  },
  {
   "cell_type": "code",
   "execution_count": 41,
   "metadata": {},
   "outputs": [],
   "source": [
    "text1 = \"\"\"\n",
    "You are planning a grasp for a robotic manipulator in a grocery bin. \n",
    "You will validate whether the labeled objects are present in the bin and correct the list of labels if there are any incongruities.\n",
    "For example if a the label in the image is \"apple (3)\" but the object is a \"pear\", you will correct the label to \"pear (3)\" in the format of the provided caption.\n",
    "The number in the image label corresponds to the index of the object in the list of objects.\n",
    "You are provided with a photo of the grocery bin, a photo of the indexed and labeled grocery bins, and a list of labels with matching indices.\n",
    "In your response, first identify any errors in the labels or missing labels. Then, finish your response in the format of the provided caption, with corrections applied.\n",
    "Make sure to mention the index of the fruit associated with the error.\n",
    "\n",
    "Here is an example of a caption:\n",
    "\"\"\"\n",
    "text1 = text1 + context"
   ]
  },
  {
   "cell_type": "code",
   "execution_count": 45,
   "metadata": {},
   "outputs": [
    {
     "data": {
      "text/plain": [
       "\"Now, please identifiy any errors or missing labels in the next image. Provided caption: \\npear (0): ([1003.6107110977173, 109.06752079725266, 1086.157660484314, 173.9412572979927], 'pear')\\npear (1): ([823.7149906158447, 91.88447713851929, 982.2424983978271, 239.59284782409668], 'pear')\\npear (2): ([573.7592506408691, 218.29054534435272, 660.1446342468262, 311.40706837177277], 'pear')\\npear (3): ([620.7485294342041, 263.33383083343506, 804.0051937103271, 411.74015522003174], 'pear')\\npear (4): ([953.1515741348267, 304.79566991329193, 1039.001441001892, 410.0387817621231], 'pear')\\npear (5): ([624.2333507537842, 260.7258278131485, 803.745927810669, 409.4582122564316], 'pear')\\npear (6): ([948.1863212585449, 302.46907353401184, 1031.769733428955, 430.90051531791687], 'pear')\\npear (7): ([501.7671251296997, 371.20080292224884, 600.0220441818237, 477.94571578502655], 'pear')\\npear (8): ([579.2618751525879, 393.62665593624115, 659.7358512878418, 501.1235100030899], 'pear')\\n\""
      ]
     },
     "execution_count": 45,
     "metadata": {},
     "output_type": "execute_result"
    }
   ],
   "source": [
    "text2 = \"\"\"Now, please identifiy any errors or missing labels in the next image. Provided caption: \"\"\"\n",
    "text2 = text2 + context_pear\n",
    "text2"
   ]
  },
  {
   "cell_type": "code",
   "execution_count": 50,
   "metadata": {},
   "outputs": [
    {
     "name": "stdout",
     "output_type": "stream",
     "text": [
      "{'id': 'chatcmpl-8q2phOt1556w4tx7WqU92SYBQLnYW', 'object': 'chat.completion', 'created': 1707414637, 'model': 'gpt-4-1106-vision-preview', 'usage': {'prompt_tokens': 3922, 'completion_tokens': 104, 'total_tokens': 4026}, 'choices': [{'message': {'role': 'assistant', 'content': 'Based on the provided image, here is a list of labels with corrections to the indices and types of fruits they correspond to:\\n\\n- pear (0)\\n- pear (1)\\n- pear (2)\\n- pear (3)\\n- pear (4)\\n- pear (5)\\n- pear (6)\\n- pear (7)\\n- pear (8)\\n\\nThere are no new fruits or vegetables in the image beyond the pears. Each labeled item appears to be a pear, correctly matching the label. No adjustments are needed.'}, 'finish_reason': 'stop', 'index': 0}]}\n"
     ]
    }
   ],
   "source": [
    "# Path to your image\n",
    "image_path = \"data_snapshots/rgb_image_ur5.png\"\n",
    "image_path_orange = 'data_snapshots/owlvit_inference-orange.png'\n",
    "image_path_pear = 'data_snapshots/owlvit_inference-pear.png'\n",
    "\n",
    "# Getting the base64 string\n",
    "base64_image = encode_image(image_path)\n",
    "base64_image_orange = encode_image(image_path_orange)\n",
    "base64_image_pear = encode_image(image_path_pear)\n",
    "\n",
    "api_key = os.getenv(\"OPENAI_API_KEY\")\n",
    "\n",
    "headers = {\n",
    "    \"Content-Type\": \"application/json\",\n",
    "    \"Authorization\": f\"Bearer {api_key}\"\n",
    "}\n",
    "\n",
    "\n",
    "\n",
    "# resp1 = \"\"\"\n",
    "# I see: [\"a photo of a lemon\", \"a photo of an apple\", \"a photo of a pear\", \"a photo of an onion\", \"a photo of a lime\"]\n",
    "# Labels: [\"lemon\", \"apple\", \"pear\", \"onion\", \"lime\"]\n",
    "# \"\"\"\n",
    "\n",
    "text2 = \"\"\"\n",
    "Please generate a list of labels for this new image of the grocery bin, in the same format.\n",
    "Are there any new fruits or vegetables?\n",
    "\"\"\"\n",
    "question = \"\"\"\n",
    "No further information required.\n",
    "Now I am looking at a painting of people looking at a shore.\n",
    "\"\"\"\n",
    "\n",
    "payload = {\n",
    "    \"model\": \"gpt-4-vision-preview\",\n",
    "    \"messages\": [\n",
    "      {\n",
    "        \"role\": \"user\",\n",
    "        \"content\": [\n",
    "          {\n",
    "            \"type\": \"text\",\n",
    "            \"text\": f\"{text1}\"\n",
    "          },\n",
    "          {\n",
    "            \"type\": \"image_url\",\n",
    "            \"image_url\": {\n",
    "              \"url\": f\"data:image/jpeg;base64,{base64_image}\"\n",
    "            }\n",
    "          },\n",
    "          {\n",
    "            \"type\": \"image_url\",\n",
    "            \"image_url\": {\n",
    "              \"url\": f\"data:image/jpeg;base64,{base64_image_orange}\"\n",
    "            }\n",
    "          }\n",
    "          ]\n",
    "      },\n",
    "      {\n",
    "        \"role\": \"assistant\",\n",
    "        \"content\": [\n",
    "          {\n",
    "            \"type\": \"text\",\n",
    "            \"text\": f\"{resp1}\"\n",
    "          }]\n",
    "      },\n",
    "      {\n",
    "        \"role\": \"user\",\n",
    "        \"content\": [\n",
    "          {\n",
    "            \"type\": \"text\",\n",
    "            \"text\": f\"{text2}\"\n",
    "          },\n",
    "          {\n",
    "            \"type\": \"image_url\",\n",
    "            \"image_url\": {\n",
    "              \"url\": f\"data:image/jpeg;base64,{base64_image}\"\n",
    "            }\n",
    "          }\n",
    "          ,\n",
    "          {\n",
    "            \"type\": \"image_url\",\n",
    "            \"image_url\": {\n",
    "              \"url\": f\"data:image/jpeg;base64,{base64_image_pear}\"\n",
    "            }\n",
    "          }\n",
    "          ]\n",
    "      }          \n",
    "      ],\n",
    "    \"max_tokens\": 1000\n",
    "}\n",
    "\n",
    "response = requests.post(\"https://api.openai.com/v1/chat/completions\", headers=headers, json=payload)\n",
    "\n",
    "print(response.json())"
   ]
  },
  {
   "cell_type": "code",
   "execution_count": 51,
   "metadata": {},
   "outputs": [
    {
     "data": {
      "text/plain": [
       "'Based on the provided image, here is a list of labels with corrections to the indices and types of fruits they correspond to:\\n\\n- pear (0)\\n- pear (1)\\n- pear (2)\\n- pear (3)\\n- pear (4)\\n- pear (5)\\n- pear (6)\\n- pear (7)\\n- pear (8)\\n\\nThere are no new fruits or vegetables in the image beyond the pears. Each labeled item appears to be a pear, correctly matching the label. No adjustments are needed.'"
      ]
     },
     "execution_count": 51,
     "metadata": {},
     "output_type": "execute_result"
    }
   ],
   "source": [
    "generation = response.json()[\"choices\"][0]['message']['content']\n",
    "generation"
   ]
  }
 ],
 "metadata": {
  "kernelspec": {
   "display_name": "Python 3",
   "language": "python",
   "name": "python3"
  },
  "language_info": {
   "codemirror_mode": {
    "name": "ipython",
    "version": 3
   },
   "file_extension": ".py",
   "mimetype": "text/x-python",
   "name": "python",
   "nbconvert_exporter": "python",
   "pygments_lexer": "ipython3",
   "version": "3.10.12"
  }
 },
 "nbformat": 4,
 "nbformat_minor": 2
}
