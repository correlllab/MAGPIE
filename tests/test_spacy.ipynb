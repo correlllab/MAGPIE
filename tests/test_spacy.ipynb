{
 "cells": [
  {
   "cell_type": "code",
   "execution_count": 1,
   "metadata": {},
   "outputs": [],
   "source": [
    "import spacy\n",
    "\n",
    "# Load the English model\n",
    "nlp = spacy.load(\"en_core_web_sm\")"
   ]
  },
  {
   "cell_type": "code",
   "execution_count": 2,
   "metadata": {},
   "outputs": [],
   "source": [
    "# The sentence to process\n",
    "sentence = \"pick up the blue block\"\n",
    "\n",
    "# Process the sentence using spaCy\n",
    "doc = nlp(sentence)"
   ]
  },
  {
   "cell_type": "code",
   "execution_count": 3,
   "metadata": {},
   "outputs": [
    {
     "name": "stdout",
     "output_type": "stream",
     "text": [
      "Adjective-Noun phrase for 'block': blue block\n"
     ]
    }
   ],
   "source": [
    "def get_adjective_noun_phrase(token):\n",
    "    # Get all tokens that depend on the token\n",
    "    dependents = [child for child in token.children]\n",
    "    \n",
    "    # Get adjectives that modify the token\n",
    "    adjectives = [child.text for child in dependents if child.dep_ == \"amod\"]\n",
    "    \n",
    "    # Combine the adjectives and the noun\n",
    "    phrase = \" \".join(adjectives + [token.text])\n",
    "    \n",
    "    return phrase\n",
    "\n",
    "# Extract the adjective and noun\n",
    "for token in doc:\n",
    "    if token.dep_ == \"dobj\":  # Direct object dependency\n",
    "        phrase = get_adjective_noun_phrase(token)\n",
    "        print(f\"Adjective-Noun phrase for '{token.text}': {phrase}\")"
   ]
  },
  {
   "cell_type": "code",
   "execution_count": 5,
   "metadata": {},
   "outputs": [
    {
     "name": "stdout",
     "output_type": "stream",
     "text": [
      "Adjective-Noun phrase for 'animal': stuffed animal\n"
     ]
    }
   ],
   "source": [
    "sentence = \"pick up the stuffed animal\"\n",
    "doc = nlp(sentence)\n",
    "for token in doc:\n",
    "    if token.dep_ == \"dobj\":  # Direct object dependency\n",
    "        phrase = get_adjective_noun_phrase(token)\n",
    "        print(f\"Adjective-Noun phrase for '{token.text}': {phrase}\")"
   ]
  },
  {
   "cell_type": "code",
   "execution_count": 4,
   "metadata": {},
   "outputs": [],
   "source": [
    "def parse_sentence(sentence):\n",
    "    # Process the sentence using spaCy\n",
    "    nlp = spacy.load(\"en_core_web_sm\")\n",
    "    doc = nlp(sentence)\n",
    "    \n",
    "    # Extract the adjective and noun\n",
    "    for token in doc:\n",
    "        if token.dep_ == \"dobj\":  # Direct object dependency\n",
    "            phrase = get_adjective_noun_phrase(token)\n",
    "            print(f\"Adjective-Noun phrase for '{token.text}': {phrase}\")"
   ]
  },
  {
   "cell_type": "code",
   "execution_count": 10,
   "metadata": {},
   "outputs": [
    {
     "name": "stdout",
     "output_type": "stream",
     "text": [
      "Adjective-Noun phrase for 'block': red block\n"
     ]
    }
   ],
   "source": [
    "parse_sentence(\"pick up the red block with aperture 20mm\")"
   ]
  },
  {
   "cell_type": "code",
   "execution_count": null,
   "metadata": {},
   "outputs": [],
   "source": []
  }
 ],
 "metadata": {
  "kernelspec": {
   "display_name": "Python 3",
   "language": "python",
   "name": "python3"
  },
  "language_info": {
   "codemirror_mode": {
    "name": "ipython",
    "version": 3
   },
   "file_extension": ".py",
   "mimetype": "text/x-python",
   "name": "python",
   "nbconvert_exporter": "python",
   "pygments_lexer": "ipython3",
   "version": "3.10.12"
  }
 },
 "nbformat": 4,
 "nbformat_minor": 2
}
