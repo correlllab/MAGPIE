{
 "cells": [
  {
   "cell_type": "code",
   "execution_count": 1,
   "metadata": {},
   "outputs": [],
   "source": [
    "from magpie import grasp as gt\n",
    "import rtde_control\n",
    "import rtde_receive\n",
    "from magpie.motor_code import Motors\n",
    "from magpie import ur5 as ur5\n",
    "import time\n",
    "import numpy as np\n",
    "import copy\n",
    "import magpie\n",
    "from magpie.gripper import Gripper\n",
    "from magpie import poses"
   ]
  },
  {
   "cell_type": "code",
   "execution_count": null,
   "metadata": {},
   "outputs": [],
   "source": [
    "# dict of z-value vs z-offset\n",
    "# 0.278: 0.1"
   ]
  },
  {
   "cell_type": "code",
   "execution_count": 30,
   "metadata": {},
   "outputs": [
    {
     "name": "stdout",
     "output_type": "stream",
     "text": [
      "[[ 0.569  0.026 -0.822 -0.012]\n",
      " [-0.72   0.5   -0.482 -0.017]\n",
      " [ 0.398  0.866  0.303  0.201]\n",
      " [ 0.     0.     0.     1.   ]]\n"
     ]
    }
   ],
   "source": [
    "tmat = np.array([[ 0.56880946,  0.02605214, -0.82205662, -0.0115574 ],\n",
    "        [-0.71963393,  0.49970328, -0.48210335, -0.01657833],\n",
    "        [ 0.39822456,  0.86580478,  0.30298396,  0.20080076],\n",
    "        [ 0.        ,  0.        ,  0.        ,  1.        ]])\n",
    "\n",
    "z_offset = 0.10\n",
    "# z_offset += -0.045\n",
    "\n",
    "# eye = np.eye(4)\n",
    "# eye[2, 3] = -z_offset\n",
    "\n",
    "# tmat = tmat @ eye\n",
    "print(tmat)\n",
    "aperture = 37\n",
    "# z_offset = G.aperture_to_z(aperture)/1000.0\n",
    "\n",
    "mmc = copy.deepcopy(tmat[:3, 3])\n",
    "# grasp_pose = [mmc[1], -mmc[0], mmc[2]]\n",
    "grasp_pose = mmc\n",
    "tmat[:3, 3] = [0, 0, 0]\n",
    "homePose = None\n"
   ]
  },
  {
   "cell_type": "code",
   "execution_count": 28,
   "metadata": {},
   "outputs": [
    {
     "name": "stdout",
     "output_type": "stream",
     "text": [
      "Succeeded to open the port\n",
      "Succeeded to change the baudrate\n",
      "[TxRxResult] There is no status packet!\n",
      "[[ 0.016 -0.935 -0.355 -0.302]\n",
      " [-0.998 -0.035  0.048 -0.061]\n",
      " [-0.057  0.353 -0.934  0.098]\n",
      " [ 0.     0.     0.     1.   ]]\n",
      "P_goal:\n",
      "[-0.017  0.016 -0.09 ]\n",
      "Done moving to block\n"
     ]
    }
   ],
   "source": [
    "# move gripper to cartesian pos\n",
    "# OR orient gripper in place\n",
    "sleepRate = 1.5\n",
    "# time.sleep(sleepRate)\n",
    "ur = ur5.UR5_Interface()\n",
    "try:\n",
    "    ur.start()\n",
    "    # homePose = ur.get_tcp_pose()\n",
    "    homePose = ur.getPose()\n",
    "    # print(\"Home pose: \", homePose)\n",
    "    \n",
    "    # in-place (or best attempt) re-orientation\n",
    "    # currentPose = ur.getPose()\n",
    "    # desiredPose = np.matmul(np.array(currentPose), tmat)\n",
    "    # ur.moveL(desiredPose)\n",
    "    # time.sleep(sleepRate * 1.2)\n",
    "\n",
    "    ## move to cartesian pos\n",
    "    gt.move_to_L(grasp_pose, ur, z_offset=z_offset)    \n",
    "    print(\"Done moving to block\")\n",
    "    time.sleep(sleepRate * 1.2)\n",
    "    ur.close_gripper()\n",
    "\n",
    "    ur.stop()\n",
    "except Exception as e:\n",
    "    ur.stop()\n",
    "    raise(e)"
   ]
  },
  {
   "cell_type": "code",
   "execution_count": 29,
   "metadata": {},
   "outputs": [
    {
     "name": "stdout",
     "output_type": "stream",
     "text": [
      "Succeeded to open the port\n",
      "Succeeded to change the baudrate\n",
      "[TxRxResult] There is no status packet!\n",
      "[TxRxResult] There is no status packet!\n"
     ]
    }
   ],
   "source": [
    "# move home\n",
    "ur = ur5.UR5_Interface()\n",
    "try:\n",
    "    ur.start()\n",
    "    ur.open_gripper()\n",
    "    # time.sleep(sleepRate)\n",
    "    # homePose = np.array([[-0.024, -0.998, -0.062, -0.261],\n",
    "    #                     [-0.999,  0.021,  0.035, -0.162],\n",
    "    #                     [-0.033,  0.063, -0.997,  0.221],\n",
    "    #                     [ 0.   ,  0.   ,  0.   ,  1.   ]])\n",
    "    ur.moveL(homePose)\n",
    "    # gt_home = ur.getPose()\n",
    "    # print(np.array(gt_home))\n",
    "    time.sleep(sleepRate * 1.1)\n",
    "    ur.stop()\n",
    "except Exception as e:\n",
    "    ur.stop()"
   ]
  }
 ],
 "metadata": {
  "kernelspec": {
   "display_name": "Python 3",
   "language": "python",
   "name": "python3"
  },
  "language_info": {
   "codemirror_mode": {
    "name": "ipython",
    "version": 3
   },
   "file_extension": ".py",
   "mimetype": "text/x-python",
   "name": "python",
   "nbconvert_exporter": "python",
   "pygments_lexer": "ipython3",
   "version": "3.10.12"
  }
 },
 "nbformat": 4,
 "nbformat_minor": 2
}
