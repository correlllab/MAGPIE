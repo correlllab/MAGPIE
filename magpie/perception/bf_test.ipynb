{
 "cells": [
  {
   "cell_type": "code",
   "execution_count": 3,
   "metadata": {},
   "outputs": [],
   "source": [
    "import filterpy.discrete_bayes as fdb\n",
    "import filterpy.kalman as fkf\n",
    "import numpy as np"
   ]
  },
  {
   "cell_type": "code",
   "execution_count": null,
   "metadata": {},
   "outputs": [],
   "source": [
    "# init state\n",
    "init = np.array([0.1, 0.8, 0.1])\n",
    "cov_i = np.eye(3) * 0.9\n",
    "kf = fkf.KalmanFilter(dim_x=3, dim_z=3)\n",
    "kf.x = init\n",
    "kf.P = cov_i\n",
    "\n",
    "# measurement noise covariance (msmt uncertainty)\n",
    "msmt_confidence = 0.8\n",
    "kf.R = np.eye(3) * (1 - msmt_confidence)\n",
    "# process noise covariance (model uncertainty)\n",
    "# set to small value since we don't expect much change between predictions\n",
    "kf.Q = np.eye(3) * 1e-5  # Adjust based on system dynamics\n",
    "\n",
    "\n",
    "msmt = np.array([0.15, 0.9, 0.2])"
   ]
  }
 ],
 "metadata": {
  "kernelspec": {
   "display_name": "Python 3",
   "language": "python",
   "name": "python3"
  },
  "language_info": {
   "codemirror_mode": {
    "name": "ipython",
    "version": 3
   },
   "file_extension": ".py",
   "mimetype": "text/x-python",
   "name": "python",
   "nbconvert_exporter": "python",
   "pygments_lexer": "ipython3",
   "version": "3.11.3"
  }
 },
 "nbformat": 4,
 "nbformat_minor": 2
}
